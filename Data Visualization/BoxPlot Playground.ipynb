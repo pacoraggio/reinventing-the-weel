{
 "cells": [
  {
   "cell_type": "code",
   "execution_count": 1,
   "id": "c6369461-9b48-4c54-9439-e40c5417e79f",
   "metadata": {},
   "outputs": [],
   "source": [
    "import pandas as pd\n",
    "import numpy as np\n",
    "\n",
    "import matplotlib.pyplot as plt\n",
    "import seaborn as sns\n",
    "\n",
    "import altair as alt"
   ]
  },
  {
   "cell_type": "code",
   "execution_count": 2,
   "id": "43b27445-e2a4-4dad-960e-f3e66d590bdd",
   "metadata": {},
   "outputs": [
    {
     "name": "stdout",
     "output_type": "stream",
     "text": [
      "Row ID                    int64\n",
      "Order ID                 object\n",
      "Order Date       datetime64[ns]\n",
      "Ship Date        datetime64[ns]\n",
      "Ship Mode                object\n",
      "Customer ID              object\n",
      "Customer Name            object\n",
      "Segment                  object\n",
      "Country                  object\n",
      "City                     object\n",
      "State                    object\n",
      "Postal Code               int64\n",
      "Region                   object\n",
      "Product ID               object\n",
      "Category                 object\n",
      "Sub-Category             object\n",
      "Product Name             object\n",
      "Sales                   float64\n",
      "Quantity                  int64\n",
      "Discount                float64\n",
      "Profit                  float64\n",
      "dtype: object\n"
     ]
    },
    {
     "data": {
      "text/html": [
       "<div>\n",
       "<style scoped>\n",
       "    .dataframe tbody tr th:only-of-type {\n",
       "        vertical-align: middle;\n",
       "    }\n",
       "\n",
       "    .dataframe tbody tr th {\n",
       "        vertical-align: top;\n",
       "    }\n",
       "\n",
       "    .dataframe thead th {\n",
       "        text-align: right;\n",
       "    }\n",
       "</style>\n",
       "<table border=\"1\" class=\"dataframe\">\n",
       "  <thead>\n",
       "    <tr style=\"text-align: right;\">\n",
       "      <th></th>\n",
       "      <th>Row ID</th>\n",
       "      <th>Order ID</th>\n",
       "      <th>Order Date</th>\n",
       "      <th>Ship Date</th>\n",
       "      <th>Ship Mode</th>\n",
       "      <th>Customer ID</th>\n",
       "      <th>Customer Name</th>\n",
       "      <th>Segment</th>\n",
       "      <th>Country</th>\n",
       "      <th>City</th>\n",
       "      <th>...</th>\n",
       "      <th>Postal Code</th>\n",
       "      <th>Region</th>\n",
       "      <th>Product ID</th>\n",
       "      <th>Category</th>\n",
       "      <th>Sub-Category</th>\n",
       "      <th>Product Name</th>\n",
       "      <th>Sales</th>\n",
       "      <th>Quantity</th>\n",
       "      <th>Discount</th>\n",
       "      <th>Profit</th>\n",
       "    </tr>\n",
       "  </thead>\n",
       "  <tbody>\n",
       "    <tr>\n",
       "      <th>0</th>\n",
       "      <td>1</td>\n",
       "      <td>CA-2016-152156</td>\n",
       "      <td>2016-11-08</td>\n",
       "      <td>2016-11-11</td>\n",
       "      <td>Second Class</td>\n",
       "      <td>CG-12520</td>\n",
       "      <td>Claire Gute</td>\n",
       "      <td>Consumer</td>\n",
       "      <td>United States</td>\n",
       "      <td>Henderson</td>\n",
       "      <td>...</td>\n",
       "      <td>42420</td>\n",
       "      <td>South</td>\n",
       "      <td>FUR-BO-10001798</td>\n",
       "      <td>Furniture</td>\n",
       "      <td>Bookcases</td>\n",
       "      <td>Bush Somerset Collection Bookcase</td>\n",
       "      <td>261.9600</td>\n",
       "      <td>2</td>\n",
       "      <td>0.00</td>\n",
       "      <td>41.9136</td>\n",
       "    </tr>\n",
       "    <tr>\n",
       "      <th>1</th>\n",
       "      <td>2</td>\n",
       "      <td>CA-2016-152156</td>\n",
       "      <td>2016-11-08</td>\n",
       "      <td>2016-11-11</td>\n",
       "      <td>Second Class</td>\n",
       "      <td>CG-12520</td>\n",
       "      <td>Claire Gute</td>\n",
       "      <td>Consumer</td>\n",
       "      <td>United States</td>\n",
       "      <td>Henderson</td>\n",
       "      <td>...</td>\n",
       "      <td>42420</td>\n",
       "      <td>South</td>\n",
       "      <td>FUR-CH-10000454</td>\n",
       "      <td>Furniture</td>\n",
       "      <td>Chairs</td>\n",
       "      <td>Hon Deluxe Fabric Upholstered Stacking Chairs,...</td>\n",
       "      <td>731.9400</td>\n",
       "      <td>3</td>\n",
       "      <td>0.00</td>\n",
       "      <td>219.5820</td>\n",
       "    </tr>\n",
       "    <tr>\n",
       "      <th>2</th>\n",
       "      <td>3</td>\n",
       "      <td>CA-2016-138688</td>\n",
       "      <td>2016-06-12</td>\n",
       "      <td>2016-06-16</td>\n",
       "      <td>Second Class</td>\n",
       "      <td>DV-13045</td>\n",
       "      <td>Darrin Van Huff</td>\n",
       "      <td>Corporate</td>\n",
       "      <td>United States</td>\n",
       "      <td>Los Angeles</td>\n",
       "      <td>...</td>\n",
       "      <td>90036</td>\n",
       "      <td>West</td>\n",
       "      <td>OFF-LA-10000240</td>\n",
       "      <td>Office Supplies</td>\n",
       "      <td>Labels</td>\n",
       "      <td>Self-Adhesive Address Labels for Typewriters b...</td>\n",
       "      <td>14.6200</td>\n",
       "      <td>2</td>\n",
       "      <td>0.00</td>\n",
       "      <td>6.8714</td>\n",
       "    </tr>\n",
       "    <tr>\n",
       "      <th>3</th>\n",
       "      <td>4</td>\n",
       "      <td>US-2015-108966</td>\n",
       "      <td>2015-10-11</td>\n",
       "      <td>2015-10-18</td>\n",
       "      <td>Standard Class</td>\n",
       "      <td>SO-20335</td>\n",
       "      <td>Sean O'Donnell</td>\n",
       "      <td>Consumer</td>\n",
       "      <td>United States</td>\n",
       "      <td>Fort Lauderdale</td>\n",
       "      <td>...</td>\n",
       "      <td>33311</td>\n",
       "      <td>South</td>\n",
       "      <td>FUR-TA-10000577</td>\n",
       "      <td>Furniture</td>\n",
       "      <td>Tables</td>\n",
       "      <td>Bretford CR4500 Series Slim Rectangular Table</td>\n",
       "      <td>957.5775</td>\n",
       "      <td>5</td>\n",
       "      <td>0.45</td>\n",
       "      <td>-383.0310</td>\n",
       "    </tr>\n",
       "    <tr>\n",
       "      <th>4</th>\n",
       "      <td>5</td>\n",
       "      <td>US-2015-108966</td>\n",
       "      <td>2015-10-11</td>\n",
       "      <td>2015-10-18</td>\n",
       "      <td>Standard Class</td>\n",
       "      <td>SO-20335</td>\n",
       "      <td>Sean O'Donnell</td>\n",
       "      <td>Consumer</td>\n",
       "      <td>United States</td>\n",
       "      <td>Fort Lauderdale</td>\n",
       "      <td>...</td>\n",
       "      <td>33311</td>\n",
       "      <td>South</td>\n",
       "      <td>OFF-ST-10000760</td>\n",
       "      <td>Office Supplies</td>\n",
       "      <td>Storage</td>\n",
       "      <td>Eldon Fold 'N Roll Cart System</td>\n",
       "      <td>22.3680</td>\n",
       "      <td>2</td>\n",
       "      <td>0.20</td>\n",
       "      <td>2.5164</td>\n",
       "    </tr>\n",
       "  </tbody>\n",
       "</table>\n",
       "<p>5 rows × 21 columns</p>\n",
       "</div>"
      ],
      "text/plain": [
       "   Row ID        Order ID Order Date  Ship Date       Ship Mode Customer ID  \\\n",
       "0       1  CA-2016-152156 2016-11-08 2016-11-11    Second Class    CG-12520   \n",
       "1       2  CA-2016-152156 2016-11-08 2016-11-11    Second Class    CG-12520   \n",
       "2       3  CA-2016-138688 2016-06-12 2016-06-16    Second Class    DV-13045   \n",
       "3       4  US-2015-108966 2015-10-11 2015-10-18  Standard Class    SO-20335   \n",
       "4       5  US-2015-108966 2015-10-11 2015-10-18  Standard Class    SO-20335   \n",
       "\n",
       "     Customer Name    Segment        Country             City  ...  \\\n",
       "0      Claire Gute   Consumer  United States        Henderson  ...   \n",
       "1      Claire Gute   Consumer  United States        Henderson  ...   \n",
       "2  Darrin Van Huff  Corporate  United States      Los Angeles  ...   \n",
       "3   Sean O'Donnell   Consumer  United States  Fort Lauderdale  ...   \n",
       "4   Sean O'Donnell   Consumer  United States  Fort Lauderdale  ...   \n",
       "\n",
       "  Postal Code  Region       Product ID         Category Sub-Category  \\\n",
       "0       42420   South  FUR-BO-10001798        Furniture    Bookcases   \n",
       "1       42420   South  FUR-CH-10000454        Furniture       Chairs   \n",
       "2       90036    West  OFF-LA-10000240  Office Supplies       Labels   \n",
       "3       33311   South  FUR-TA-10000577        Furniture       Tables   \n",
       "4       33311   South  OFF-ST-10000760  Office Supplies      Storage   \n",
       "\n",
       "                                        Product Name     Sales  Quantity  \\\n",
       "0                  Bush Somerset Collection Bookcase  261.9600         2   \n",
       "1  Hon Deluxe Fabric Upholstered Stacking Chairs,...  731.9400         3   \n",
       "2  Self-Adhesive Address Labels for Typewriters b...   14.6200         2   \n",
       "3      Bretford CR4500 Series Slim Rectangular Table  957.5775         5   \n",
       "4                     Eldon Fold 'N Roll Cart System   22.3680         2   \n",
       "\n",
       "   Discount    Profit  \n",
       "0      0.00   41.9136  \n",
       "1      0.00  219.5820  \n",
       "2      0.00    6.8714  \n",
       "3      0.45 -383.0310  \n",
       "4      0.20    2.5164  \n",
       "\n",
       "[5 rows x 21 columns]"
      ]
     },
     "execution_count": 2,
     "metadata": {},
     "output_type": "execute_result"
    }
   ],
   "source": [
    "data = pd.read_excel('./data/superstore_data.xlsx')\n",
    "print(data.dtypes)\n",
    "data.head()"
   ]
  },
  {
   "cell_type": "code",
   "execution_count": 3,
   "id": "1a299e61-e05e-47dc-8bbc-d013d8d5c239",
   "metadata": {},
   "outputs": [],
   "source": [
    "data = data[['Region', 'Sub-Category', 'Sales', 'Quantity', 'Discount', 'Profit']]"
   ]
  },
  {
   "cell_type": "code",
   "execution_count": 4,
   "id": "97af667d-d1de-4ccf-b768-d6615593f527",
   "metadata": {},
   "outputs": [],
   "source": [
    "def sum_and_round(x):\n",
    "    if np.issubdtype(x.dtype, np.floating):\n",
    "        return round(x.sum(), 0)\n",
    "    else:\n",
    "        return x.sum()"
   ]
  },
  {
   "cell_type": "code",
   "execution_count": 5,
   "id": "1543fae5-9400-4a2b-bf54-30b6c3a69b71",
   "metadata": {},
   "outputs": [],
   "source": [
    "def mean_and_round(x):\n",
    "    if np.issubdtype(x.dtype, np.floating):\n",
    "        return round(x.mean(), 2)\n",
    "    else:\n",
    "        return x.mean()"
   ]
  },
  {
   "cell_type": "code",
   "execution_count": 9,
   "id": "0e1cdba2-dc3e-4026-a0f0-403964851e94",
   "metadata": {},
   "outputs": [],
   "source": [
    "df_subcategory_sales = (data\n",
    " .groupby('Sub-Category', observed=True)\n",
    " .agg(\n",
    "     sales = ('Sales', sum_and_round),\n",
    " )\n",
    ").reset_index()"
   ]
  },
  {
   "cell_type": "code",
   "execution_count": 21,
   "id": "2a3e7c27-6145-43bd-8f2b-05be921652b7",
   "metadata": {},
   "outputs": [
    {
     "data": {
      "text/html": [
       "\n",
       "<style>\n",
       "  #altair-viz-751695dc3a3d4e0688bb7fcd22d18f17.vega-embed {\n",
       "    width: 100%;\n",
       "    display: flex;\n",
       "  }\n",
       "\n",
       "  #altair-viz-751695dc3a3d4e0688bb7fcd22d18f17.vega-embed details,\n",
       "  #altair-viz-751695dc3a3d4e0688bb7fcd22d18f17.vega-embed details summary {\n",
       "    position: relative;\n",
       "  }\n",
       "</style>\n",
       "<div id=\"altair-viz-751695dc3a3d4e0688bb7fcd22d18f17\"></div>\n",
       "<script type=\"text/javascript\">\n",
       "  var VEGA_DEBUG = (typeof VEGA_DEBUG == \"undefined\") ? {} : VEGA_DEBUG;\n",
       "  (function(spec, embedOpt){\n",
       "    let outputDiv = document.currentScript.previousElementSibling;\n",
       "    if (outputDiv.id !== \"altair-viz-751695dc3a3d4e0688bb7fcd22d18f17\") {\n",
       "      outputDiv = document.getElementById(\"altair-viz-751695dc3a3d4e0688bb7fcd22d18f17\");\n",
       "    }\n",
       "    const paths = {\n",
       "      \"vega\": \"https://cdn.jsdelivr.net/npm/vega@5?noext\",\n",
       "      \"vega-lib\": \"https://cdn.jsdelivr.net/npm/vega-lib?noext\",\n",
       "      \"vega-lite\": \"https://cdn.jsdelivr.net/npm/vega-lite@5.20.1?noext\",\n",
       "      \"vega-embed\": \"https://cdn.jsdelivr.net/npm/vega-embed@6?noext\",\n",
       "    };\n",
       "\n",
       "    function maybeLoadScript(lib, version) {\n",
       "      var key = `${lib.replace(\"-\", \"\")}_version`;\n",
       "      return (VEGA_DEBUG[key] == version) ?\n",
       "        Promise.resolve(paths[lib]) :\n",
       "        new Promise(function(resolve, reject) {\n",
       "          var s = document.createElement('script');\n",
       "          document.getElementsByTagName(\"head\")[0].appendChild(s);\n",
       "          s.async = true;\n",
       "          s.onload = () => {\n",
       "            VEGA_DEBUG[key] = version;\n",
       "            return resolve(paths[lib]);\n",
       "          };\n",
       "          s.onerror = () => reject(`Error loading script: ${paths[lib]}`);\n",
       "          s.src = paths[lib];\n",
       "        });\n",
       "    }\n",
       "\n",
       "    function showError(err) {\n",
       "      outputDiv.innerHTML = `<div class=\"error\" style=\"color:red;\">${err}</div>`;\n",
       "      throw err;\n",
       "    }\n",
       "\n",
       "    function displayChart(vegaEmbed) {\n",
       "      vegaEmbed(outputDiv, spec, embedOpt)\n",
       "        .catch(err => showError(`Javascript Error: ${err.message}<br>This usually means there's a typo in your chart specification. See the javascript console for the full traceback.`));\n",
       "    }\n",
       "\n",
       "    if(typeof define === \"function\" && define.amd) {\n",
       "      requirejs.config({paths});\n",
       "      require([\"vega-embed\"], displayChart, err => showError(`Error loading script: ${err.message}`));\n",
       "    } else {\n",
       "      maybeLoadScript(\"vega\", \"5\")\n",
       "        .then(() => maybeLoadScript(\"vega-lite\", \"5.20.1\"))\n",
       "        .then(() => maybeLoadScript(\"vega-embed\", \"6\"))\n",
       "        .catch(showError)\n",
       "        .then(() => displayChart(vegaEmbed));\n",
       "    }\n",
       "  })({\"config\": {\"view\": {\"continuousWidth\": 300, \"continuousHeight\": 300}}, \"layer\": [{\"mark\": {\"type\": \"boxplot\", \"size\": 25}, \"encoding\": {\"x\": {\"field\": \"sales\", \"type\": \"quantitative\"}}}, {\"mark\": {\"type\": \"point\", \"color\": \"#953f0a\", \"filled\": true, \"opacity\": 0.8, \"size\": 50}, \"encoding\": {\"tooltip\": [{\"field\": \"Sub-Category\", \"type\": \"nominal\"}, {\"field\": \"sales\", \"type\": \"quantitative\"}], \"x\": {\"field\": \"sales\", \"type\": \"quantitative\"}}}], \"data\": {\"name\": \"data-b4d4e9afd3528ba5e11d25b724c63666\"}, \"height\": 180, \"title\": \"Sales by Sub-category box plot\", \"width\": 620, \"$schema\": \"https://vega.github.io/schema/vega-lite/v5.20.1.json\", \"datasets\": {\"data-b4d4e9afd3528ba5e11d25b724c63666\": [{\"Sub-Category\": \"Accessories\", \"sales\": 167380.0}, {\"Sub-Category\": \"Appliances\", \"sales\": 107532.0}, {\"Sub-Category\": \"Art\", \"sales\": 27119.0}, {\"Sub-Category\": \"Binders\", \"sales\": 203413.0}, {\"Sub-Category\": \"Bookcases\", \"sales\": 114880.0}, {\"Sub-Category\": \"Chairs\", \"sales\": 328449.0}, {\"Sub-Category\": \"Copiers\", \"sales\": 149528.0}, {\"Sub-Category\": \"Envelopes\", \"sales\": 16476.0}, {\"Sub-Category\": \"Fasteners\", \"sales\": 3024.0}, {\"Sub-Category\": \"Furnishings\", \"sales\": 91705.0}, {\"Sub-Category\": \"Labels\", \"sales\": 12486.0}, {\"Sub-Category\": \"Machines\", \"sales\": 189239.0}, {\"Sub-Category\": \"Paper\", \"sales\": 78479.0}, {\"Sub-Category\": \"Phones\", \"sales\": 330007.0}, {\"Sub-Category\": \"Storage\", \"sales\": 223844.0}, {\"Sub-Category\": \"Supplies\", \"sales\": 46674.0}, {\"Sub-Category\": \"Tables\", \"sales\": 206966.0}]}}, {\"mode\": \"vega-lite\"});\n",
       "</script>"
      ],
      "text/plain": [
       "alt.LayerChart(...)"
      ]
     },
     "execution_count": 21,
     "metadata": {},
     "output_type": "execute_result"
    }
   ],
   "source": [
    "points = (alt\n",
    "          .Chart(df_subcategory_sales)\n",
    "          .mark_point(size = 50, filled=True, opacity=0.8, color = '#953f0a')\n",
    "          .encode(\n",
    "              x = alt.X('sales:Q'),\n",
    "              tooltip = ['Sub-Category:N', 'sales:Q']                        \n",
    "          )\n",
    "         )\n",
    "\n",
    "box = (alt\n",
    "       .Chart(df_subcategory_sales)\n",
    "       .mark_boxplot(size = 25)\n",
    "       .encode(\n",
    "           x = alt.X('sales:Q'),\n",
    "#           y = 'Region'\n",
    "       )\n",
    "      )\n",
    "       \n",
    "\n",
    "chart = (box + points).properties(\n",
    "    title = 'Sales by Sub-category box plot',\n",
    "    width = 620,\n",
    "    height = 180\n",
    ")\n",
    "\n",
    "chart"
   ]
  },
  {
   "cell_type": "markdown",
   "id": "2d938258-40ba-48c6-8d29-c1658b9d16c0",
   "metadata": {},
   "source": [
    "## Median"
   ]
  },
  {
   "cell_type": "markdown",
   "id": "5d14b284-6580-44ab-b203-7d2b9a144cf7",
   "metadata": {},
   "source": [
    "- Definition\n",
    "\n",
    "> The ***median*** of a data set is its middle number when sorted in an ascending or descending order. It's the point above and below which $50\\%$ of the observed data falls so it represents the midpoint of the data. \n",
    "\n",
    "The median is also said to be the $1/2$ quantile, and is a cut point dividing the dataset in its first and second half of data. For discrete sets of data point, we can have one median or multiple median points. Consider the sum of sales for each Sub-Category of the Super Store dataset. This dataset contains 17 elements. If we order the data, its 9<sup>th</sup> element is the median of the dataset as 8 elements, i.e. the $50\\%$ are smaller than the median and 8 elements are greater."
   ]
  },
  {
   "cell_type": "code",
   "execution_count": 23,
   "id": "e5fb3cf2-e873-4980-b650-4d5fd3c4a0d1",
   "metadata": {},
   "outputs": [
    {
     "data": {
      "text/plain": [
       "array([  3024.,  12486.,  16476.,  27119.,  46674.,  78479.,  91705.,\n",
       "       107532.])"
      ]
     },
     "execution_count": 23,
     "metadata": {},
     "output_type": "execute_result"
    }
   ],
   "source": [
    "df_subcategory_sales.sort_values('sales')['sales'].values[:8]"
   ]
  },
  {
   "cell_type": "code",
   "execution_count": 24,
   "id": "5c4cf8f5-51ba-4476-8c83-c4b19017ac04",
   "metadata": {},
   "outputs": [
    {
     "data": {
      "text/plain": [
       "Sub-Category    Bookcases\n",
       "sales            114880.0\n",
       "Name: 4, dtype: object"
      ]
     },
     "execution_count": 24,
     "metadata": {},
     "output_type": "execute_result"
    }
   ],
   "source": [
    "df_subcategory_sales.sort_values('sales').iloc[8]"
   ]
  },
  {
   "cell_type": "code",
   "execution_count": 26,
   "id": "0e8b5e26-bb32-4089-99da-a20282ff4757",
   "metadata": {},
   "outputs": [
    {
     "data": {
      "text/plain": [
       "array([149528., 167380., 189239., 203413., 206966., 223844., 328449.,\n",
       "       330007.])"
      ]
     },
     "execution_count": 26,
     "metadata": {},
     "output_type": "execute_result"
    }
   ],
   "source": [
    "df_subcategory_sales.sort_values('sales')['sales'].values[9:]"
   ]
  },
  {
   "cell_type": "code",
   "execution_count": null,
   "id": "80760937-5756-42c6-a3ba-1fa46a612369",
   "metadata": {},
   "outputs": [],
   "source": []
  },
  {
   "cell_type": "code",
   "execution_count": null,
   "id": "f0ed7a83-a537-4677-8a11-29c44bb738d9",
   "metadata": {},
   "outputs": [],
   "source": [
    "data.columns"
   ]
  },
  {
   "cell_type": "code",
   "execution_count": null,
   "id": "b8624603-f745-444f-98bf-c5a9ae8cb273",
   "metadata": {},
   "outputs": [],
   "source": [
    "data = data[['Region', 'Sub-Category', 'Sales', 'Quantity', 'Discount', 'Profit']]\n",
    "data.head()"
   ]
  },
  {
   "cell_type": "code",
   "execution_count": null,
   "id": "3f48529c-e64e-4e2e-a408-ecc9fbc5b305",
   "metadata": {},
   "outputs": [],
   "source": [
    "def mean_and_round(x):\n",
    "    if np.issubdtype(x.dtype, np.floating):\n",
    "        return round(x.mean(), 2)\n",
    "    else:\n",
    "        return x.mean()"
   ]
  },
  {
   "cell_type": "code",
   "execution_count": null,
   "id": "7eaed2e8-9791-465c-8ddc-0c8cf2707f6f",
   "metadata": {},
   "outputs": [],
   "source": [
    "def sum_and_round(x):\n",
    "    if np.issubdtype(x.dtype, np.floating):\n",
    "        return round(x.sum(), 0)\n",
    "    else:\n",
    "        return x.sum()"
   ]
  },
  {
   "cell_type": "code",
   "execution_count": null,
   "id": "8836dd01-f9f3-4459-986b-71d16365faad",
   "metadata": {},
   "outputs": [],
   "source": [
    "def mean_and_round(x):\n",
    "    if np.issubdtype(x.dtype, np.floating):\n",
    "        return round(x.mean(), 2)\n",
    "    else:\n",
    "        return x.mean()"
   ]
  },
  {
   "cell_type": "code",
   "execution_count": null,
   "id": "7c3aeb41-62ac-4f16-b4f9-54f0f404ab69",
   "metadata": {},
   "outputs": [],
   "source": [
    "boxplot_data = (data\n",
    " .groupby(['Region', 'Sub-Category'])\n",
    " .agg(\n",
    "     sales = ('Sales', sum_and_round),\n",
    "     quantity = ('Quantity', 'sum'),\n",
    "     discount = ('Discount', mean_and_round),\n",
    "     profit = ('Profit', sum_and_round)\n",
    " )\n",
    ").reset_index()"
   ]
  },
  {
   "cell_type": "code",
   "execution_count": null,
   "id": "9b2aff06-a6b8-4b2e-92e3-031689487d78",
   "metadata": {},
   "outputs": [],
   "source": [
    "boxplot_data"
   ]
  },
  {
   "cell_type": "code",
   "execution_count": null,
   "id": "5b1e5428-41a4-4179-85ab-57d5026eee63",
   "metadata": {},
   "outputs": [],
   "source": [
    "(alt\n",
    " .Chart(boxplot_data)\n",
    " .mark_boxplot(size = 10)\n",
    " .encode(\n",
    "     x = alt.X('profit:Q'),\n",
    "     y = 'Region',\n",
    "     color = 'Region'\n",
    " )\n",
    ")"
   ]
  },
  {
   "cell_type": "code",
   "execution_count": 18,
   "id": "d95e7bbd-a144-4224-9201-2cdebef79a60",
   "metadata": {},
   "outputs": [
    {
     "ename": "NameError",
     "evalue": "name 'boxplot_data' is not defined",
     "output_type": "error",
     "traceback": [
      "\u001b[1;31m---------------------------------------------------------------------------\u001b[0m",
      "\u001b[1;31mNameError\u001b[0m                                 Traceback (most recent call last)",
      "Cell \u001b[1;32mIn[18], line 2\u001b[0m\n\u001b[0;32m      1\u001b[0m points \u001b[38;5;241m=\u001b[39m (alt\n\u001b[1;32m----> 2\u001b[0m           \u001b[38;5;241m.\u001b[39mChart(boxplot_data)\n\u001b[0;32m      3\u001b[0m           \u001b[38;5;241m.\u001b[39mmark_point(size \u001b[38;5;241m=\u001b[39m \u001b[38;5;241m50\u001b[39m, filled\u001b[38;5;241m=\u001b[39m\u001b[38;5;28;01mTrue\u001b[39;00m, opacity\u001b[38;5;241m=\u001b[39m\u001b[38;5;241m0.8\u001b[39m, color \u001b[38;5;241m=\u001b[39m \u001b[38;5;124m'\u001b[39m\u001b[38;5;124m#953f0a\u001b[39m\u001b[38;5;124m'\u001b[39m)\n\u001b[0;32m      4\u001b[0m           \u001b[38;5;241m.\u001b[39mencode(\n\u001b[0;32m      5\u001b[0m               x \u001b[38;5;241m=\u001b[39m alt\u001b[38;5;241m.\u001b[39mX(\u001b[38;5;124m'\u001b[39m\u001b[38;5;124mprofit:Q\u001b[39m\u001b[38;5;124m'\u001b[39m),\n\u001b[0;32m      6\u001b[0m               y \u001b[38;5;241m=\u001b[39m \u001b[38;5;124m'\u001b[39m\u001b[38;5;124mRegion\u001b[39m\u001b[38;5;124m'\u001b[39m,\n\u001b[0;32m      7\u001b[0m               tooltip \u001b[38;5;241m=\u001b[39m [\u001b[38;5;124m'\u001b[39m\u001b[38;5;124mSub-Category:N\u001b[39m\u001b[38;5;124m'\u001b[39m, \u001b[38;5;124m'\u001b[39m\u001b[38;5;124msales:Q\u001b[39m\u001b[38;5;124m'\u001b[39m]                        \n\u001b[0;32m      8\u001b[0m           )\n\u001b[0;32m      9\u001b[0m          )\n\u001b[0;32m     11\u001b[0m box \u001b[38;5;241m=\u001b[39m (alt\n\u001b[0;32m     12\u001b[0m        \u001b[38;5;241m.\u001b[39mChart(boxplot_data)\n\u001b[0;32m     13\u001b[0m        \u001b[38;5;241m.\u001b[39mmark_boxplot(size \u001b[38;5;241m=\u001b[39m \u001b[38;5;241m25\u001b[39m)\n\u001b[1;32m   (...)\u001b[0m\n\u001b[0;32m     17\u001b[0m        )\n\u001b[0;32m     18\u001b[0m       )\n\u001b[0;32m     21\u001b[0m chart \u001b[38;5;241m=\u001b[39m (box \u001b[38;5;241m+\u001b[39m points)\u001b[38;5;241m.\u001b[39mproperties(\n\u001b[0;32m     22\u001b[0m     title \u001b[38;5;241m=\u001b[39m \u001b[38;5;124m'\u001b[39m\u001b[38;5;124mSales by Sub-category box plot\u001b[39m\u001b[38;5;124m'\u001b[39m,\n\u001b[0;32m     23\u001b[0m     width \u001b[38;5;241m=\u001b[39m \u001b[38;5;241m620\u001b[39m,\n\u001b[0;32m     24\u001b[0m     height \u001b[38;5;241m=\u001b[39m \u001b[38;5;241m180\u001b[39m\n\u001b[0;32m     25\u001b[0m )\n",
      "\u001b[1;31mNameError\u001b[0m: name 'boxplot_data' is not defined"
     ]
    }
   ],
   "source": [
    "points = (alt\n",
    "          .Chart(boxplot_data)\n",
    "          .mark_point(size = 50, filled=True, opacity=0.8, color = '#953f0a')\n",
    "          .encode(\n",
    "              x = alt.X('profit:Q'),\n",
    "              y = 'Region',\n",
    "              tooltip = ['Sub-Category:N', 'sales:Q']                        \n",
    "          )\n",
    "         )\n",
    "\n",
    "box = (alt\n",
    "       .Chart(boxplot_data)\n",
    "       .mark_boxplot(size = 25)\n",
    "       .encode(\n",
    "           x = alt.X('profit:Q'),\n",
    "           y = 'Region'\n",
    "       )\n",
    "      )\n",
    "       \n",
    "\n",
    "chart = (box + points).properties(\n",
    "    title = 'Sales by Sub-category box plot',\n",
    "    width = 620,\n",
    "    height = 180\n",
    ")\n",
    "\n",
    "chart"
   ]
  },
  {
   "cell_type": "markdown",
   "id": "bc710d8c-9f77-401e-81dc-bbd807ff15ec",
   "metadata": {},
   "source": [
    "## Median"
   ]
  },
  {
   "cell_type": "markdown",
   "id": "128c951b-894c-4b2b-85a8-5f8614e92fad",
   "metadata": {},
   "source": [
    "- Definition\n",
    "\n",
    "> The ***median*** of a data set is its middle number when sorted in an ascending or descending order. It's the point above and below which $50\\%$ of the observed data falls so it represents the midpoint of the data. \n",
    "\n",
    "The median is also said to be the $1/2$ quantile, and is a cut point dividing the dataset in its first and second half of data. For discrete sets of data point, we can have one median or multiple median points. Consider the sum of sales for each Sub-Category of the Super Store datased."
   ]
  },
  {
   "cell_type": "code",
   "execution_count": null,
   "id": "ae2a0921-e8c1-4b92-b9c4-639f5679b2ba",
   "metadata": {},
   "outputs": [],
   "source": []
  },
  {
   "cell_type": "markdown",
   "id": "866622ae-4a78-4163-9966-34adcf90e771",
   "metadata": {},
   "source": [
    "## Quartile"
   ]
  },
  {
   "cell_type": "markdown",
   "id": "f955943b-9ae8-4587-ae9d-a9cefc32e174",
   "metadata": {},
   "source": [
    "To describe how to compute quartiles, let's consider two data set with an even and an odd number of elements"
   ]
  },
  {
   "cell_type": "code",
   "execution_count": null,
   "id": "3509e330-058d-4de8-b609-177a34c55a3a",
   "metadata": {},
   "outputs": [],
   "source": [
    "df_subcategory_sales = (data\n",
    " .groupby('Sub-Category', observed=True)\n",
    " .agg(\n",
    "     profit = ('Profit', sum_and_round),\n",
    " )\n",
    ").sort_values('profit').reset_index()"
   ]
  },
  {
   "cell_type": "code",
   "execution_count": null,
   "id": "7d3cfa8b-d0a0-455f-b778-4460e927f1e1",
   "metadata": {},
   "outputs": [],
   "source": [
    "df_subcategory_sales.shape[0]"
   ]
  },
  {
   "cell_type": "code",
   "execution_count": 19,
   "id": "de21c085-7012-41e5-b37d-85cbd736f094",
   "metadata": {},
   "outputs": [
    {
     "data": {
      "text/html": [
       "\n",
       "<style>\n",
       "  #altair-viz-2bca2642b3f24dd2b486e4198915d772.vega-embed {\n",
       "    width: 100%;\n",
       "    display: flex;\n",
       "  }\n",
       "\n",
       "  #altair-viz-2bca2642b3f24dd2b486e4198915d772.vega-embed details,\n",
       "  #altair-viz-2bca2642b3f24dd2b486e4198915d772.vega-embed details summary {\n",
       "    position: relative;\n",
       "  }\n",
       "</style>\n",
       "<div id=\"altair-viz-2bca2642b3f24dd2b486e4198915d772\"></div>\n",
       "<script type=\"text/javascript\">\n",
       "  var VEGA_DEBUG = (typeof VEGA_DEBUG == \"undefined\") ? {} : VEGA_DEBUG;\n",
       "  (function(spec, embedOpt){\n",
       "    let outputDiv = document.currentScript.previousElementSibling;\n",
       "    if (outputDiv.id !== \"altair-viz-2bca2642b3f24dd2b486e4198915d772\") {\n",
       "      outputDiv = document.getElementById(\"altair-viz-2bca2642b3f24dd2b486e4198915d772\");\n",
       "    }\n",
       "    const paths = {\n",
       "      \"vega\": \"https://cdn.jsdelivr.net/npm/vega@5?noext\",\n",
       "      \"vega-lib\": \"https://cdn.jsdelivr.net/npm/vega-lib?noext\",\n",
       "      \"vega-lite\": \"https://cdn.jsdelivr.net/npm/vega-lite@5.20.1?noext\",\n",
       "      \"vega-embed\": \"https://cdn.jsdelivr.net/npm/vega-embed@6?noext\",\n",
       "    };\n",
       "\n",
       "    function maybeLoadScript(lib, version) {\n",
       "      var key = `${lib.replace(\"-\", \"\")}_version`;\n",
       "      return (VEGA_DEBUG[key] == version) ?\n",
       "        Promise.resolve(paths[lib]) :\n",
       "        new Promise(function(resolve, reject) {\n",
       "          var s = document.createElement('script');\n",
       "          document.getElementsByTagName(\"head\")[0].appendChild(s);\n",
       "          s.async = true;\n",
       "          s.onload = () => {\n",
       "            VEGA_DEBUG[key] = version;\n",
       "            return resolve(paths[lib]);\n",
       "          };\n",
       "          s.onerror = () => reject(`Error loading script: ${paths[lib]}`);\n",
       "          s.src = paths[lib];\n",
       "        });\n",
       "    }\n",
       "\n",
       "    function showError(err) {\n",
       "      outputDiv.innerHTML = `<div class=\"error\" style=\"color:red;\">${err}</div>`;\n",
       "      throw err;\n",
       "    }\n",
       "\n",
       "    function displayChart(vegaEmbed) {\n",
       "      vegaEmbed(outputDiv, spec, embedOpt)\n",
       "        .catch(err => showError(`Javascript Error: ${err.message}<br>This usually means there's a typo in your chart specification. See the javascript console for the full traceback.`));\n",
       "    }\n",
       "\n",
       "    if(typeof define === \"function\" && define.amd) {\n",
       "      requirejs.config({paths});\n",
       "      require([\"vega-embed\"], displayChart, err => showError(`Error loading script: ${err.message}`));\n",
       "    } else {\n",
       "      maybeLoadScript(\"vega\", \"5\")\n",
       "        .then(() => maybeLoadScript(\"vega-lite\", \"5.20.1\"))\n",
       "        .then(() => maybeLoadScript(\"vega-embed\", \"6\"))\n",
       "        .catch(showError)\n",
       "        .then(() => displayChart(vegaEmbed));\n",
       "    }\n",
       "  })({\"config\": {\"view\": {\"continuousWidth\": 300, \"continuousHeight\": 300}}, \"layer\": [{\"mark\": {\"type\": \"boxplot\", \"size\": 25}, \"encoding\": {\"x\": {\"field\": \"profit\", \"type\": \"quantitative\"}}}, {\"mark\": {\"type\": \"point\", \"color\": \"#953f0a\", \"filled\": true, \"opacity\": 0.8, \"size\": 50}, \"encoding\": {\"tooltip\": [{\"field\": \"Sub-Category\", \"type\": \"nominal\"}, {\"field\": \"profit\", \"type\": \"quantitative\"}], \"x\": {\"field\": \"profit\", \"type\": \"quantitative\"}}}], \"data\": {\"name\": \"data-b4d4e9afd3528ba5e11d25b724c63666\"}, \"height\": 180, \"title\": \"Sales by Sub-category box plot\", \"width\": 620, \"$schema\": \"https://vega.github.io/schema/vega-lite/v5.20.1.json\", \"datasets\": {\"data-b4d4e9afd3528ba5e11d25b724c63666\": [{\"Sub-Category\": \"Accessories\", \"sales\": 167380.0}, {\"Sub-Category\": \"Appliances\", \"sales\": 107532.0}, {\"Sub-Category\": \"Art\", \"sales\": 27119.0}, {\"Sub-Category\": \"Binders\", \"sales\": 203413.0}, {\"Sub-Category\": \"Bookcases\", \"sales\": 114880.0}, {\"Sub-Category\": \"Chairs\", \"sales\": 328449.0}, {\"Sub-Category\": \"Copiers\", \"sales\": 149528.0}, {\"Sub-Category\": \"Envelopes\", \"sales\": 16476.0}, {\"Sub-Category\": \"Fasteners\", \"sales\": 3024.0}, {\"Sub-Category\": \"Furnishings\", \"sales\": 91705.0}, {\"Sub-Category\": \"Labels\", \"sales\": 12486.0}, {\"Sub-Category\": \"Machines\", \"sales\": 189239.0}, {\"Sub-Category\": \"Paper\", \"sales\": 78479.0}, {\"Sub-Category\": \"Phones\", \"sales\": 330007.0}, {\"Sub-Category\": \"Storage\", \"sales\": 223844.0}, {\"Sub-Category\": \"Supplies\", \"sales\": 46674.0}, {\"Sub-Category\": \"Tables\", \"sales\": 206966.0}]}}, {\"mode\": \"vega-lite\"});\n",
       "</script>"
      ],
      "text/plain": [
       "alt.LayerChart(...)"
      ]
     },
     "execution_count": 19,
     "metadata": {},
     "output_type": "execute_result"
    }
   ],
   "source": [
    "points = (alt\n",
    "          .Chart(df_subcategory_sales)\n",
    "          .mark_point(size = 50, filled=True, opacity=0.8, color = '#953f0a')\n",
    "          .encode(\n",
    "              x = alt.X('profit:Q'),\n",
    "              tooltip = ['Sub-Category:N', 'profit:Q']                        \n",
    "          )\n",
    "         )\n",
    "\n",
    "box = (alt\n",
    "       .Chart(df_subcategory_sales)\n",
    "       .mark_boxplot(size = 25)\n",
    "       .encode(\n",
    "           x = alt.X('profit:Q'),\n",
    "#           y = 'Region'\n",
    "       )\n",
    "      )\n",
    "       \n",
    "\n",
    "chart = (box + points).properties(\n",
    "    title = 'Sales by Sub-category box plot',\n",
    "    width = 620,\n",
    "    height = 180\n",
    ")\n",
    "\n",
    "chart"
   ]
  },
  {
   "cell_type": "code",
   "execution_count": null,
   "id": "ffd08489-102b-457a-a5f3-2e9ec553569a",
   "metadata": {},
   "outputs": [],
   "source": [
    "p = 0.25\n",
    "p*(df_subcategory_sales.shape[0]-1)"
   ]
  },
  {
   "cell_type": "code",
   "execution_count": null,
   "id": "5486cfab-e898-4ff1-bbd5-919920854f66",
   "metadata": {},
   "outputs": [],
   "source": [
    "np.quantile(df_subcategory_sales['profit'], p)"
   ]
  },
  {
   "cell_type": "code",
   "execution_count": null,
   "id": "719e496b-4732-462b-b389-555a785bacb6",
   "metadata": {},
   "outputs": [],
   "source": [
    "data = 100*np.random.uniform(size = 5)\n",
    "test_df = pd.DataFrame(\n",
    "    {\n",
    "        'x' : data\n",
    "    }\n",
    ")"
   ]
  },
  {
   "cell_type": "code",
   "execution_count": null,
   "id": "92b86b03-99ef-448b-aed3-bda094354d22",
   "metadata": {},
   "outputs": [],
   "source": [
    "points = (alt\n",
    "          .Chart(test_df)\n",
    "          .mark_point(size = 50, filled=True, opacity=0.8, color = '#953f0a')\n",
    "          .encode(\n",
    "              x = alt.X('x:Q'),\n",
    "              tooltip = ['x:Q']                        \n",
    "          )\n",
    "         )\n",
    "\n",
    "box = (alt\n",
    "       .Chart(test_df)\n",
    "       .mark_boxplot(size = 25)\n",
    "       .encode(\n",
    "           x = alt.X('x:Q'),\n",
    "#           y = 'Region'\n",
    "       )\n",
    "      )\n",
    "       \n",
    "\n",
    "chart = (box + points).properties(\n",
    "    title = 'Boxplot',\n",
    "    width = 620,\n",
    "    height = 180\n",
    ")\n",
    "\n",
    "chart"
   ]
  },
  {
   "cell_type": "code",
   "execution_count": null,
   "id": "ca1901f5-0ecb-4c13-b3ab-f8be3fa0de81",
   "metadata": {},
   "outputs": [],
   "source": [
    "np.quantile(data, 0.25)"
   ]
  },
  {
   "cell_type": "code",
   "execution_count": null,
   "id": "574dfb2f-030b-4e21-baa7-f4ed702da3fe",
   "metadata": {},
   "outputs": [],
   "source": [
    "len(data[data < np.quantile(data, 0.25)])/len(data)"
   ]
  },
  {
   "cell_type": "code",
   "execution_count": null,
   "id": "e4b9bac9-1397-459f-bf29-a92f866435af",
   "metadata": {},
   "outputs": [],
   "source": [
    "4/17"
   ]
  },
  {
   "cell_type": "code",
   "execution_count": null,
   "id": "451c0973-ea50-41cf-b4e9-36715ab592dc",
   "metadata": {},
   "outputs": [],
   "source": [
    "4/16"
   ]
  },
  {
   "cell_type": "code",
   "execution_count": null,
   "id": "1bed4096-13f4-49c7-9dcf-c8acb463d118",
   "metadata": {},
   "outputs": [],
   "source": [
    "data"
   ]
  },
  {
   "cell_type": "code",
   "execution_count": null,
   "id": "5dd6f9f6-a2b5-401b-b9c2-3a0daef3fe11",
   "metadata": {},
   "outputs": [],
   "source": [
    "def mquintile(data, p):\n",
    "    \"\"\"\n",
    "    data: np array, list, pandas series is an array of observations\n",
    "    p: float between 0 and 1, is the percentage of samples you want to consider\n",
    "    \"\"\"\n",
    "\n",
    "    samples = np.sort(data)\n",
    "    # n is the position of the sorted array containing the samples in the desired quantile\n",
    "    n = p*(len(samples)-1)\n",
    "    if n%2 == 0:\n",
    "        # if the position is an even number, return the sample at that position \n",
    "        print(samples[int(n)])\n",
    "        return(samples[int(n)])\n",
    "    else:\n",
    "        # is the position is an odd number, we compute the the values of the sorted array\n",
    "        # for the considered position\n",
    "        pos = int(n)\n",
    "        # compute the adiacent samples to interpole to compute the quartile\n",
    "        lower_sample = samples[pos]\n",
    "        upper_sample = samples[pos+1]\n",
    "        print(\"lower sample = {}, upper sample {}\".format(lower_sample, upper_sample))\n",
    "        # compute the fraction of sample to use in the interpolation\n",
    "        f = n-pos\n",
    "        print(\"fraction = {}\".format(f))\n",
    "        # Finally, calculate the interpolated point representing the quantile\n",
    "        quantile = lower_sample+(f * (upper_sample-lower_sample))\n",
    "        print(\"quantile value = {}\".format(quantile))\n",
    "        return(quantile)"
   ]
  },
  {
   "cell_type": "code",
   "execution_count": null,
   "id": "bfd82582-959e-45a4-a5e4-1f3d2c640b21",
   "metadata": {},
   "outputs": [],
   "source": [
    "mquintile(data, 0.5)"
   ]
  },
  {
   "cell_type": "code",
   "execution_count": null,
   "id": "691ce786-6e97-4d73-ac68-7fd57821bf1f",
   "metadata": {},
   "outputs": [],
   "source": [
    "data"
   ]
  },
  {
   "cell_type": "code",
   "execution_count": null,
   "id": "47b3fad8-30ac-4c7b-91a1-a7084ed45b5c",
   "metadata": {},
   "outputs": [],
   "source": []
  }
 ],
 "metadata": {
  "kernelspec": {
   "display_name": "Python 3 (ipykernel)",
   "language": "python",
   "name": "python3"
  },
  "language_info": {
   "codemirror_mode": {
    "name": "ipython",
    "version": 3
   },
   "file_extension": ".py",
   "mimetype": "text/x-python",
   "name": "python",
   "nbconvert_exporter": "python",
   "pygments_lexer": "ipython3",
   "version": "3.12.3"
  }
 },
 "nbformat": 4,
 "nbformat_minor": 5
}
