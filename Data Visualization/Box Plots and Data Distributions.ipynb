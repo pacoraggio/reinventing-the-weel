{
 "cells": [
  {
   "cell_type": "code",
   "execution_count": 1,
   "id": "79cba261-333f-45a4-9dd0-f8e0fb3659ba",
   "metadata": {},
   "outputs": [],
   "source": [
    "import pandas as pd\n",
    "import numpy as np\n",
    "\n",
    "# sum_and_round, mean_and_round compute the sum and mean of a groupby dataframe \n",
    "# and round the results to the first and third digit respectively\n",
    "\n",
    "from src.funct import sum_and_round, mean_and_round\n",
    "\n",
    "import matplotlib.pyplot as plt\n",
    "import seaborn as sns\n",
    "\n",
    "import altair as alt"
   ]
  },
  {
   "cell_type": "code",
   "execution_count": 2,
   "id": "2bbef9f2-92ca-4577-b8e5-6b2b0a519ca7",
   "metadata": {},
   "outputs": [],
   "source": [
    "data = pd.read_excel('./data/superstore_data.xlsx')"
   ]
  },
  {
   "cell_type": "markdown",
   "id": "cb2ed36e-f341-479f-bec1-7cae47c98560",
   "metadata": {},
   "source": [
    "# Reinventing the Wheel: A DIY approach to Data Analysis and Data Science"
   ]
  },
  {
   "cell_type": "markdown",
   "id": "4cae6c1f-44d5-4af8-82e9-d459615c6ae3",
   "metadata": {},
   "source": [
    "The approach of the Reinventing the Wheel (RtW), is to start from a small, sometime not that small, topic, disassemble it into even smaller pieces and then reassembling it traying to mimic the original form. This approach may help in understand better the basic concepts underying and \"own\" it. Most of the times, when you dismantle an object and rebuild it, you can end up with something that is clunkier or even look ugly. But for sure is something that you own.\n",
    "\n",
    "In this notebook, I will discuss Box Plots, a method used in descriptive statistics to visually show the [locality, spread and skewness groups of numerical data throug their quartiles](https://en.wikipedia.org/wiki/Box_plot). As a starting point, I will use the [`altair` boxplot](https://altair-viz.github.io/) of a dataset and drill down concepts like median, quartile, IQR, outliers as well as illustrating python and altair procedure often used in Data Analysis.\n",
    "\n",
    "To illustrate all the concepts, I will use the [Super Store Sales sample data](https://public.tableau.com/app/learn/sample-data) provided by Tableau Public. Some of the ideas I used for this notebook come from the Coursera Course Data Analysis with Tableau, by Tableau Learning Partner.\n",
    "\n",
    "Starting from an `altair` boxplot, we will discuss the following learning objectives:\n",
    "\n",
    "- Median\n",
    "- Quantile and Quartiles\n",
    "- Whiskers and IQR\n",
    "- Outliers\n",
    "\n",
    "At the end, there is a Python appending with custom functions and plots.\n",
    "\n",
    "The aim of reinventing the wheel is to explain concepts and theorical ideas implement functions from scratch where needed. In this notebook, the aim of functions that I will implement is to clarify the main practocal aspects and, in doing so, clarity and step-by-step passages are preferred on optimization for speed, performances or error handling (e.g. I will not check if the input must be greater than zero). Moreover, sometimes built-in functions from library are used when their use does not affect my aim (e.g. I am not re-implementing sorting!)."
   ]
  },
  {
   "cell_type": "markdown",
   "id": "40b7fdae-68d2-426d-9ce9-cca0f102c571",
   "metadata": {},
   "source": [
    "# Box Plots and Data Distributions"
   ]
  },
  {
   "cell_type": "markdown",
   "id": "b63000b6-2215-46a9-a2e0-f506b16ac6e3",
   "metadata": {},
   "source": [
    "Box plots are a type of visualization that show a statistical summary of selected data. While histograms gives you a graphical understanding about how the data are distributed, and so helpfully indicating if they are evenly distributed, normal or skewed, the advantage of Box Plots is that they provide a visual representation of some of the main data distribution main characteristics, specifically median, quartiles and outliers.\n",
    "\n",
    "Let's start by creating an `altair` boxplot from a data distribution containing very few points, as this will help us to better understand the underlying concept behind a boxplot. To this end, I will use the the Super Store Sales sample data and calculate the sum of the sales for each Product Sub category. "
   ]
  },
  {
   "cell_type": "code",
   "execution_count": 3,
   "id": "41232deb-3990-47a0-9f58-59c45ba7a6c4",
   "metadata": {},
   "outputs": [],
   "source": [
    "# From the data, we create a dataframe containing, for each Sub Category, the sum of the sales\n",
    "\n",
    "df_subcategory_sales = (data\n",
    " .groupby('Sub-Category', observed=True)\n",
    " .agg(\n",
    "     sales = ('Sales', sum_and_round),\n",
    " )\n",
    ").sort_values('sales').reset_index()"
   ]
  },
  {
   "cell_type": "markdown",
   "id": "98daa65e-7793-4f32-b936-9be3158ea0c4",
   "metadata": {},
   "source": [
    "From the data, we create a dataframe containing, for each Sub Category, the sum of the sales and visualize the distribution using a boxplot"
   ]
  },
  {
   "cell_type": "code",
   "execution_count": 4,
   "id": "26b97658-3b65-4f09-9fbf-e4a50c3520e9",
   "metadata": {},
   "outputs": [
    {
     "data": {
      "text/html": [
       "\n",
       "<style>\n",
       "  #altair-viz-e066af5f912748e7871c24d6e0bccb12.vega-embed {\n",
       "    width: 100%;\n",
       "    display: flex;\n",
       "  }\n",
       "\n",
       "  #altair-viz-e066af5f912748e7871c24d6e0bccb12.vega-embed details,\n",
       "  #altair-viz-e066af5f912748e7871c24d6e0bccb12.vega-embed details summary {\n",
       "    position: relative;\n",
       "  }\n",
       "</style>\n",
       "<div id=\"altair-viz-e066af5f912748e7871c24d6e0bccb12\"></div>\n",
       "<script type=\"text/javascript\">\n",
       "  var VEGA_DEBUG = (typeof VEGA_DEBUG == \"undefined\") ? {} : VEGA_DEBUG;\n",
       "  (function(spec, embedOpt){\n",
       "    let outputDiv = document.currentScript.previousElementSibling;\n",
       "    if (outputDiv.id !== \"altair-viz-e066af5f912748e7871c24d6e0bccb12\") {\n",
       "      outputDiv = document.getElementById(\"altair-viz-e066af5f912748e7871c24d6e0bccb12\");\n",
       "    }\n",
       "    const paths = {\n",
       "      \"vega\": \"https://cdn.jsdelivr.net/npm/vega@5?noext\",\n",
       "      \"vega-lib\": \"https://cdn.jsdelivr.net/npm/vega-lib?noext\",\n",
       "      \"vega-lite\": \"https://cdn.jsdelivr.net/npm/vega-lite@5.20.1?noext\",\n",
       "      \"vega-embed\": \"https://cdn.jsdelivr.net/npm/vega-embed@6?noext\",\n",
       "    };\n",
       "\n",
       "    function maybeLoadScript(lib, version) {\n",
       "      var key = `${lib.replace(\"-\", \"\")}_version`;\n",
       "      return (VEGA_DEBUG[key] == version) ?\n",
       "        Promise.resolve(paths[lib]) :\n",
       "        new Promise(function(resolve, reject) {\n",
       "          var s = document.createElement('script');\n",
       "          document.getElementsByTagName(\"head\")[0].appendChild(s);\n",
       "          s.async = true;\n",
       "          s.onload = () => {\n",
       "            VEGA_DEBUG[key] = version;\n",
       "            return resolve(paths[lib]);\n",
       "          };\n",
       "          s.onerror = () => reject(`Error loading script: ${paths[lib]}`);\n",
       "          s.src = paths[lib];\n",
       "        });\n",
       "    }\n",
       "\n",
       "    function showError(err) {\n",
       "      outputDiv.innerHTML = `<div class=\"error\" style=\"color:red;\">${err}</div>`;\n",
       "      throw err;\n",
       "    }\n",
       "\n",
       "    function displayChart(vegaEmbed) {\n",
       "      vegaEmbed(outputDiv, spec, embedOpt)\n",
       "        .catch(err => showError(`Javascript Error: ${err.message}<br>This usually means there's a typo in your chart specification. See the javascript console for the full traceback.`));\n",
       "    }\n",
       "\n",
       "    if(typeof define === \"function\" && define.amd) {\n",
       "      requirejs.config({paths});\n",
       "      require([\"vega-embed\"], displayChart, err => showError(`Error loading script: ${err.message}`));\n",
       "    } else {\n",
       "      maybeLoadScript(\"vega\", \"5\")\n",
       "        .then(() => maybeLoadScript(\"vega-lite\", \"5.20.1\"))\n",
       "        .then(() => maybeLoadScript(\"vega-embed\", \"6\"))\n",
       "        .catch(showError)\n",
       "        .then(() => displayChart(vegaEmbed));\n",
       "    }\n",
       "  })({\"config\": {\"view\": {\"continuousWidth\": 300, \"continuousHeight\": 300}}, \"data\": {\"name\": \"data-db6ea76ba2316d388fe436704f264956\"}, \"mark\": {\"type\": \"boxplot\", \"color\": \"silver\", \"size\": 25}, \"encoding\": {\"x\": {\"field\": \"sales\", \"type\": \"quantitative\"}}, \"height\": 80, \"title\": \"Sales by Sub-category box plot\", \"width\": 620, \"$schema\": \"https://vega.github.io/schema/vega-lite/v5.20.1.json\", \"datasets\": {\"data-db6ea76ba2316d388fe436704f264956\": [{\"Sub-Category\": \"Fasteners\", \"sales\": 3024.28}, {\"Sub-Category\": \"Labels\", \"sales\": 12486.31}, {\"Sub-Category\": \"Envelopes\", \"sales\": 16476.4}, {\"Sub-Category\": \"Art\", \"sales\": 27118.79}, {\"Sub-Category\": \"Supplies\", \"sales\": 46673.54}, {\"Sub-Category\": \"Paper\", \"sales\": 78479.21}, {\"Sub-Category\": \"Furnishings\", \"sales\": 91705.16}, {\"Sub-Category\": \"Appliances\", \"sales\": 107532.16}, {\"Sub-Category\": \"Bookcases\", \"sales\": 114880.0}, {\"Sub-Category\": \"Copiers\", \"sales\": 149528.03}, {\"Sub-Category\": \"Accessories\", \"sales\": 167380.32}, {\"Sub-Category\": \"Machines\", \"sales\": 189238.63}, {\"Sub-Category\": \"Binders\", \"sales\": 203412.73}, {\"Sub-Category\": \"Tables\", \"sales\": 206965.53}, {\"Sub-Category\": \"Storage\", \"sales\": 223843.61}, {\"Sub-Category\": \"Chairs\", \"sales\": 328449.1}, {\"Sub-Category\": \"Phones\", \"sales\": 330007.05}]}}, {\"mode\": \"vega-lite\"});\n",
       "</script>"
      ],
      "text/plain": [
       "alt.Chart(...)"
      ]
     },
     "execution_count": 4,
     "metadata": {},
     "output_type": "execute_result"
    }
   ],
   "source": [
    "box = (alt\n",
    "       .Chart(df_subcategory_sales)\n",
    "       .mark_boxplot(size = 25, color = 'silver')\n",
    "       .encode(\n",
    "           x = alt.X('sales:Q')\n",
    "       )\n",
    "      )\n",
    "\n",
    "box.properties(\n",
    "    title = 'Sales by Sub-category box plot',\n",
    "    width = 620,\n",
    "    height = 80\n",
    ")"
   ]
  },
  {
   "cell_type": "markdown",
   "id": "a2e2d0d7-fd2e-4106-a332-42f5f04d5eab",
   "metadata": {},
   "source": [
    "Hovering on the newly created Box Plot, Altair provides the following information:\n",
    "- `Max` of sales: 330007.05\n",
    "- `Q3` of sales: 203412.73\n",
    "- `Median` of sales: 114880\n",
    "- `Q1` of sales: 46673.53\n",
    "- `Min` of sales: 3024.28\n",
    "\n",
    "And\n",
    "- `Upper Whisker` of sales: 330007.054\n",
    "- `Lower Whisker` of sales: 3024.24\n",
    "\n",
    "These values aims to show how the data are distributed. But what are their meaning and how can we practically use when analysing the data? `Min` and `Max` are straigthforwardly indicating the minimum and maximum values of the dataset, but what `Median`, `Q1`, `Q3`, `Upper Whisker` and `Lower Whisker` mean and how `altair` calculate it?  \n",
    "\n",
    "Let's start looking at the concepts of median, quartile and Interquartile Range (IQR) and undersdand their role in the statistical description of a dataset."
   ]
  },
  {
   "cell_type": "markdown",
   "id": "7b67c7b2-e0b9-4bf5-9ef2-e3e7c31e0512",
   "metadata": {},
   "source": [
    "## Median, Quartile and Interquartile Range, Upper and Lower Whisker"
   ]
  },
  {
   "cell_type": "markdown",
   "id": "34377916-8bc1-4b21-b119-12f896195dc2",
   "metadata": {},
   "source": [
    "When analysing dataset, we are dealing with discrete quantities (samples) that might be extracted from continuous distributions, like the height of a person or the distance covered by a starship. When calculating statistical measures of a dataset, like the median, we will always do it on a finite number of data. A way to characterize a dataset, is to divide its elements into parts, and one of the most common way to do it, is dividing it into four sets with the same number of elements each: these are called ***quartiles***."
   ]
  },
  {
   "cell_type": "markdown",
   "id": "a3d8c1e8-5838-4f1e-8263-c0e79ca22d04",
   "metadata": {},
   "source": [
    "### Median"
   ]
  },
  {
   "cell_type": "markdown",
   "id": "2ee99ff6-52cd-42b0-a153-20e743b73b71",
   "metadata": {},
   "source": [
    "> The ***median*** of a set of numbers is the value separating the higher half from the lower half of a data sample, a population, or a probability distribution.\n",
    "\n",
    "To compute the median of a set of number, we have to consider if the number of its element is odd or even. If the number of data points is odd, the median is the middle point, otherwise, the median is usually defined as the arithmetic mean of the two middle values.\n",
    "\n",
    "In the following cell we define a `dataset_median` function that takes a pandas series as input, sort it, calculate the midpoint and, based on the fact it is an odd or even number, compute the median of the dataset using the above definition"
   ]
  },
  {
   "cell_type": "code",
   "execution_count": null,
   "id": "cdf638a2-c4c2-4574-888a-321991adc799",
   "metadata": {},
   "outputs": [],
   "source": [
    "def dataset_median(dataset):\n",
    "    \"\"\"\n",
    "    input: dataset is a pandas series\n",
    "    output: returns the median of the dataset\n",
    "    \"\"\"\n",
    "    midpoint = len(dataset)/2\n",
    "    if midpoint%2 != 0:\n",
    "        # if the lenths of the dataset is odd, return the middle point \n",
    "        return(dataset.sort_values().iloc[int(midpoint)])\n",
    "    # otherwise, return the arithmetic mean of the two middle points\n",
    "    return((dataset.sort_values().iloc[int(midpoint)-1]+dataset.sort_values().iloc[int(midpoint)])/2)"
   ]
  },
  {
   "cell_type": "markdown",
   "id": "aa1a184f-7445-4382-934f-41778a73ebbd",
   "metadata": {},
   "source": [
    "In our example, the sum of `Sales` per `Sub-Category` in the Super Store dataset, we have an odd number of elements. This means that the median `sales` is the 8<sup>th</sup> element of the sorter `sales` series."
   ]
  },
  {
   "cell_type": "code",
   "execution_count": null,
   "id": "2abd7bbf-fc49-42d6-a023-dd148dcd88c0",
   "metadata": {},
   "outputs": [],
   "source": [
    "dataset = df_subcategory_sales['sales']\n",
    "\n",
    "print(\"median using the diy function: {}\".format(dataset_median(dataset)))\n",
    "print(\"median using pandas median   : {}\".format(dataset.median()))\n",
    "## printing the Sub-Category\n",
    "print(\"Sub-Category: {}\".format(df_subcategory_sales[df_subcategory_sales['sales'] == dataset_median(df_subcategory_sales['sales'])]['Sub-Category'].values[0]))"
   ]
  },
  {
   "cell_type": "markdown",
   "id": "463ea345-61fc-48fd-abf5-37e69e7bea12",
   "metadata": {},
   "source": [
    "The following is the altair box-plot of the dataframe `sales` column. As we can see by hoovering on the data points, the median contains the `Bookcases` sub-category. When the dataset length is odd, the median point belongs to the $2$<sup>nd</sup> percentile ($50\\%$ of the data)"
   ]
  },
  {
   "cell_type": "code",
   "execution_count": null,
   "id": "67235c56-c746-42d1-844c-d42cd017a708",
   "metadata": {},
   "outputs": [],
   "source": [
    "points = (alt\n",
    "          .Chart(df_subcategory_sales)\n",
    "          .mark_point(size = 50, filled=True, opacity=0.8, color = '#953f0a')\n",
    "          .encode(\n",
    "              x = alt.X('sales:Q'),\n",
    "              tooltip = ['Sub-Category:N', 'sales:Q']                        \n",
    "          )\n",
    "         )\n",
    "\n",
    "box = (alt\n",
    "       .Chart(df_subcategory_sales)\n",
    "       .mark_boxplot(size = 40)\n",
    "       .encode(\n",
    "           x = alt.X('sales:Q')\n",
    "       )\n",
    "      )\n",
    "       \n",
    "\n",
    "chart = (box + points).properties(\n",
    "    title = 'Sales by Sub-category box plot',\n",
    "    width = 620,\n",
    "    height = 100\n",
    ")\n",
    "\n",
    "chart"
   ]
  },
  {
   "cell_type": "markdown",
   "id": "48d3b965-de45-4066-96a5-5e0bb5dc56eb",
   "metadata": {},
   "source": [
    "When we have an odd numer of sample in our dataset, the median also correspond to a specific point of the dataset (in our case is Bookcases).\n",
    "\n",
    "We now remove the median point from the dataset and compute the new median of the `sales` dataset, now consisting of an odd number of elements."
   ]
  },
  {
   "cell_type": "code",
   "execution_count": null,
   "id": "50c3df16-25e3-430f-9a1e-18d0b996a59f",
   "metadata": {},
   "outputs": [],
   "source": [
    "df_subcategory_without_bookcases = df_subcategory_sales.drop(df_subcategory_sales[df_subcategory_sales['Sub-Category'] == 'Bookcases'].index).reset_index(drop = True)\n",
    "df_subcategory_without_bookcases.shape[0]"
   ]
  },
  {
   "cell_type": "markdown",
   "id": "b1bf964d-fdfc-414a-a31e-21444912a7ff",
   "metadata": {},
   "source": [
    "Applying the same steps as before, we obtain:"
   ]
  },
  {
   "cell_type": "code",
   "execution_count": null,
   "id": "7d9fff8e-34d6-4dd8-88a3-ce9da5e1cd0a",
   "metadata": {},
   "outputs": [],
   "source": [
    "print(\"median using the diy function: {}\".format(dataset_median(df_subcategory_without_bookcases['sales'])))\n",
    "print(\"median using pandas median   : {}\".format(df_subcategory_without_bookcases['sales'].median()))\n",
    "\n",
    "# As we have an even number of elements, there is no sub category that is the median of the dataset\n",
    "# print(\"Sub-Category: {}\".format(df_subcategory_without_bookcases[df_subcategory_without_bookcases['sales'] == dataset_median(df_subcategory_without_bookcases['sales'])]['Sub-Category'].values[0]))"
   ]
  },
  {
   "cell_type": "markdown",
   "id": "7ae6a649-b50d-4bec-8036-2a38c7db60c4",
   "metadata": {},
   "source": [
    "Plotting the box plot, we can see that now the median is between the two middle points."
   ]
  },
  {
   "cell_type": "code",
   "execution_count": null,
   "id": "42cc8dc7-cf65-47e9-b933-d6c9d0c9788b",
   "metadata": {},
   "outputs": [],
   "source": [
    "points = (alt\n",
    "          .Chart(df_subcategory_without_bookcases)\n",
    "          .mark_point(size = 50, filled=True, opacity=0.8, color = '#953f0a')\n",
    "          .encode(\n",
    "              x = alt.X('sales:Q'),\n",
    "              tooltip = ['Sub-Category:N', 'sales:Q']                        \n",
    "          )\n",
    "         )\n",
    "\n",
    "box = (alt\n",
    "       .Chart(df_subcategory_without_bookcases)\n",
    "       .mark_boxplot(size = 40)\n",
    "       .encode(\n",
    "           x = alt.X('sales:Q')\n",
    "       )\n",
    "      )\n",
    "       \n",
    "\n",
    "chart = (box + points).properties(\n",
    "    title = 'Sales by Sub-category box plot',\n",
    "    width = 620,\n",
    "    height = 100\n",
    ")\n",
    "\n",
    "chart"
   ]
  },
  {
   "cell_type": "markdown",
   "id": "888126e3-6747-485a-a0d7-23fd0e2cbf8d",
   "metadata": {},
   "source": [
    "### Quartile"
   ]
  },
  {
   "cell_type": "markdown",
   "id": "7efb2c0d-fc76-4cdc-9519-3bb7549d7273",
   "metadata": {},
   "source": [
    "Let's start from the definition of Quantiles and Quartiles. In statistics, ***quantiles*** are particular points dividing a sample into equally sized, adjacent subgroups. As an example, the median is a quantiles so that exactly half of the data is lower than the median and half of the data is above the median: the median is said to be the 2<sup>nd</sup> quartile.\n",
    "\n",
    "***Quartiles*** divide the distribution into four equal part.\n",
    "\n",
    "In our examples, `altair` boxplot provide `Q1` and `Q3` paramenters, meaning the first and third quartile. The first quartile, `Q1`, indicates the point for which the $25\\%$ of data are below this number. Similarly, the 3<sup>rd</sup> quartile, `Q3`, is the point for which the $75\\%$ of the data, are below this number. In our examples, the original dataset containing 17 points the boxplot reports:\n",
    "- `Q1` = 46674.54\n",
    "- `Q3` = 203412.73\n",
    "\n",
    "In the second one, without the median point, we have:\n",
    "- `Q1` = 41784.85\n",
    "- `Q3` = 204300.93\n",
    "\n",
    "How `altair` calculated this point? Let's start with the first quartile, i.e. the $25\\%$ of the data. Breaking down in steps what we need to do to calculate it, we need first to sort the data, and then find the first $25\\%$ elements of the sorted array. \n",
    "\n",
    "- Sort the array\n",
    "- "
   ]
  },
  {
   "cell_type": "code",
   "execution_count": null,
   "id": "08ab0469-c53e-4516-87ff-de70e1a22c75",
   "metadata": {},
   "outputs": [],
   "source": [
    "0.25*16"
   ]
  },
  {
   "cell_type": "code",
   "execution_count": null,
   "id": "e6d7ec36-6a29-42d0-9200-c529c5c51eed",
   "metadata": {},
   "outputs": [],
   "source": [
    "def mquintile(data, p):\n",
    "    \"\"\"\n",
    "    Compute the p-th quantile of a dataset using linear interpolation.\n",
    "    \n",
    "    Parameters:\n",
    "    -----------\n",
    "    data : array-like\n",
    "        Array of observations (numpy array, list, or pandas series)\n",
    "    p : float\n",
    "        Percentile between 0 and 1 (e.g., 0.25 for Q1, 0.5 for median)\n",
    "    \n",
    "    Returns:\n",
    "    --------\n",
    "    float\n",
    "        The computed quantile value\n",
    "    \n",
    "    Examples:\n",
    "    --------\n",
    "    >>> data = [1, 2, 3, 4, 5]\n",
    "    >>> mquintile(data, 0.5)  # median\n",
    "    3.0\n",
    "    >>> mquintile(data, 0.25)  # first quartile\n",
    "    2.0\n",
    "    \"\"\"\n",
    "    # Input validation\n",
    "    if not 0 <= p <= 1:\n",
    "        raise ValueError(\"p must be between 0 and 1\")\n",
    "    if len(data) == 0:\n",
    "        raise ValueError(\"data cannot be empty\")\n",
    "\n",
    "    # Sort the data\n",
    "    samples = np.sort(data)\n",
    "    print(\"Sorted data:\", samples)\n",
    "    \n",
    "    # Calculate position in sorted array\n",
    "    n = p * (len(samples) - 1)\n",
    "    print(f\"Theoretical position (n) = {n}\")\n",
    "    \n",
    "    # If n is effectively a whole number (allowing for floating point precision)\n",
    "    if abs(n - round(n)) < 1e-10:\n",
    "        result = samples[int(round(n))]\n",
    "        print(f\"Position is whole number, returning value at position {int(round(n))} that is {result}\")\n",
    "        return result\n",
    "    \n",
    "    # For positions between two samples, interpolate\n",
    "    pos = int(n)  # floor of n\n",
    "    # Get the two samples we'll interpolate between\n",
    "    lower_sample = samples[pos]\n",
    "    upper_sample = samples[pos + 1]\n",
    "    print(f\"Interpolating between: lower={lower_sample}, upper={upper_sample}\")\n",
    "    \n",
    "    # Calculate interpolation fraction\n",
    "    fraction = n - pos\n",
    "    print(f\"Interpolation fraction = {fraction}\")\n",
    "    \n",
    "    # Compute interpolated value\n",
    "    quantile = lower_sample + (fraction * (upper_sample - lower_sample))\n",
    "    print(f\"Final interpolated quantile = {quantile}\")\n",
    "    \n",
    "    return quantile"
   ]
  },
  {
   "cell_type": "code",
   "execution_count": null,
   "id": "b38fbc9c-76ee-40fb-a49c-a7126fc48d93",
   "metadata": {},
   "outputs": [],
   "source": [
    "test = np.array([32.6,5.4,12.7,54.2,65.1,28.6,54.2,76.65,24.12,90.09,28.3,-21,-34,11,54,2,15])*-1\n",
    "data_set = 20*np.random.normal(size=22)\n",
    "\n",
    "p = 0.5\n",
    "\n",
    "mquintile(test, p)\n",
    "np.quantile(test, p)"
   ]
  },
  {
   "cell_type": "code",
   "execution_count": null,
   "id": "fb797ba0-ebb3-4acb-a3f9-b91df622f99f",
   "metadata": {},
   "outputs": [],
   "source": []
  },
  {
   "cell_type": "code",
   "execution_count": null,
   "id": "304fe19a-84b8-49d6-b2c9-0acd3b4845dc",
   "metadata": {},
   "outputs": [],
   "source": [
    "def mquintile(data, p):\n",
    "    \"\"\"\n",
    "    data: np array, list, pandas series is an array of observations\n",
    "    p: float between 0 and 1, is the percentage of samples you want to consider\n",
    "    \"\"\"\n",
    "\n",
    "    samples = np.sort(data)\n",
    "    # n is the position of the sorted array containing the samples in the desired quantile\n",
    "    n = p*(len(samples)-1)\n",
    "    if n%2 == 0:\n",
    "        # if the position is an even number, return the sample at that position \n",
    "        print(samples[int(n)])\n",
    "        return(samples[int(n)])\n",
    "    else:\n",
    "        # is the position is an odd number, we compute the the values of the sorted array\n",
    "        # for the considered position\n",
    "        pos = int(n)\n",
    "        # compute the adiacent samples to interpole to compute the quartile\n",
    "        lower_sample = samples[pos]\n",
    "        upper_sample = samples[pos+1]\n",
    "        print(\"lower sample = {}, upper sample {}\".format(lower_sample, upper_sample))\n",
    "        # compute the fraction of sample to use in the interpolation\n",
    "        f = n-pos\n",
    "        print(\"fraction = {}\".format(f))\n",
    "        # Finally, calculate the interpolated point representing the quantile\n",
    "        quantile = lower_sample+(f * (upper_sample-lower_sample))\n",
    "        print(\"quantile value = {}\".format(quantile))\n",
    "        return(quantile)"
   ]
  },
  {
   "cell_type": "code",
   "execution_count": null,
   "id": "0637eefb-502e-4588-9130-22b31b78d098",
   "metadata": {},
   "outputs": [],
   "source": [
    "np.array([32.6,5.4,12.7,54.2,65.1,28.6,54.2,76.65,24.12,90.09,28.3,-21,-34,11,54,2,15])*-1"
   ]
  },
  {
   "cell_type": "code",
   "execution_count": null,
   "id": "a9e9455f-ea64-4333-a64b-3837504c885a",
   "metadata": {},
   "outputs": [],
   "source": [
    "data_set = 20*np.random.normal(size=22)"
   ]
  },
  {
   "cell_type": "code",
   "execution_count": null,
   "id": "2b5c61d5-5231-4bf1-8913-86d16829db83",
   "metadata": {},
   "outputs": [],
   "source": [
    "np.sort(data_set)"
   ]
  },
  {
   "cell_type": "code",
   "execution_count": null,
   "id": "88e81b0c-7ad9-4ca5-9ad1-7fde9cf264bf",
   "metadata": {},
   "outputs": [],
   "source": [
    "p = 0.5\n",
    "\n",
    "mquintile(data_set, p)\n",
    "np.quantile(data_set, p)"
   ]
  },
  {
   "cell_type": "code",
   "execution_count": null,
   "id": "23f31426-4808-4246-9943-dd02f260dfa7",
   "metadata": {},
   "outputs": [],
   "source": []
  },
  {
   "cell_type": "code",
   "execution_count": null,
   "id": "67e97f8b-29a6-470c-8510-76b7d0f36172",
   "metadata": {},
   "outputs": [],
   "source": [
    "quantile = 0.75\n",
    "data_set = df_subcategory_sales['sales']\n",
    "\n",
    "samples = np.sort(data_set)\n",
    "n = quantile*len(samples)\n",
    "if n%2 == 0:\n",
    "    print(samples[n-1])\n",
    "else:\n",
    "    print((samples[int(n)-1]+samples[int(n)])/2)"
   ]
  },
  {
   "cell_type": "code",
   "execution_count": null,
   "id": "e1f302a2-5c02-4360-bbaf-70433abdb890",
   "metadata": {},
   "outputs": [],
   "source": [
    "(samples[int(n)]+samples[int(n)+1])/2"
   ]
  },
  {
   "cell_type": "code",
   "execution_count": null,
   "id": "b0028035-574c-4712-a064-dfce2f20bb79",
   "metadata": {},
   "outputs": [],
   "source": [
    "np.quantile(samples, 0.25)"
   ]
  },
  {
   "cell_type": "code",
   "execution_count": null,
   "id": "b8507a6b-df33-4e23-8caa-e0820b7c150e",
   "metadata": {},
   "outputs": [],
   "source": [
    "size = 9\n",
    "test = np.round(100*np.random.random_sample(size),2)"
   ]
  },
  {
   "cell_type": "code",
   "execution_count": null,
   "id": "1e3ba344-0d2a-4d86-8aef-264af951a318",
   "metadata": {},
   "outputs": [],
   "source": [
    "np.sort(test)"
   ]
  },
  {
   "cell_type": "code",
   "execution_count": null,
   "id": "db47b068-c4bc-420b-ad46-e8793706f285",
   "metadata": {},
   "outputs": [],
   "source": [
    "q75, q25 = np.quantile(test, [0.75 ,0.25])\n",
    "iqr = q75 - q25\n",
    "iqr"
   ]
  },
  {
   "cell_type": "code",
   "execution_count": null,
   "id": "cbc38f7b-1139-467c-b00c-67dc090bbfd0",
   "metadata": {},
   "outputs": [],
   "source": [
    "q75"
   ]
  },
  {
   "cell_type": "code",
   "execution_count": null,
   "id": "6b0432b8-f7ec-4f0a-992f-bb1602c3fa03",
   "metadata": {},
   "outputs": [],
   "source": [
    "np.quantile(test, 0.75)"
   ]
  },
  {
   "cell_type": "code",
   "execution_count": null,
   "id": "a86b6d44-c3d6-4479-a1e2-349dfab494b9",
   "metadata": {},
   "outputs": [],
   "source": [
    "q75, q25 = np.quantile(np.arange(1,10), [0.75,0.25])\n",
    "iqr = q75 - q25\n",
    "iqr"
   ]
  },
  {
   "cell_type": "code",
   "execution_count": null,
   "id": "54679d03-4cc2-4c7e-a170-7382c70a16f6",
   "metadata": {},
   "outputs": [],
   "source": [
    "0.25*8"
   ]
  },
  {
   "cell_type": "code",
   "execution_count": null,
   "id": "7a995285-65a2-4b25-a75d-c930ebbbb2d0",
   "metadata": {},
   "outputs": [],
   "source": [
    "data_set = np.arange(1,17)\n",
    "samples = np.sort(data_set)\n",
    "\n",
    "p = 0.75\n",
    "n = p*(len(samples)-1)\n",
    "print(n)\n",
    "if n%2 == 0:\n",
    "    print(samples[int(n)])\n",
    "else:\n",
    "    n = int(n)\n",
    "    print(n)\n",
    "    print(samples[n])\n",
    "    print(samples[n+1])"
   ]
  },
  {
   "cell_type": "code",
   "execution_count": null,
   "id": "f758ebfe-5c77-4dc1-8cb4-1c8f10da8c8e",
   "metadata": {},
   "outputs": [],
   "source": [
    "np.quantile(samples, [0.25,0.75])"
   ]
  },
  {
   "cell_type": "code",
   "execution_count": null,
   "id": "d545598b-391d-4ede-b4f1-d9e474c13a60",
   "metadata": {},
   "outputs": [],
   "source": [
    "np.quantile(samples,0.5)"
   ]
  },
  {
   "cell_type": "code",
   "execution_count": null,
   "id": "549e9685-544d-4292-bd2c-216933a9e73a",
   "metadata": {},
   "outputs": [],
   "source": []
  },
  {
   "cell_type": "code",
   "execution_count": null,
   "id": "854f3d98-eec2-4b39-adcc-227d8fcbc2ac",
   "metadata": {},
   "outputs": [],
   "source": []
  },
  {
   "cell_type": "code",
   "execution_count": null,
   "id": "2d4ebabc-7e69-457c-850b-84630886edf3",
   "metadata": {},
   "outputs": [],
   "source": []
  },
  {
   "cell_type": "code",
   "execution_count": null,
   "id": "16ac81a3-6543-4f70-80d9-137427e7553f",
   "metadata": {},
   "outputs": [],
   "source": []
  },
  {
   "cell_type": "code",
   "execution_count": null,
   "id": "eec8c68a-3873-408c-b504-9ba73ea47b3e",
   "metadata": {},
   "outputs": [],
   "source": [
    "data_set = np.array([32.6,5.4,12.7,54.2,65.1,28.6,54.2,76.65,24.12,90.09,28.3])\n",
    "samples = np.sort(data_set)\n",
    "\n",
    "p = 0.25\n",
    "n = p*(len(samples)-1)\n",
    "print(n)\n",
    "if n%2 == 0:\n",
    "    print(samples[n-1])\n",
    "else:\n",
    "    n = int(n)\n",
    "    print(n)\n",
    "    print(samples[n])\n",
    "    print(samples[n+1])"
   ]
  },
  {
   "cell_type": "code",
   "execution_count": null,
   "id": "4cdb2b67-5f5b-4395-af2f-1d175c83341c",
   "metadata": {},
   "outputs": [],
   "source": [
    "data_set = np.array([32.6,5.4,12.7,54.2,65.1,28.6,54.2,76.65,24.12,90.09,28.3,43.2,54,12.22, 87,54.6,112.3])\n",
    "samples = np.sort(data_set)\n",
    "\n",
    "p = 0.25\n",
    "n = p*(len(samples)-1)\n",
    "print(n)\n",
    "if n%2 == 0:\n",
    "    print(samples[int(n)])\n",
    "else:\n",
    "    n = int(n)\n",
    "    print(n)\n",
    "    print(samples[n])\n",
    "    print(samples[n+1])"
   ]
  },
  {
   "cell_type": "code",
   "execution_count": null,
   "id": "0c6ed0cc-a088-4a27-861f-260dbf077e4a",
   "metadata": {},
   "outputs": [],
   "source": [
    "np.sort(data_set)"
   ]
  },
  {
   "cell_type": "code",
   "execution_count": null,
   "id": "75238614-0d99-4c25-b641-a67426f8567e",
   "metadata": {},
   "outputs": [],
   "source": [
    "np.quantile(data_set, 0.25)"
   ]
  },
  {
   "cell_type": "code",
   "execution_count": null,
   "id": "61433b8b-feab-44ab-b00a-47d007444114",
   "metadata": {},
   "outputs": [],
   "source": [
    "0.25*(len(samples)-1)"
   ]
  },
  {
   "cell_type": "code",
   "execution_count": null,
   "id": "b61c9a67-7f3e-4301-95a1-8d89b0b2412f",
   "metadata": {},
   "outputs": [],
   "source": [
    "linear_interpolation(24.12,28.3, 0.5)"
   ]
  },
  {
   "cell_type": "code",
   "execution_count": null,
   "id": "cd0c36d7-a990-4942-a8db-285018981eae",
   "metadata": {},
   "outputs": [],
   "source": [
    "np.quantile(samples, 0.25)"
   ]
  },
  {
   "cell_type": "code",
   "execution_count": null,
   "id": "7044d4a6-df01-41cd-ad43-344ade54616f",
   "metadata": {},
   "outputs": [],
   "source": [
    "data_set = np.array([13,25,41,90,6,74,57,113,82,121,226,105,5,38])\n",
    "samples = np.sort(data_set)\n",
    "\n",
    "p = 0.25\n",
    "n = p*(len(samples)-1)\n",
    "print(n)\n",
    "if n%2 == 0:\n",
    "    print(samples[n-1])\n",
    "else:\n",
    "    n = int(n)\n",
    "    print(n)\n",
    "    print(samples[n])\n",
    "    print(samples[n+1])\n",
    "    #print((samples[int(n)-1]+samples[int(n)])/2)"
   ]
  },
  {
   "cell_type": "code",
   "execution_count": null,
   "id": "155b41c9-5426-42f3-831f-95dc686f14e3",
   "metadata": {},
   "outputs": [],
   "source": [
    "25+(38-25)*0.25"
   ]
  },
  {
   "cell_type": "code",
   "execution_count": null,
   "id": "1d1b9f6c-4ddf-4195-8ff9-83259576fc39",
   "metadata": {},
   "outputs": [],
   "source": [
    "(90+(105-90)*0.75)"
   ]
  },
  {
   "cell_type": "code",
   "execution_count": null,
   "id": "bc803686-522f-4ad7-8047-40d9dd105caf",
   "metadata": {},
   "outputs": [],
   "source": [
    "np.quantile(samples, 0.25)"
   ]
  },
  {
   "cell_type": "code",
   "execution_count": null,
   "id": "79bd4cc9-a304-4040-9101-bfe5dd35d4b0",
   "metadata": {},
   "outputs": [],
   "source": [
    "(data\n",
    " .groupby(['Region', 'Sub-Category'])\n",
    " .agg(profit = (\"Profit\", \"sum\"))\n",
    ").reset_index().pivot(index = 'Region', columns = 'Sub-Category', values = 'profit')"
   ]
  },
  {
   "cell_type": "code",
   "execution_count": null,
   "id": "64ac6aab-7a36-439a-9b2b-46b55f61544b",
   "metadata": {},
   "outputs": [],
   "source": []
  },
  {
   "cell_type": "code",
   "execution_count": null,
   "id": "724f61fc-9d06-40ed-8f64-58508904e362",
   "metadata": {},
   "outputs": [],
   "source": []
  },
  {
   "cell_type": "code",
   "execution_count": null,
   "id": "0e6fa2d3-f3ad-437e-b158-158516c72911",
   "metadata": {},
   "outputs": [],
   "source": [
    "samples[10]"
   ]
  },
  {
   "cell_type": "code",
   "execution_count": null,
   "id": "e0bf329d-f330-4043-9e4a-9b7d2439b3f7",
   "metadata": {},
   "outputs": [],
   "source": []
  },
  {
   "cell_type": "code",
   "execution_count": null,
   "id": "358ec1b4-e346-4483-8600-aec17098eae3",
   "metadata": {},
   "outputs": [],
   "source": [
    "samples"
   ]
  },
  {
   "cell_type": "code",
   "execution_count": null,
   "id": "cc5d6d7a-cf95-49b5-93e5-3346b6ee9cf9",
   "metadata": {},
   "outputs": [],
   "source": [
    "np.quantile(samples, p)"
   ]
  },
  {
   "cell_type": "code",
   "execution_count": null,
   "id": "47cc4dfc-7e66-465b-98bd-d2b255e7abf3",
   "metadata": {},
   "outputs": [],
   "source": [
    "compute_quantile(samples, 0.75)"
   ]
  },
  {
   "cell_type": "code",
   "execution_count": null,
   "id": "cbd6b513-e9a1-4476-9ffc-3a0af553ee44",
   "metadata": {},
   "outputs": [],
   "source": [
    "samples[10]"
   ]
  },
  {
   "cell_type": "code",
   "execution_count": null,
   "id": "9f41ae3f-c70f-413b-a1c2-147ccdfc8db7",
   "metadata": {},
   "outputs": [],
   "source": []
  },
  {
   "cell_type": "code",
   "execution_count": null,
   "id": "fce9ba99-52f6-44e6-98d0-953a81a3ae5a",
   "metadata": {},
   "outputs": [],
   "source": [
    "samples[n2]"
   ]
  },
  {
   "cell_type": "code",
   "execution_count": null,
   "id": "5be8c28e-4112-47ae-9254-c3209ebfff8c",
   "metadata": {},
   "outputs": [],
   "source": []
  },
  {
   "cell_type": "code",
   "execution_count": null,
   "id": "3e0500da-a264-43ce-9ff8-cd372abfa3bd",
   "metadata": {},
   "outputs": [],
   "source": []
  },
  {
   "cell_type": "code",
   "execution_count": null,
   "id": "67381a02-b661-4113-b486-c6cb61fc285a",
   "metadata": {},
   "outputs": [],
   "source": []
  },
  {
   "cell_type": "code",
   "execution_count": null,
   "id": "2d0df7ff-248a-4086-bc28-83627f9f7775",
   "metadata": {},
   "outputs": [],
   "source": [
    "samples"
   ]
  },
  {
   "cell_type": "code",
   "execution_count": null,
   "id": "1bb4b3ba-7e12-4c81-ae9a-add85af1e114",
   "metadata": {},
   "outputs": [],
   "source": [
    "np.quantile(samples, 0.75)"
   ]
  },
  {
   "cell_type": "code",
   "execution_count": null,
   "id": "40f28a3a-3da6-433f-a8e9-b55a7681545d",
   "metadata": {},
   "outputs": [],
   "source": []
  },
  {
   "cell_type": "code",
   "execution_count": null,
   "id": "be200d34-d4e1-478a-95e2-616975a89d4e",
   "metadata": {},
   "outputs": [],
   "source": [
    "(52.9-4.3)/2"
   ]
  },
  {
   "cell_type": "code",
   "execution_count": null,
   "id": "429585e0-f340-458d-a3cc-9a2d9ef8cbfc",
   "metadata": {},
   "outputs": [],
   "source": [
    "(144+72)/2"
   ]
  },
  {
   "cell_type": "code",
   "execution_count": null,
   "id": "26109160-6ade-45f0-8f63-9737897befc4",
   "metadata": {},
   "outputs": [],
   "source": [
    "108418/12226"
   ]
  },
  {
   "cell_type": "code",
   "execution_count": null,
   "id": "8db1ef3d-54c0-4194-b5ea-757db8182150",
   "metadata": {},
   "outputs": [],
   "source": [
    "223843/(719047+836154+741999)"
   ]
  },
  {
   "cell_type": "code",
   "execution_count": null,
   "id": "cc47cc9d-1d94-4e77-8718-43ae8098ebda",
   "metadata": {},
   "outputs": [],
   "source": []
  },
  {
   "cell_type": "code",
   "execution_count": null,
   "id": "efbe6915-8f6d-43cb-a229-c75587037778",
   "metadata": {},
   "outputs": [],
   "source": [
    "test = np.array([10,4,11,7,3,12,11,9,5,5,8])\n",
    "np.median(test)"
   ]
  },
  {
   "cell_type": "markdown",
   "id": "28591313-4956-448c-81b3-8f6b3001abf0",
   "metadata": {},
   "source": [
    "Linear interpolation: Depending on the percentile $p$, NumPy locates the position in the sorted array corresponding to  $p \\times (N-1)$ where $N$ is the number of elements.\n",
    "- If this position is an integer, it selects the value at that index.\n",
    "- If it is not an integer, `NumPy` interpolates between the values at the two nearest indices.\n",
    "\n",
    "The formula for linear interpolation between two points $x_{1}$ and $x_{2}$ is as follows:\n",
    "$$ y = x_{1}+(x_{2}-x_{1}) \\times f$$\n",
    "\n",
    "Where:\n",
    "\n",
    "- $x_{1}$ is the lower value at the lower index\n",
    "- $x_{2}$ is the upper value at the upper index\n",
    "- $f$ is the fractional part of the position\n",
    "\n",
    "In the context of quantiles:\n",
    "- $x_{1}$ is the value at the floor of the computed position (i.e., the lower index).\n",
    "- $x_{2}$ is the value at the ceiling of the computed position (i.e., the upper index).\n",
    "- $f = pos - \\text{lower index}$ where $pos$ is the fractional position of $p \\times (n-1)$\n",
    "\n",
    "Formula for quantile interpolation:\n",
    "Given:\n",
    "\n",
    "Formula for quantile interpolation:\n",
    "Given:\n",
    "- $p$ as the percentile (quantile fraction, between 0 and 1),\n",
    "- $N$ as the number of data points,\n",
    "- Sorted data: $data[i]$,\n",
    "1. Compute position: $pos=p \\times (N−1)$\n",
    "2. The lower index is $\\text{lower index}=floor(pos)$\n",
    "3. The upper index is $\\text{upper index}=\\text{lower index}+1$\n",
    "4. Fraction $f=pos−\\text{lower index}$\n",
    "5. Interpolate between $x_{1}=data[\\text{lower index}]$ and $x_{2}=data[\\text{upper index}]$\n",
    "\n",
    "$$ \n",
    "q_{p} = x_{1} + f \\times (x_{2}+x_{1})\n",
    "$$\n",
    "\n",
    "Where $q_{p}$ is the quantile value at the percentile $p$."
   ]
  },
  {
   "cell_type": "code",
   "execution_count": null,
   "id": "fb581392-6a8e-4179-93d4-9c07260a515d",
   "metadata": {},
   "outputs": [],
   "source": [
    "data_set = np.array([3,5,21,10,4,11,7,3,12,11,9,5,5,8])\n",
    "p = 0.75\n",
    "\n",
    "samples = np.sort(data_set)\n",
    "pos = p*(len(samples)-1)\n",
    "\n",
    "n1 = int(np.floor(pos))\n",
    "n2 = int(np.ceil(pos))\n",
    "print(\"pos={}, n1={}, n2={}\".format(pos,n1,n2))\n",
    "(samples[n1]+samples[n2])/2"
   ]
  },
  {
   "cell_type": "code",
   "execution_count": null,
   "id": "07d38e14-b25a-4fdc-bfb0-d77c68eeb0c3",
   "metadata": {},
   "outputs": [],
   "source": [
    "(samples[9]+samples[10])/2"
   ]
  },
  {
   "cell_type": "code",
   "execution_count": null,
   "id": "626812ec-6d9e-4dc8-af5a-bdfc58877aaf",
   "metadata": {},
   "outputs": [],
   "source": [
    "np.quantile(samples, p)"
   ]
  },
  {
   "cell_type": "code",
   "execution_count": null,
   "id": "d01af549-f533-474b-a9a8-3ab01b4a3b16",
   "metadata": {},
   "outputs": [],
   "source": []
  },
  {
   "cell_type": "code",
   "execution_count": null,
   "id": "42111e23-f73d-4bda-a04f-4a0358242a13",
   "metadata": {},
   "outputs": [],
   "source": [
    "import numpy as np\n",
    "\n",
    "# Sample data\n",
    "data = [1, 2, 3, 4, 5, 6, 7, 8, 9, 10]\n",
    "\n",
    "# Compute the 25th, 50th (median), and 75th percentiles (quantiles)\n",
    "q25 = np.quantile(data, 0.25)\n",
    "q50 = np.quantile(data, 0.50)\n",
    "q75 = np.quantile(data, 0.75)\n",
    "\n",
    "print(f\"25th Percentile (Q1): {q25}\")\n",
    "print(f\"50th Percentile (Median): {q50}\")\n",
    "print(f\"75th Percentile (Q3): {q75}\")\n"
   ]
  },
  {
   "cell_type": "code",
   "execution_count": null,
   "id": "8251e149-3386-47e9-898b-6f399f1ee9d9",
   "metadata": {},
   "outputs": [],
   "source": [
    "p = 0.25\n",
    "\n",
    "samples = np.sort(data)\n",
    "pos = p*(len(data)-1)\n",
    "\n",
    "n1 = int(np.floor(pos))\n",
    "n2 = int(np.ceil(pos))\n",
    "print(\"pos={}, n1={}, n2={}\".format(pos,n1,n2))\n",
    "(samples[n1-1]+samples[n2-1])/2"
   ]
  },
  {
   "cell_type": "code",
   "execution_count": null,
   "id": "7350cff5-851d-41c2-b2e9-7fb425cf2ec0",
   "metadata": {},
   "outputs": [],
   "source": [
    "def compute_quantile(data, p):\n",
    "    \"\"\"\n",
    "    Compute the quantile of the given data for the given percentile p.\n",
    "    \n",
    "    Parameters:\n",
    "    data (list or array-like): The data for which to compute the quantile.\n",
    "    p (float): The quantile to compute (between 0 and 1).\n",
    "    \n",
    "    Returns:\n",
    "    float: The computed quantile.\n",
    "    \"\"\"\n",
    "    # Step 1: Sort the data\n",
    "    sorted_data = sorted(data)\n",
    "    \n",
    "    # Step 2: Compute the position in the sorted array\n",
    "    N = len(sorted_data)\n",
    "    pos = p * (N - 1)\n",
    "    \n",
    "    # Step 3: Find the lower and upper indices\n",
    "    lower_index = int(pos)\n",
    "    upper_index = lower_index + 1\n",
    "\n",
    "    print(\"pos={}, n1={}, n2={}\".format(pos,lower_index,upper_index))\n",
    "    # Step 4: Interpolation\n",
    "    if upper_index < N:\n",
    "        lower_value = sorted_data[lower_index]\n",
    "        upper_value = sorted_data[upper_index]\n",
    "        print(\"Lower Value = {}, Upper Value = {}\".format(lower_value, upper_value))\n",
    "        # Interpolate between the lower and upper values\n",
    "        fraction = pos - lower_index\n",
    "        return lower_value + fraction * (upper_value + - lower_value)\n",
    "    else:\n",
    "        # If the position is exactly at the last index, return the last element\n",
    "        return sorted_data[lower_index]"
   ]
  },
  {
   "cell_type": "code",
   "execution_count": null,
   "id": "2099b4f3-d865-499e-9d18-a5624017bbbb",
   "metadata": {},
   "outputs": [],
   "source": [
    "samples"
   ]
  },
  {
   "cell_type": "code",
   "execution_count": null,
   "id": "e87edb94-8567-4452-a96d-0c51d8ef93ee",
   "metadata": {},
   "outputs": [],
   "source": [
    "samples = \n",
    "\n",
    "p = 0.75\n",
    "pos = p*(len(samples)-1)\n",
    "\n",
    "n1 = int(np.floor(pos))\n",
    "n2 = int(np.ceil(pos))\n",
    "print(\"pos={}, n1={}, n2={}\".format(pos,n1,n2))\n",
    "#samples[n2]"
   ]
  },
  {
   "cell_type": "code",
   "execution_count": null,
   "id": "a16936aa-ed46-4538-bf6a-998895a0b251",
   "metadata": {},
   "outputs": [],
   "source": []
  },
  {
   "cell_type": "code",
   "execution_count": null,
   "id": "378ad196-ce84-4776-8981-2091f3404d44",
   "metadata": {},
   "outputs": [],
   "source": []
  },
  {
   "cell_type": "code",
   "execution_count": null,
   "id": "d9cba9a1-178f-4408-9d94-7b502abf8be3",
   "metadata": {},
   "outputs": [],
   "source": [
    "compute_quantile(samples, 0.75)"
   ]
  },
  {
   "cell_type": "code",
   "execution_count": null,
   "id": "ce2a0230-79b2-41e7-8341-ae0ec682ba3b",
   "metadata": {},
   "outputs": [],
   "source": []
  },
  {
   "cell_type": "code",
   "execution_count": null,
   "id": "0cdb7408-9be7-4ff0-bae5-48be0a841ea1",
   "metadata": {},
   "outputs": [],
   "source": [
    "np.quantile(samples, 0.75)"
   ]
  },
  {
   "cell_type": "code",
   "execution_count": null,
   "id": "442a6a3f-455a-4d6e-8062-1e4a1014c2e9",
   "metadata": {},
   "outputs": [],
   "source": [
    "data = data_set = np.array([3,5,21,10,4,11,7,3,12,11,9,5,5,8])\n",
    "compute_quantile(data, 0.75)"
   ]
  },
  {
   "cell_type": "code",
   "execution_count": null,
   "id": "b6ea2283-7beb-4a32-9c28-b0d597640a1c",
   "metadata": {},
   "outputs": [],
   "source": [
    "np.quantile(data, 0.75)"
   ]
  },
  {
   "cell_type": "code",
   "execution_count": null,
   "id": "d4263091-8d00-4e2e-aa0b-503ffbba41c2",
   "metadata": {},
   "outputs": [],
   "source": [
    "np.sort(test)"
   ]
  },
  {
   "cell_type": "code",
   "execution_count": null,
   "id": "95df6025-3898-4958-803d-23c3af975725",
   "metadata": {},
   "outputs": [],
   "source": [
    "(np.sort(test)[7]+np.sort(test)[8])/2"
   ]
  },
  {
   "cell_type": "code",
   "execution_count": null,
   "id": "60a433e7-e174-4e24-9464-37a6b8f14972",
   "metadata": {},
   "outputs": [],
   "source": []
  },
  {
   "cell_type": "code",
   "execution_count": null,
   "id": "dbb97281-1ffc-4aee-bc52-946d6e52ffd6",
   "metadata": {},
   "outputs": [],
   "source": [
    "np.quantile(test, 0.75, method='linear')"
   ]
  },
  {
   "cell_type": "code",
   "execution_count": null,
   "id": "8a51f929-19a4-4849-aaea-4b2d13b4ec0a",
   "metadata": {},
   "outputs": [],
   "source": [
    "np.sort(test)"
   ]
  },
  {
   "cell_type": "code",
   "execution_count": null,
   "id": "d5922302-34d1-4c9b-a37c-838b80500b67",
   "metadata": {},
   "outputs": [],
   "source": [
    "test_frame = pd.DataFrame(\n",
    "    {\n",
    "        'x' : test\n",
    "    }\n",
    ")\n",
    "test_frame"
   ]
  },
  {
   "cell_type": "code",
   "execution_count": null,
   "id": "549bb357-99f0-4bc6-a421-8b0715b7c470",
   "metadata": {},
   "outputs": [],
   "source": [
    "alt.Chart(test_frame).mark_boxplot().encode(\n",
    "    x = 'x'\n",
    ")"
   ]
  },
  {
   "cell_type": "code",
   "execution_count": null,
   "id": "8503e4e1-46de-44a0-8f2a-b95f0dc6d235",
   "metadata": {},
   "outputs": [],
   "source": []
  },
  {
   "cell_type": "code",
   "execution_count": null,
   "id": "b81c913d-e0d1-403d-b703-2194dd2bdc78",
   "metadata": {},
   "outputs": [],
   "source": [
    "values =  [0, 3, 4.4, 4.5, 4.6, 5, 7]\n",
    "df = pd.DataFrame({'x': values})\n",
    "\n",
    "points = alt.Chart(df).mark_circle(color='black', size=120).encode(\n",
    "    x=alt.X('x:Q', scale=alt.Scale(zero=False)),\n",
    ")\n",
    "\n",
    "boxplot = alt.Chart(df).mark_boxplot(ticks=True, extent=1.5, outliers=True).encode(\n",
    "    x='x:Q',\n",
    ")\n",
    "\n",
    "iqr = alt.Chart(df).mark_rect(color='lime').encode(\n",
    "    x='q1(x):Q',\n",
    "    x2='q3(x):Q'\n",
    ")\n",
    "\n",
    "whiskers = alt.Chart(df).mark_rect(color='orange').transform_joinaggregate(\n",
    "    q1='q1(x)',\n",
    "    q3='q3(x)',\n",
    ").transform_calculate(\n",
    "    iqr='datum.q3 - datum.q1'\n",
    ").transform_filter(\n",
    "    # VL concatenates these strings so we can split\n",
    "    # them on two lines to improve readability\n",
    "    'datum.x < (datum.q3 + datum.iqr * 1.5)'\n",
    "    '&& datum.x > (datum.q1 - datum.iqr * 1.5)'\n",
    ").encode(\n",
    "    x='min(x)',\n",
    "    x2='max(x)',\n",
    ")\n",
    "\n",
    "minmax = alt.Chart(df).mark_rect(color='red').transform_aggregate(\n",
    "    xmin='min(x)',\n",
    "    xmax='max(x)'\n",
    ").encode(\n",
    "    x='xmin:Q',\n",
    "    x2='xmax:Q',\n",
    ").properties(width=1000)\n",
    "\n",
    "\n",
    "((boxplot + points) & (minmax + whiskers + iqr + points)).resolve_scale(x='shared')"
   ]
  },
  {
   "cell_type": "markdown",
   "id": "57d0083c-998a-40b0-963f-0815a31d4b9a",
   "metadata": {},
   "source": [
    "In this plot, the median value "
   ]
  },
  {
   "cell_type": "code",
   "execution_count": null,
   "id": "d2c9c89d-9ef8-4b98-8010-f44e120c0c2f",
   "metadata": {},
   "outputs": [],
   "source": [
    "df_subcategory_without_bookcases['sales'].median()"
   ]
  },
  {
   "cell_type": "code",
   "execution_count": null,
   "id": "6b68b37b-b5e0-4e9a-875c-7081427956b5",
   "metadata": {},
   "outputs": [],
   "source": [
    "df_subcategory_sales"
   ]
  },
  {
   "cell_type": "code",
   "execution_count": null,
   "id": "adac9967-f7f2-485a-a714-a692496d25b2",
   "metadata": {},
   "outputs": [],
   "source": [
    "dataset_median(new_dataset)"
   ]
  },
  {
   "cell_type": "code",
   "execution_count": null,
   "id": "966e4d29-2709-40d1-a67e-6d954ad1416d",
   "metadata": {},
   "outputs": [],
   "source": [
    "dataset.median()"
   ]
  },
  {
   "cell_type": "code",
   "execution_count": null,
   "id": "0259a741-ce88-4206-a5fb-1b15c9db5b9a",
   "metadata": {},
   "outputs": [],
   "source": []
  },
  {
   "cell_type": "code",
   "execution_count": null,
   "id": "440cee1f-861b-4050-aa70-cbfb3315ba19",
   "metadata": {},
   "outputs": [],
   "source": [
    "df_subcategory_sales = (data\n",
    " .groupby('Sub-Category', observed=True)\n",
    " .agg(\n",
    "     sales = ('Sales', 'sum'),\n",
    " ).reset_index()\n",
    ")\n",
    "\n",
    "dataset = df_subcategory_sales['sales']\n",
    "\n",
    "midpoint = len(dataset)/2\n",
    "if midpoint%2 != 0:\n",
    "    print(dataset.sort_values().iloc[int(midpoint)])\n",
    "else:\n",
    "    print((dataset.sort_values().iloc[int(midpoint)]+dataset.sort_values().iloc[int(midpoint)+1])/2)\n",
    "\n",
    "# dataset.sort_values()"
   ]
  },
  {
   "cell_type": "code",
   "execution_count": null,
   "id": "51595d2e-9687-4e23-8622-f44fde165602",
   "metadata": {},
   "outputs": [],
   "source": [
    "new_dataset = dataset.drop(labels=dataset[dataset.values == 114879.9963].index)"
   ]
  },
  {
   "cell_type": "code",
   "execution_count": null,
   "id": "0734be96-d79a-4565-a007-2a86317d9b96",
   "metadata": {},
   "outputs": [],
   "source": [
    "new_dataset.median()"
   ]
  },
  {
   "cell_type": "code",
   "execution_count": null,
   "id": "72e468f1-86a9-452b-8ba6-5bf53eaadda2",
   "metadata": {},
   "outputs": [],
   "source": [
    "midpoint = len(new_dataset)/2\n",
    "if midpoint%2 != 0:\n",
    "    print(new_dataset.sort_values().iloc[int(midpoint)])\n",
    "else:\n",
    "    print((new_dataset.sort_values().iloc[int(midpoint)-1]+new_dataset.sort_values().iloc[int(midpoint)])/2)"
   ]
  },
  {
   "cell_type": "code",
   "execution_count": null,
   "id": "3a40b9fe-f51a-42ca-a970-034814c2227e",
   "metadata": {},
   "outputs": [],
   "source": []
  },
  {
   "cell_type": "code",
   "execution_count": null,
   "id": "a8786806-5eca-46c8-bed6-5940b3e10e9c",
   "metadata": {},
   "outputs": [],
   "source": [
    "dataset.sort_values().iloc[1]"
   ]
  },
  {
   "cell_type": "code",
   "execution_count": null,
   "id": "0903810f-7198-4cf3-87c0-9ce61327d8ea",
   "metadata": {},
   "outputs": [],
   "source": [
    "median = df_subcategory_sales['sales'].median()\n",
    "print(\"sales median as computed by numpy: {}\".format(median))\n",
    "\n",
    "\n",
    "df_subcategory_sales.iloc[8]"
   ]
  },
  {
   "cell_type": "code",
   "execution_count": null,
   "id": "82f3fe53-a704-4261-a46d-e9d775132182",
   "metadata": {},
   "outputs": [],
   "source": [
    "def median(dataset):\n",
    "    len_data = df_subcategory_sales.shape[0]\n",
    "    \n",
    "    if (len_data % 2) != 0:\n",
    "        mid_point_index = len_data //2\n",
    "        print(df_subcategory_sales.iloc[mid_point_index])"
   ]
  },
  {
   "cell_type": "code",
   "execution_count": null,
   "id": "b8b7f789-8915-4682-8e86-35fdb4bd4c98",
   "metadata": {},
   "outputs": [],
   "source": [
    "dataset = df_subcategory_sales['sales']\n",
    "dataset.sort_values()"
   ]
  },
  {
   "cell_type": "code",
   "execution_count": null,
   "id": "2e835608-e8df-4eb0-8a8e-6055921744d9",
   "metadata": {},
   "outputs": [],
   "source": []
  },
  {
   "cell_type": "code",
   "execution_count": null,
   "id": "a1a3505f-07c6-416a-aec9-0bfdb92c2bd9",
   "metadata": {},
   "outputs": [],
   "source": [
    "df_subcategory_sales.sort_values('sales').reset_index(drop=True).iloc[3]"
   ]
  },
  {
   "cell_type": "markdown",
   "id": "523208c3-e547-4e31-8368-2d1ae6b95ba7",
   "metadata": {},
   "source": [
    "In statistics, ***quantiles*** are particular points dividing a sample into equally sized, adjacent subgroups. As an example, the median is a quantiles, so that exactly half of the data is lower than the median and half of the data is above the median.\n",
    "***Quartiles*** divide the distribution into four equal part.\n",
    "\n",
    "In our example, we are considering the sales points from the different Sub Categories. To determine which data point belongs to the right quartile, se sort the values and divide the array into 4 equal parts:"
   ]
  },
  {
   "cell_type": "markdown",
   "id": "c01c3fab-59d4-4728-a67e-a8f095e4e928",
   "metadata": {},
   "source": [
    "The middle point of the `sales` column is Bookcases, 114879.9963: this value represent the median of the dataset. Now, we break down it further into 4 equal parts and obtain:\n",
    "- 1st Quartile: `Fastners`, `Labels`, `Envelops` and `Art`\n",
    "- 2nd Quartile: `Supplies`, `Paper`, `Furnishing` and `Appliances`\n",
    "- Median: `Bookcases`\n",
    "- 3rd Quartile: `Copiers`, `Accessories`, `Machines` and `Binders`\n",
    "- 4th Quartile: `Tables`, `Storage`, `Chairs` and `Phones`\n",
    "\n",
    "`pandas` and `numpy` both offer methods to easily compute quartile, but to better understand it, let's reinvent the wheel and define a Python function that do the same. To do it, we will go back to the very definition of quartile and focus on the standard definition about the percentages (0.25, 0.5, 0.6"
   ]
  },
  {
   "cell_type": "code",
   "execution_count": null,
   "id": "bd21d17f-2270-4e7a-bfbb-c47d1bf66d5c",
   "metadata": {},
   "outputs": [],
   "source": [
    "df_subcategory_sales[df_subcategory_sales['sales'] < df_subcategory_sales['sales'].quantile(0.25)]"
   ]
  },
  {
   "cell_type": "code",
   "execution_count": null,
   "id": "0f102f55-f038-49b2-a6ff-c6593123a773",
   "metadata": {},
   "outputs": [],
   "source": [
    "df_subcategory_sales[(df_subcategory_sales['sales'] >= df_subcategory_sales['sales'].quantile(0.25)) & (df_subcategory_sales['sales'] < df_subcategory_sales['sales'].median())]"
   ]
  },
  {
   "cell_type": "markdown",
   "id": "18a2276a-9547-40e6-916e-06061d25b67d",
   "metadata": {},
   "source": [
    "To make it more clear, let's plot the box plot and the associated points"
   ]
  },
  {
   "cell_type": "code",
   "execution_count": null,
   "id": "0177eb6e-f743-48f4-af33-fc6cb9b09212",
   "metadata": {},
   "outputs": [],
   "source": [
    "points = (alt\n",
    "          .Chart(df_subcategory_sales)\n",
    "          .mark_point(size = 50, filled=True, opacity=0.8, color = '#953f0a')\n",
    "          .encode(\n",
    "              x = alt.X('sales:Q'),\n",
    "              tooltip = ['Sub-Category:N', 'sales:Q']                        \n",
    "          )\n",
    "          # .configure_mark(\n",
    "          #     opacity=0.8,\n",
    "          #     color='#953f0a'\n",
    "          # )\n",
    "         )\n",
    "\n",
    "box = (alt\n",
    "       .Chart(df_subcategory_sales)\n",
    "       .mark_boxplot(size = 40)\n",
    "       .encode(\n",
    "           x = alt.X('sales:Q')\n",
    "       )\n",
    "      )\n",
    "       \n",
    "\n",
    "chart = (box + points).properties(\n",
    "    title = 'Sales by Sub-category box plot',\n",
    "    width = 620,\n",
    "    height = 100\n",
    ")\n",
    "\n",
    "chart"
   ]
  },
  {
   "cell_type": "code",
   "execution_count": null,
   "id": "a2dd75e8-7ffa-4c12-8777-a5b84b07a18d",
   "metadata": {},
   "outputs": [],
   "source": []
  },
  {
   "cell_type": "code",
   "execution_count": null,
   "id": "97674d0f-cf4d-4b1e-80eb-928a4e59436f",
   "metadata": {},
   "outputs": [],
   "source": [
    "df_test = df_subcategory_sales[df_subcategory_sales['Sub-Category'] != 'Bookcases'].reset_index(drop=True)\n",
    "df_test"
   ]
  },
  {
   "cell_type": "code",
   "execution_count": null,
   "id": "85a02691-321c-4a3c-abab-37f97d3a9cca",
   "metadata": {},
   "outputs": [],
   "source": [
    "points = (alt\n",
    "          .Chart(df_test)\n",
    "          .mark_point(size = 50, filled=True, opacity=0.8, color = '#953f0a')\n",
    "          .encode(\n",
    "              x = alt.X('sales:Q'),\n",
    "              tooltip = ['Sub-Category:N', 'sales:Q']                        \n",
    "          )\n",
    "         )\n",
    "\n",
    "box = (alt\n",
    "       .Chart(df_test)\n",
    "       .mark_boxplot(size = 40)\n",
    "       .encode(\n",
    "           x = alt.X('sales:Q')\n",
    "       )\n",
    "      )\n",
    "       \n",
    "\n",
    "chart = (box + points).properties(\n",
    "    title = 'Sales by Sub-category box plot',\n",
    "    width = 620,\n",
    "    height = 100\n",
    ")\n",
    "\n",
    "chart"
   ]
  },
  {
   "cell_type": "markdown",
   "id": "63fa04b8-382f-404c-8342-51c397b7b467",
   "metadata": {},
   "source": [
    "## IQR - Interquartile Range"
   ]
  },
  {
   "cell_type": "markdown",
   "id": "1ade590d-51ba-483a-9eb8-3dcf08a9945e",
   "metadata": {},
   "source": [
    "In our example, the dataset consist of points that are quete close each other, meaning that they do not particularly spread all over the possible values. Let's now focus our analyisis on the same Sales dataset but we now want to consider the sales only in the `Central` region."
   ]
  },
  {
   "cell_type": "code",
   "execution_count": null,
   "id": "8eef3d2f-4883-4cba-9137-701947a106a3",
   "metadata": {},
   "outputs": [],
   "source": [
    "df_central_sales = (data[data['Region'] == 'Central']\n",
    "                    .groupby('Sub-Category')\n",
    "                    .agg(\n",
    "                        sales = ('Sales','sum')\n",
    "                    )\n",
    "                   ).sort_values('sales').reset_index()\n",
    "\n",
    "\n",
    "points = (alt\n",
    "          .Chart(df_central_sales)\n",
    "          .mark_point(size = 50, filled=True, opacity=0.8, color = '#953f0a')\n",
    "          .encode(\n",
    "              y = alt.Y('sales:Q'),\n",
    "              tooltip = ['Sub-Category:N', 'sales:Q']                        \n",
    "          )\n",
    "\n",
    "         )\n",
    "\n",
    "box = (alt\n",
    "       .Chart(df_central_sales)\n",
    "       .mark_boxplot(size = 40)\n",
    "       .encode(\n",
    "           y = alt.Y('sales:Q')\n",
    "       )\n",
    "      )\n",
    "       \n",
    "\n",
    "chart = (box + points).properties(\n",
    "    title = 'Sales by Sub-category in Central Region box plot',\n",
    "    width = 100,\n",
    "    height = 420\n",
    ")\n",
    "\n",
    "chart"
   ]
  },
  {
   "cell_type": "code",
   "execution_count": null,
   "id": "da9bd505-c78f-4ac4-a696-caabf3423b84",
   "metadata": {},
   "outputs": [],
   "source": []
  },
  {
   "cell_type": "code",
   "execution_count": null,
   "id": "72ccca8e-cf3a-4eb1-abca-1eb84fd1e538",
   "metadata": {},
   "outputs": [],
   "source": [
    "df_subcategory_profit = (data\n",
    " .groupby('Sub-Category', observed=True)\n",
    " .agg(\n",
    "     profit = ('Profit', 'sum'),\n",
    " )\n",
    ").reset_index().sort_values('profit', ascending = False)\n",
    "\n",
    "box = (alt\n",
    "       .Chart(df_subcategory_profit)\n",
    "       .mark_boxplot(size = 40)\n",
    "       .encode(\n",
    "           y = alt.Y('profit:Q')\n",
    "       )\n",
    "      )\n",
    "\n",
    "box.properties(\n",
    "    title = 'Profit by Sub-category box plot',\n",
    "    width = 100,\n",
    "    height = 420\n",
    ")"
   ]
  },
  {
   "cell_type": "code",
   "execution_count": null,
   "id": "cf1ca235-bc94-49d6-9811-698cfbfb7b7c",
   "metadata": {},
   "outputs": [],
   "source": [
    "df_subcategory_profit"
   ]
  },
  {
   "cell_type": "code",
   "execution_count": null,
   "id": "7300752b-b519-414b-adaa-e42233e0b53a",
   "metadata": {},
   "outputs": [],
   "source": [
    "points = (alt\n",
    "          .Chart(df_subcategory_profit)\n",
    "          .mark_point(size = 50, filled=True, opacity=0.8, color = '#953f0a')\n",
    "          .encode(\n",
    "              y = alt.Y('profit:Q'),\n",
    "              tooltip = ['Sub-Category:N', 'profit:Q']                        \n",
    "          )\n",
    "          # .configure_mark(\n",
    "          #     opacity=0.8,\n",
    "          #     color='#953f0a'\n",
    "          # )\n",
    "         )\n",
    "\n",
    "box = (alt\n",
    "       .Chart(df_subcategory_profit)\n",
    "       .mark_boxplot(size = 40)\n",
    "       .encode(\n",
    "           y = alt.Y('profit:Q')\n",
    "       )\n",
    "      )\n",
    "       \n",
    "\n",
    "chart = (box + points).properties(\n",
    "    title = 'Profit by Sub-category box plot',\n",
    "    width = 100,\n",
    "    height = 420\n",
    ")\n",
    "\n",
    "chart"
   ]
  },
  {
   "cell_type": "markdown",
   "id": "c1297a90-57b3-47ba-a5dd-7903837e2a1a",
   "metadata": {},
   "source": [
    "The Interquartile Range is an important measure of statistical dispersion and its definition is quite basic: is the difference between the third and first quartile. \n",
    "\n",
    "$$\n",
    "IQR = Q_{3}- Q{1}\n",
    "$$"
   ]
  },
  {
   "cell_type": "code",
   "execution_count": null,
   "id": "b43fdc73-b459-44c2-967a-154fd29b31a5",
   "metadata": {},
   "outputs": [],
   "source": [
    "df_subcategory_sales['sales'].quantile(0.75) - df_subcategory_sales['sales'].quantile(0.25)"
   ]
  },
  {
   "cell_type": "markdown",
   "id": "e169564e-dd63-4650-ae16-1a2ef4f07d3a",
   "metadata": {},
   "source": [
    "The interquartile range plays an important role when we want to identify points in the dataset that are potentially outliers, i.e. points quite far away from the distribution. In a boxplot, "
   ]
  },
  {
   "cell_type": "markdown",
   "id": "8bf89b9f-82f8-4f81-89ed-eacab09fc666",
   "metadata": {},
   "source": [
    "In statistics, "
   ]
  },
  {
   "cell_type": "code",
   "execution_count": null,
   "id": "f3f2b7bf-525a-4a4a-97ae-89256b3cd71a",
   "metadata": {},
   "outputs": [],
   "source": []
  },
  {
   "cell_type": "code",
   "execution_count": null,
   "id": "088d1b1f-cca2-4cae-8d79-4fb8030f22df",
   "metadata": {},
   "outputs": [],
   "source": [
    "df_subcategory_sales['sales'].min()"
   ]
  },
  {
   "cell_type": "code",
   "execution_count": null,
   "id": "2dc0f950-d050-48fb-b805-5bc2b74264b1",
   "metadata": {},
   "outputs": [],
   "source": []
  },
  {
   "cell_type": "code",
   "execution_count": null,
   "id": "6e8972f6-2f8a-4af3-bf39-929e6100a409",
   "metadata": {},
   "outputs": [],
   "source": []
  },
  {
   "cell_type": "code",
   "execution_count": null,
   "id": "e68e2f1b-4ceb-42e0-8efd-9f503df1e9d8",
   "metadata": {},
   "outputs": [],
   "source": [
    "base = (alt\n",
    " .Chart(df_subcategory_sales)\n",
    "#  .mark_point()\n",
    " .encode(\n",
    "#     x = 'Sub-Category:',\n",
    "     y = 'sales'\n",
    " ).properties(\n",
    "    width=200\n",
    " )\n",
    ")\n",
    "\n",
    "base.mark_point() + base.mark_boxplot() "
   ]
  },
  {
   "cell_type": "code",
   "execution_count": null,
   "id": "33e339d9-2ae4-4fbb-8038-93b02d862675",
   "metadata": {},
   "outputs": [],
   "source": [
    "# Create the dataframe\n",
    "dataX = {\n",
    "    'Sub-Category': ['Phones', 'Chairs', 'Storage', 'Tables', 'Binders', 'Machines', \n",
    "                     'Accessories', 'Copiers', 'Bookcases', 'Appliances'],\n",
    "    'Sales': [330007.0540, 328449.1030, 223843.6080, 206965.5320, 203412.7330, \n",
    "              189238.6310, 167380.3180, 149528.0300, 114879.9963, 107532.1610]\n",
    "}\n",
    "\n",
    "dfX = pd.DataFrame(dataX)\n",
    "\n",
    "# Create the Altair scatter plot\n",
    "chart = alt.Chart(dfX).mark_point().encode(\n",
    "    x=alt.X('Sub-Category:N', sort='-y', title='Sub-Category'),\n",
    "    y=alt.Y('Sales:Q', title='Sales'),\n",
    "    tooltip=['Sub-Category:N', 'Sales:Q']  # Add tooltips\n",
    ").properties(\n",
    "    title='Sales by Sub-Category',\n",
    "    width=500,\n",
    "    height=300\n",
    ")\n",
    "\n",
    "chart.display()"
   ]
  },
  {
   "cell_type": "code",
   "execution_count": null,
   "id": "08fdb19a-509c-4608-9a8a-e712bb3fa398",
   "metadata": {},
   "outputs": [],
   "source": [
    "np.round(df_subcategory_sales['sales'].median(),0)"
   ]
  },
  {
   "cell_type": "code",
   "execution_count": null,
   "id": "12a04bb6-55dc-4998-9399-e8bd03185ff2",
   "metadata": {},
   "outputs": [],
   "source": [
    "np.quantile(df_subcategory_sales['sales'], 0.75)"
   ]
  },
  {
   "cell_type": "code",
   "execution_count": null,
   "id": "a157bd01-ee0a-48fa-b5b8-5d257439c80c",
   "metadata": {},
   "outputs": [],
   "source": [
    "data.columns"
   ]
  },
  {
   "cell_type": "code",
   "execution_count": null,
   "id": "708d4a20-a746-4cc9-b799-a033e07d29a8",
   "metadata": {},
   "outputs": [],
   "source": [
    "data.Region.unique()"
   ]
  },
  {
   "cell_type": "code",
   "execution_count": null,
   "id": "1d4dd00a-ebcb-4428-a1ae-f14641779ae6",
   "metadata": {},
   "outputs": [],
   "source": [
    "df_region_subcat = (data\n",
    "                    .groupby(['Region', 'Sub-Category'])\n",
    "                    .agg(\n",
    "                        sales = ('Sales','sum'),\n",
    "                        profit = ('Profit', 'sum'),\n",
    "                        quantity = ('Quantity', 'sum')\n",
    "                    )\n",
    "                   ).reset_index()\n",
    "\n",
    "df_region_subcat.head(2)"
   ]
  },
  {
   "cell_type": "code",
   "execution_count": null,
   "id": "bdd1981a-7498-4146-ad9f-152317c961af",
   "metadata": {},
   "outputs": [],
   "source": []
  },
  {
   "cell_type": "code",
   "execution_count": null,
   "id": "4576c85b-75ab-4d50-83f0-55fc915e0896",
   "metadata": {},
   "outputs": [],
   "source": [
    "(alt\n",
    " .Chart(df_region_subcat)\n",
    " .mark_boxplot(ticks=True, size=15)\n",
    " .encode(\n",
    "     x = 'Region:O',\n",
    "     y = 'sales:Q',\n",
    " )\n",
    " .properties(\n",
    "    width=200\n",
    " )\n",
    " .configure_view(\n",
    "    stroke=None\n",
    " )\n",
    ")"
   ]
  },
  {
   "cell_type": "code",
   "execution_count": null,
   "id": "0c0eb9e6-3b7b-4429-a8dc-1eb104264585",
   "metadata": {},
   "outputs": [],
   "source": []
  },
  {
   "cell_type": "code",
   "execution_count": null,
   "id": "f211d541-39b7-45fb-9665-9c289b3071ee",
   "metadata": {},
   "outputs": [],
   "source": []
  },
  {
   "cell_type": "code",
   "execution_count": null,
   "id": "19417d53-f2df-448e-a995-74f56d7cb5d6",
   "metadata": {},
   "outputs": [],
   "source": [
    "x = [1,2,3,4,5] \n",
    "y = [1,4,9,16,25]\n",
    "\n",
    "plt.plot(x, y)\n",
    "plt.title('Square Numbers')\n",
    "plt.xlabel('X')\n",
    "plt.ylabel('Y')\n",
    "plt.show()"
   ]
  },
  {
   "cell_type": "code",
   "execution_count": null,
   "id": "4dfb9f68-489a-4211-9455-e8b613d9141c",
   "metadata": {},
   "outputs": [],
   "source": [
    "df = pd.DataFrame({'x': [1, 2, 3, 4, 5], 'y': [1, 4, 9, 16, 25]})\n",
    "\n",
    "chart = (alt\n",
    "         .Chart(df)\n",
    "         .mark_line()\n",
    "         .encode(\n",
    "             x='x',\n",
    "             y='y'\n",
    "         ).properties(\n",
    "             title='Square Numbers'\n",
    "         )\n",
    "        )\n",
    "chart"
   ]
  },
  {
   "cell_type": "code",
   "execution_count": null,
   "id": "f4a185bd-220f-4e29-9ea9-982c12e4bdbf",
   "metadata": {},
   "outputs": [],
   "source": []
  },
  {
   "cell_type": "markdown",
   "id": "ac58576c-7b10-42e7-9879-81a7cbebb0d1",
   "metadata": {},
   "source": [
    "### Linear Interpolation"
   ]
  },
  {
   "cell_type": "code",
   "execution_count": null,
   "id": "5caefc9d-c3f5-4af8-8e3f-224671f8ee1e",
   "metadata": {},
   "outputs": [],
   "source": [
    "test_even = np.array([32.6,5.4,12.7,54.2,65.1,28.6,54.2,76.65,24.12,90.09])\n",
    "test_odd = np.array([32.6,5.4,12.7,54.2,65.1,28.6,54.2,76.65,24.12,90.09,28.3])\n",
    "len(test_odd)"
   ]
  },
  {
   "cell_type": "code",
   "execution_count": null,
   "id": "40059e06-2d12-4458-9f04-9b5466081670",
   "metadata": {},
   "outputs": [],
   "source": [
    "np.sort(test_odd)"
   ]
  },
  {
   "cell_type": "code",
   "execution_count": null,
   "id": "9b5b2298-1ae4-42c4-81b1-5b33fcfde7b4",
   "metadata": {},
   "outputs": [],
   "source": [
    "p = 0.25\n",
    "p*len(test_odd)-1"
   ]
  },
  {
   "cell_type": "code",
   "execution_count": null,
   "id": "59dd533f-d217-4501-ac82-2b2ecdc69bf0",
   "metadata": {},
   "outputs": [],
   "source": [
    "a = np.sort(test_odd)[1]\n",
    "b = np.sort(test_odd)[2]"
   ]
  },
  {
   "cell_type": "code",
   "execution_count": null,
   "id": "7176cbb1-1d65-46d6-a5ad-cc46dc875212",
   "metadata": {},
   "outputs": [],
   "source": [
    "a"
   ]
  },
  {
   "cell_type": "code",
   "execution_count": null,
   "id": "fa7e2588-648e-46b4-8e6e-cd0a91e28091",
   "metadata": {},
   "outputs": [],
   "source": [
    "b"
   ]
  },
  {
   "cell_type": "code",
   "execution_count": null,
   "id": "85e3eaa2-ae45-4741-98d4-4c0ee3ed5d98",
   "metadata": {},
   "outputs": [],
   "source": [
    "f = (p*len(test_odd))"
   ]
  },
  {
   "cell_type": "code",
   "execution_count": null,
   "id": "08fbd8ac-eb59-456f-a0bd-aa7379815c68",
   "metadata": {},
   "outputs": [],
   "source": [
    "linear_interpolation(24.12,28.3, 0.55)"
   ]
  },
  {
   "cell_type": "code",
   "execution_count": null,
   "id": "8165b657-d2c6-491f-9fff-0283c7805d33",
   "metadata": {},
   "outputs": [],
   "source": [
    "diff = 28.3 - 24.12\n",
    ".75*diff"
   ]
  },
  {
   "cell_type": "code",
   "execution_count": null,
   "id": "b6ad7a9a-9e32-4031-b534-440ce24cec44",
   "metadata": {},
   "outputs": [],
   "source": [
    "24.12+3.135"
   ]
  },
  {
   "cell_type": "code",
   "execution_count": null,
   "id": "a1738a13-e441-45d0-83b0-ee89307cdc63",
   "metadata": {},
   "outputs": [],
   "source": []
  },
  {
   "cell_type": "code",
   "execution_count": null,
   "id": "99cd6f07-6dc0-407b-98b5-97ce9b20d6a7",
   "metadata": {},
   "outputs": [],
   "source": [
    "linear_interpolation(a, b, f)"
   ]
  },
  {
   "cell_type": "code",
   "execution_count": null,
   "id": "13acef6e-1adf-405e-a99b-80216491cefd",
   "metadata": {},
   "outputs": [],
   "source": [
    "def linear_interpolation(a, b, p):\n",
    "    return(a+(p*(b-a)))"
   ]
  },
  {
   "cell_type": "code",
   "execution_count": null,
   "id": "2073d962-8792-411f-87d0-ac930c32efe9",
   "metadata": {},
   "outputs": [],
   "source": [
    "np.quantile(test_odd, p)"
   ]
  },
  {
   "cell_type": "code",
   "execution_count": null,
   "id": "81f92147-1c15-47c2-895c-57692a9b4d79",
   "metadata": {},
   "outputs": [],
   "source": [
    "np.sort(test_odd)"
   ]
  },
  {
   "cell_type": "code",
   "execution_count": null,
   "id": "b652216b-a3c5-4ec1-88cf-f9c36bc98059",
   "metadata": {},
   "outputs": [],
   "source": [
    "linear_interpolation(24.12, 28.3, f)"
   ]
  },
  {
   "cell_type": "code",
   "execution_count": null,
   "id": "43ac77bb-0d9e-43b0-83e5-175577e98a7b",
   "metadata": {},
   "outputs": [],
   "source": [
    "p*(len(test_odd))"
   ]
  },
  {
   "cell_type": "code",
   "execution_count": null,
   "id": "b1737b31-e278-4b61-83b6-357af36a65d4",
   "metadata": {},
   "outputs": [],
   "source": [
    "46-10"
   ]
  },
  {
   "cell_type": "code",
   "execution_count": null,
   "id": "a55d88c4-19d7-4c1c-86c6-7d7cde67ba6f",
   "metadata": {},
   "outputs": [],
   "source": [
    "print(p*(np.arange(10,20)))\n",
    "print(p*(np.arange(10,20))-1)"
   ]
  },
  {
   "cell_type": "code",
   "execution_count": null,
   "id": "682bbadc-7b2d-42cc-a42d-02d208d56bdd",
   "metadata": {},
   "outputs": [],
   "source": [
    "p*3"
   ]
  },
  {
   "cell_type": "code",
   "execution_count": null,
   "id": "8e0128e3-5a33-45b6-80e2-ec14ccfe3d17",
   "metadata": {},
   "outputs": [],
   "source": [
    "p*11"
   ]
  },
  {
   "cell_type": "code",
   "execution_count": null,
   "id": "cf6e8ca9-8a2e-4d49-b20a-5a26cd8ad4b3",
   "metadata": {},
   "outputs": [],
   "source": [
    "mytest = np.array([0.2,0.3,0.4])"
   ]
  },
  {
   "cell_type": "code",
   "execution_count": null,
   "id": "4fa95692-881d-466c-9ddd-7f50155f6cc3",
   "metadata": {},
   "outputs": [],
   "source": [
    "np.quantile(mytest, 0.05)"
   ]
  },
  {
   "cell_type": "code",
   "execution_count": null,
   "id": "7933a959-e041-40df-9d8c-8d3a0718a478",
   "metadata": {},
   "outputs": [],
   "source": []
  }
 ],
 "metadata": {
  "kernelspec": {
   "display_name": "Python 3 (ipykernel)",
   "language": "python",
   "name": "python3"
  },
  "language_info": {
   "codemirror_mode": {
    "name": "ipython",
    "version": 3
   },
   "file_extension": ".py",
   "mimetype": "text/x-python",
   "name": "python",
   "nbconvert_exporter": "python",
   "pygments_lexer": "ipython3",
   "version": "3.12.3"
  }
 },
 "nbformat": 4,
 "nbformat_minor": 5
}
