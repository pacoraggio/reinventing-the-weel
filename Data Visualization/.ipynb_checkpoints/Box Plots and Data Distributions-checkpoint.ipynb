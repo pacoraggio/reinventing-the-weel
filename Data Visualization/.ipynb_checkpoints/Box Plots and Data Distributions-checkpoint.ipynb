{
 "cells": [
  {
   "cell_type": "code",
   "execution_count": 1,
   "id": "79cba261-333f-45a4-9dd0-f8e0fb3659ba",
   "metadata": {},
   "outputs": [],
   "source": [
    "import pandas as pd\n",
    "import numpy as np\n",
    "\n",
    "import matplotlib.pyplot as plt\n",
    "import seaborn as sns\n",
    "\n",
    "import altair as alt"
   ]
  },
  {
   "cell_type": "markdown",
   "id": "cb2ed36e-f341-479f-bec1-7cae47c98560",
   "metadata": {},
   "source": [
    "## Reinventing the Wheel: A DIY approach to Data Analysis and Data Science"
   ]
  },
  {
   "cell_type": "markdown",
   "id": "4cae6c1f-44d5-4af8-82e9-d459615c6ae3",
   "metadata": {},
   "source": [
    "The approach of the Reinventing the Wheel (RtW), is to start from a small, sometime not that small, topic, disassemble it into even smaller pieces and then reassembling it traying to mimic the original form. This approach may help in understand better the basic concepts underying and \"own\" it. Most of the times, when you dismantle an object and rebuild it, you can end up with something that is clunkier or even look ugly. But for sure is something that you own.\n",
    "\n",
    "In this notebook, I will discuss Box Plots, a method used in descriptive statistics to visually show the [locality, spread and skewness groups of numerical data throug their quartiles](https://en.wikipedia.org/wiki/Box_plot). As a starting point, I will use the [`altair` boxplot](https://altair-viz.github.io/) of a dataset and drill down concepts like median, quartile, IQR, outliers as well as illustrating python and altair procedure often used in Data Analysis.\n",
    "\n",
    "To illustrate all the concepts, I will use the [Super Store Sales sample data](https://public.tableau.com/app/learn/sample-data) provided by Tableau Public. Some of the ideas I used for this notebook come from the Coursera Course Data Analysis with Tableau, by Tableau Learning Partner."
   ]
  },
  {
   "cell_type": "markdown",
   "id": "40b7fdae-68d2-426d-9ce9-cca0f102c571",
   "metadata": {},
   "source": [
    "# Box Plots and Data Distributions"
   ]
  },
  {
   "cell_type": "markdown",
   "id": "b63000b6-2215-46a9-a2e0-f506b16ac6e3",
   "metadata": {},
   "source": [
    "Box plots are a type of visualization that show a statistical summary of selected data. While histograms gives you a graphical understanding about how the data are distributed, and so helpfully indicating if they are evenly distributed, normal or skewed, the advantage of Box Plots is that they provide a visual representation of some of the main data distribution main characteristics, specifically median, quartiles and outliers."
   ]
  },
  {
   "cell_type": "code",
   "execution_count": 2,
   "id": "41232deb-3990-47a0-9f58-59c45ba7a6c4",
   "metadata": {},
   "outputs": [
    {
     "data": {
      "text/html": [
       "<div>\n",
       "<style scoped>\n",
       "    .dataframe tbody tr th:only-of-type {\n",
       "        vertical-align: middle;\n",
       "    }\n",
       "\n",
       "    .dataframe tbody tr th {\n",
       "        vertical-align: top;\n",
       "    }\n",
       "\n",
       "    .dataframe thead th {\n",
       "        text-align: right;\n",
       "    }\n",
       "</style>\n",
       "<table border=\"1\" class=\"dataframe\">\n",
       "  <thead>\n",
       "    <tr style=\"text-align: right;\">\n",
       "      <th></th>\n",
       "      <th>Row ID</th>\n",
       "      <th>Order ID</th>\n",
       "      <th>Order Date</th>\n",
       "      <th>Ship Date</th>\n",
       "      <th>Ship Mode</th>\n",
       "      <th>Customer ID</th>\n",
       "      <th>Customer Name</th>\n",
       "      <th>Segment</th>\n",
       "      <th>Country</th>\n",
       "      <th>City</th>\n",
       "      <th>...</th>\n",
       "      <th>Postal Code</th>\n",
       "      <th>Region</th>\n",
       "      <th>Product ID</th>\n",
       "      <th>Category</th>\n",
       "      <th>Sub-Category</th>\n",
       "      <th>Product Name</th>\n",
       "      <th>Sales</th>\n",
       "      <th>Quantity</th>\n",
       "      <th>Discount</th>\n",
       "      <th>Profit</th>\n",
       "    </tr>\n",
       "  </thead>\n",
       "  <tbody>\n",
       "    <tr>\n",
       "      <th>0</th>\n",
       "      <td>1</td>\n",
       "      <td>CA-2016-152156</td>\n",
       "      <td>2016-11-08</td>\n",
       "      <td>2016-11-11</td>\n",
       "      <td>Second Class</td>\n",
       "      <td>CG-12520</td>\n",
       "      <td>Claire Gute</td>\n",
       "      <td>Consumer</td>\n",
       "      <td>United States</td>\n",
       "      <td>Henderson</td>\n",
       "      <td>...</td>\n",
       "      <td>42420</td>\n",
       "      <td>South</td>\n",
       "      <td>FUR-BO-10001798</td>\n",
       "      <td>Furniture</td>\n",
       "      <td>Bookcases</td>\n",
       "      <td>Bush Somerset Collection Bookcase</td>\n",
       "      <td>261.96</td>\n",
       "      <td>2</td>\n",
       "      <td>0.0</td>\n",
       "      <td>41.9136</td>\n",
       "    </tr>\n",
       "    <tr>\n",
       "      <th>1</th>\n",
       "      <td>2</td>\n",
       "      <td>CA-2016-152156</td>\n",
       "      <td>2016-11-08</td>\n",
       "      <td>2016-11-11</td>\n",
       "      <td>Second Class</td>\n",
       "      <td>CG-12520</td>\n",
       "      <td>Claire Gute</td>\n",
       "      <td>Consumer</td>\n",
       "      <td>United States</td>\n",
       "      <td>Henderson</td>\n",
       "      <td>...</td>\n",
       "      <td>42420</td>\n",
       "      <td>South</td>\n",
       "      <td>FUR-CH-10000454</td>\n",
       "      <td>Furniture</td>\n",
       "      <td>Chairs</td>\n",
       "      <td>Hon Deluxe Fabric Upholstered Stacking Chairs,...</td>\n",
       "      <td>731.94</td>\n",
       "      <td>3</td>\n",
       "      <td>0.0</td>\n",
       "      <td>219.5820</td>\n",
       "    </tr>\n",
       "  </tbody>\n",
       "</table>\n",
       "<p>2 rows × 21 columns</p>\n",
       "</div>"
      ],
      "text/plain": [
       "   Row ID        Order ID Order Date  Ship Date     Ship Mode Customer ID  \\\n",
       "0       1  CA-2016-152156 2016-11-08 2016-11-11  Second Class    CG-12520   \n",
       "1       2  CA-2016-152156 2016-11-08 2016-11-11  Second Class    CG-12520   \n",
       "\n",
       "  Customer Name   Segment        Country       City  ... Postal Code  Region  \\\n",
       "0   Claire Gute  Consumer  United States  Henderson  ...       42420   South   \n",
       "1   Claire Gute  Consumer  United States  Henderson  ...       42420   South   \n",
       "\n",
       "        Product ID   Category Sub-Category  \\\n",
       "0  FUR-BO-10001798  Furniture    Bookcases   \n",
       "1  FUR-CH-10000454  Furniture       Chairs   \n",
       "\n",
       "                                        Product Name   Sales  Quantity  \\\n",
       "0                  Bush Somerset Collection Bookcase  261.96         2   \n",
       "1  Hon Deluxe Fabric Upholstered Stacking Chairs,...  731.94         3   \n",
       "\n",
       "   Discount    Profit  \n",
       "0       0.0   41.9136  \n",
       "1       0.0  219.5820  \n",
       "\n",
       "[2 rows x 21 columns]"
      ]
     },
     "execution_count": 2,
     "metadata": {},
     "output_type": "execute_result"
    }
   ],
   "source": [
    "data = pd.read_excel('./data/superstore_data.xlsx')\n",
    "data.head(2)"
   ]
  },
  {
   "cell_type": "markdown",
   "id": "98daa65e-7793-4f32-b936-9be3158ea0c4",
   "metadata": {},
   "source": [
    "From the data, we create a dataframe containing, for each Sub Category, the sum of the sales and visualize the distribution using a boxplot"
   ]
  },
  {
   "cell_type": "code",
   "execution_count": 3,
   "id": "26b97658-3b65-4f09-9fbf-e4a50c3520e9",
   "metadata": {},
   "outputs": [
    {
     "data": {
      "text/html": [
       "\n",
       "<style>\n",
       "  #altair-viz-b0d6e88f2b43414eba6083e60a9f6b93.vega-embed {\n",
       "    width: 100%;\n",
       "    display: flex;\n",
       "  }\n",
       "\n",
       "  #altair-viz-b0d6e88f2b43414eba6083e60a9f6b93.vega-embed details,\n",
       "  #altair-viz-b0d6e88f2b43414eba6083e60a9f6b93.vega-embed details summary {\n",
       "    position: relative;\n",
       "  }\n",
       "</style>\n",
       "<div id=\"altair-viz-b0d6e88f2b43414eba6083e60a9f6b93\"></div>\n",
       "<script type=\"text/javascript\">\n",
       "  var VEGA_DEBUG = (typeof VEGA_DEBUG == \"undefined\") ? {} : VEGA_DEBUG;\n",
       "  (function(spec, embedOpt){\n",
       "    let outputDiv = document.currentScript.previousElementSibling;\n",
       "    if (outputDiv.id !== \"altair-viz-b0d6e88f2b43414eba6083e60a9f6b93\") {\n",
       "      outputDiv = document.getElementById(\"altair-viz-b0d6e88f2b43414eba6083e60a9f6b93\");\n",
       "    }\n",
       "    const paths = {\n",
       "      \"vega\": \"https://cdn.jsdelivr.net/npm/vega@5?noext\",\n",
       "      \"vega-lib\": \"https://cdn.jsdelivr.net/npm/vega-lib?noext\",\n",
       "      \"vega-lite\": \"https://cdn.jsdelivr.net/npm/vega-lite@5.20.1?noext\",\n",
       "      \"vega-embed\": \"https://cdn.jsdelivr.net/npm/vega-embed@6?noext\",\n",
       "    };\n",
       "\n",
       "    function maybeLoadScript(lib, version) {\n",
       "      var key = `${lib.replace(\"-\", \"\")}_version`;\n",
       "      return (VEGA_DEBUG[key] == version) ?\n",
       "        Promise.resolve(paths[lib]) :\n",
       "        new Promise(function(resolve, reject) {\n",
       "          var s = document.createElement('script');\n",
       "          document.getElementsByTagName(\"head\")[0].appendChild(s);\n",
       "          s.async = true;\n",
       "          s.onload = () => {\n",
       "            VEGA_DEBUG[key] = version;\n",
       "            return resolve(paths[lib]);\n",
       "          };\n",
       "          s.onerror = () => reject(`Error loading script: ${paths[lib]}`);\n",
       "          s.src = paths[lib];\n",
       "        });\n",
       "    }\n",
       "\n",
       "    function showError(err) {\n",
       "      outputDiv.innerHTML = `<div class=\"error\" style=\"color:red;\">${err}</div>`;\n",
       "      throw err;\n",
       "    }\n",
       "\n",
       "    function displayChart(vegaEmbed) {\n",
       "      vegaEmbed(outputDiv, spec, embedOpt)\n",
       "        .catch(err => showError(`Javascript Error: ${err.message}<br>This usually means there's a typo in your chart specification. See the javascript console for the full traceback.`));\n",
       "    }\n",
       "\n",
       "    if(typeof define === \"function\" && define.amd) {\n",
       "      requirejs.config({paths});\n",
       "      require([\"vega-embed\"], displayChart, err => showError(`Error loading script: ${err.message}`));\n",
       "    } else {\n",
       "      maybeLoadScript(\"vega\", \"5\")\n",
       "        .then(() => maybeLoadScript(\"vega-lite\", \"5.20.1\"))\n",
       "        .then(() => maybeLoadScript(\"vega-embed\", \"6\"))\n",
       "        .catch(showError)\n",
       "        .then(() => displayChart(vegaEmbed));\n",
       "    }\n",
       "  })({\"config\": {\"view\": {\"continuousWidth\": 300, \"continuousHeight\": 300}}, \"data\": {\"name\": \"data-3131b6e5d84a82bb387bf37192661d65\"}, \"mark\": {\"type\": \"boxplot\", \"size\": 40}, \"encoding\": {\"y\": {\"field\": \"sales\", \"type\": \"quantitative\"}}, \"height\": 420, \"title\": \"Sales by Sub-category box plot\", \"width\": 100, \"$schema\": \"https://vega.github.io/schema/vega-lite/v5.20.1.json\", \"datasets\": {\"data-3131b6e5d84a82bb387bf37192661d65\": [{\"Sub-Category\": \"Fasteners\", \"sales\": 3024.28}, {\"Sub-Category\": \"Labels\", \"sales\": 12486.312}, {\"Sub-Category\": \"Envelopes\", \"sales\": 16476.402000000002}, {\"Sub-Category\": \"Art\", \"sales\": 27118.792}, {\"Sub-Category\": \"Supplies\", \"sales\": 46673.538}, {\"Sub-Category\": \"Paper\", \"sales\": 78479.206}, {\"Sub-Category\": \"Furnishings\", \"sales\": 91705.164}, {\"Sub-Category\": \"Appliances\", \"sales\": 107532.161}, {\"Sub-Category\": \"Bookcases\", \"sales\": 114879.9963}, {\"Sub-Category\": \"Copiers\", \"sales\": 149528.03}, {\"Sub-Category\": \"Accessories\", \"sales\": 167380.318}, {\"Sub-Category\": \"Machines\", \"sales\": 189238.631}, {\"Sub-Category\": \"Binders\", \"sales\": 203412.733}, {\"Sub-Category\": \"Tables\", \"sales\": 206965.532}, {\"Sub-Category\": \"Storage\", \"sales\": 223843.608}, {\"Sub-Category\": \"Chairs\", \"sales\": 328449.103}, {\"Sub-Category\": \"Phones\", \"sales\": 330007.054}]}}, {\"mode\": \"vega-lite\"});\n",
       "</script>"
      ],
      "text/plain": [
       "alt.Chart(...)"
      ]
     },
     "execution_count": 3,
     "metadata": {},
     "output_type": "execute_result"
    }
   ],
   "source": [
    "df_subcategory_sales = (data\n",
    " .groupby('Sub-Category', observed=True)\n",
    " .agg(\n",
    "     sales = ('Sales', 'sum'),\n",
    " )\n",
    ").sort_values('sales').reset_index()\n",
    "\n",
    "box = (alt\n",
    "       .Chart(df_subcategory_sales)\n",
    "       .mark_boxplot(size = 40)\n",
    "       .encode(\n",
    "           y = alt.Y('sales:Q')\n",
    "       )\n",
    "      )\n",
    "\n",
    "box.properties(\n",
    "    title = 'Sales by Sub-category box plot',\n",
    "    width = 100,\n",
    "    height = 420\n",
    ")"
   ]
  },
  {
   "cell_type": "markdown",
   "id": "a2e2d0d7-fd2e-4106-a332-42f5f04d5eab",
   "metadata": {},
   "source": [
    "Hovering on the newly created Box Plot, Altair provides the following information:\n",
    "- `Max` of sales: 330007.054\n",
    "- `Q3` of sales: 203412.733\n",
    "- `Median` of sales: 114879.9963\n",
    "- `Q1` of sales: 46673.538\n",
    "- `Min` of sales: 3024.24\n",
    "\n",
    "And\n",
    "- `Upper Whisker` of sales: 330007.054\n",
    "- `Lower Whisker` of sales: 3024.24\n",
    "\n",
    "These values aims to show how the data are distributed. But what are their meaning and how can we practically use when analysing the data? `Min` and `Max` are straigthforwardly indicating the minimum and maximum values of the dataset, but what `Median`, `Q1`, `Q3`, `Upper Whisker` and `Lower Whisker` mean and how `altair` calculate it?  \n",
    "\n",
    "Let's start looking at the concepts of median, quartile and Interquartile Range (IQR) and undersdand their role in the statistical description of a dataset."
   ]
  },
  {
   "cell_type": "markdown",
   "id": "7b67c7b2-e0b9-4bf5-9ef2-e3e7c31e0512",
   "metadata": {},
   "source": [
    "Dataset Median, Quartile and Interquartile Range"
   ]
  },
  {
   "cell_type": "markdown",
   "id": "34377916-8bc1-4b21-b119-12f896195dc2",
   "metadata": {},
   "source": [
    "When analysing dataset, we are dealing with discrete quantities (samples) that might be extracted from continuous distributions, like the height of a person or the distance covered by a starship. When calculating statistical measures of a dataset, like the median, we will always do it on a finite number of data. A way to characterize a dataset, is to divide its elements into parts, and one of the most common way to do it, is dividing it into four sets with the same number of elements each: these are called ***quartiles***."
   ]
  },
  {
   "cell_type": "markdown",
   "id": "a3d8c1e8-5838-4f1e-8263-c0e79ca22d04",
   "metadata": {},
   "source": [
    "### Median"
   ]
  },
  {
   "cell_type": "markdown",
   "id": "2ee99ff6-52cd-42b0-a153-20e743b73b71",
   "metadata": {},
   "source": [
    "> The ***median*** of a set of numbers is the value separating the higher half from the lower half of a data sample, a population, or a probability distribution.\n",
    "\n",
    "To compute the median of a set of number, we have to consider if the number of its element is odd or even. If the number of data points is odd, the median is the middle point, otherwise, the median is usually defined as the arithmetic mean of the two middle values.\n",
    "\n",
    "In the following cell we define a `dataset_median` function that takes a pandas series as input, sort it, calculate the midpoint and, based on the fact it is an odd or even number, compute the median of the dataset using the above definition"
   ]
  },
  {
   "cell_type": "code",
   "execution_count": 4,
   "id": "cdf638a2-c4c2-4574-888a-321991adc799",
   "metadata": {},
   "outputs": [],
   "source": [
    "def dataset_median(dataset):\n",
    "    \"\"\"\n",
    "    input: dataset is a pandas series\n",
    "    output: returns the median of the dataset\n",
    "    \"\"\"\n",
    "    midpoint = len(dataset)/2\n",
    "    if midpoint%2 != 0:\n",
    "        # if the lenths of the dataset is odd, return the middle point \n",
    "        return(dataset.sort_values().iloc[int(midpoint)])\n",
    "    # otherwise, return the arithmetic mean of the two middle points\n",
    "    return((dataset.sort_values().iloc[int(midpoint)-1]+dataset.sort_values().iloc[int(midpoint)])/2)"
   ]
  },
  {
   "cell_type": "markdown",
   "id": "aa1a184f-7445-4382-934f-41778a73ebbd",
   "metadata": {},
   "source": [
    "In our example, the sum of `Sales` per `Sub-Category` in the Super Store dataset, we have an odd number of elements. This means that the median `sales` is the 8<sup>th</sup> element of the sorter `sales` series."
   ]
  },
  {
   "cell_type": "code",
   "execution_count": 10,
   "id": "2abd7bbf-fc49-42d6-a023-dd148dcd88c0",
   "metadata": {},
   "outputs": [
    {
     "name": "stdout",
     "output_type": "stream",
     "text": [
      "median using the diy function: 114879.9963\n",
      "median using pandas median   : 114879.9963\n",
      "Sub-Category: Bookcases\n"
     ]
    }
   ],
   "source": [
    "dataset = df_subcategory_sales['sales']\n",
    "\n",
    "print(\"median using the diy function: {}\".format(dataset_median(dataset)))\n",
    "print(\"median using pandas median   : {}\".format(dataset.median()))\n",
    "## printing the Sub-Category\n",
    "print(\"Sub-Category: {}\".format(df_subcategory_sales[df_subcategory_sales['sales'] == dataset_median(df_subcategory_sales['sales'])]['Sub-Category'].values[0]))"
   ]
  },
  {
   "cell_type": "markdown",
   "id": "463ea345-61fc-48fd-abf5-37e69e7bea12",
   "metadata": {},
   "source": [
    "The following is the altair box-plot of the dataframe `sales` column. As we can see by hoovering on the data points, the median contains the `Bookcases` sub-category. When the dataset length is odd, the median point belongs to the $2$<sup>nd</sup> percentile ($50\\%$ of the data)"
   ]
  },
  {
   "cell_type": "code",
   "execution_count": 11,
   "id": "67235c56-c746-42d1-844c-d42cd017a708",
   "metadata": {},
   "outputs": [
    {
     "data": {
      "text/html": [
       "\n",
       "<style>\n",
       "  #altair-viz-ac333cbb0dea48fca3b90e72d2c95cb4.vega-embed {\n",
       "    width: 100%;\n",
       "    display: flex;\n",
       "  }\n",
       "\n",
       "  #altair-viz-ac333cbb0dea48fca3b90e72d2c95cb4.vega-embed details,\n",
       "  #altair-viz-ac333cbb0dea48fca3b90e72d2c95cb4.vega-embed details summary {\n",
       "    position: relative;\n",
       "  }\n",
       "</style>\n",
       "<div id=\"altair-viz-ac333cbb0dea48fca3b90e72d2c95cb4\"></div>\n",
       "<script type=\"text/javascript\">\n",
       "  var VEGA_DEBUG = (typeof VEGA_DEBUG == \"undefined\") ? {} : VEGA_DEBUG;\n",
       "  (function(spec, embedOpt){\n",
       "    let outputDiv = document.currentScript.previousElementSibling;\n",
       "    if (outputDiv.id !== \"altair-viz-ac333cbb0dea48fca3b90e72d2c95cb4\") {\n",
       "      outputDiv = document.getElementById(\"altair-viz-ac333cbb0dea48fca3b90e72d2c95cb4\");\n",
       "    }\n",
       "    const paths = {\n",
       "      \"vega\": \"https://cdn.jsdelivr.net/npm/vega@5?noext\",\n",
       "      \"vega-lib\": \"https://cdn.jsdelivr.net/npm/vega-lib?noext\",\n",
       "      \"vega-lite\": \"https://cdn.jsdelivr.net/npm/vega-lite@5.20.1?noext\",\n",
       "      \"vega-embed\": \"https://cdn.jsdelivr.net/npm/vega-embed@6?noext\",\n",
       "    };\n",
       "\n",
       "    function maybeLoadScript(lib, version) {\n",
       "      var key = `${lib.replace(\"-\", \"\")}_version`;\n",
       "      return (VEGA_DEBUG[key] == version) ?\n",
       "        Promise.resolve(paths[lib]) :\n",
       "        new Promise(function(resolve, reject) {\n",
       "          var s = document.createElement('script');\n",
       "          document.getElementsByTagName(\"head\")[0].appendChild(s);\n",
       "          s.async = true;\n",
       "          s.onload = () => {\n",
       "            VEGA_DEBUG[key] = version;\n",
       "            return resolve(paths[lib]);\n",
       "          };\n",
       "          s.onerror = () => reject(`Error loading script: ${paths[lib]}`);\n",
       "          s.src = paths[lib];\n",
       "        });\n",
       "    }\n",
       "\n",
       "    function showError(err) {\n",
       "      outputDiv.innerHTML = `<div class=\"error\" style=\"color:red;\">${err}</div>`;\n",
       "      throw err;\n",
       "    }\n",
       "\n",
       "    function displayChart(vegaEmbed) {\n",
       "      vegaEmbed(outputDiv, spec, embedOpt)\n",
       "        .catch(err => showError(`Javascript Error: ${err.message}<br>This usually means there's a typo in your chart specification. See the javascript console for the full traceback.`));\n",
       "    }\n",
       "\n",
       "    if(typeof define === \"function\" && define.amd) {\n",
       "      requirejs.config({paths});\n",
       "      require([\"vega-embed\"], displayChart, err => showError(`Error loading script: ${err.message}`));\n",
       "    } else {\n",
       "      maybeLoadScript(\"vega\", \"5\")\n",
       "        .then(() => maybeLoadScript(\"vega-lite\", \"5.20.1\"))\n",
       "        .then(() => maybeLoadScript(\"vega-embed\", \"6\"))\n",
       "        .catch(showError)\n",
       "        .then(() => displayChart(vegaEmbed));\n",
       "    }\n",
       "  })({\"config\": {\"view\": {\"continuousWidth\": 300, \"continuousHeight\": 300}}, \"layer\": [{\"mark\": {\"type\": \"boxplot\", \"size\": 40}, \"encoding\": {\"x\": {\"field\": \"sales\", \"type\": \"quantitative\"}}}, {\"mark\": {\"type\": \"point\", \"color\": \"#953f0a\", \"filled\": true, \"opacity\": 0.8, \"size\": 50}, \"encoding\": {\"tooltip\": [{\"field\": \"Sub-Category\", \"type\": \"nominal\"}, {\"field\": \"sales\", \"type\": \"quantitative\"}], \"x\": {\"field\": \"sales\", \"type\": \"quantitative\"}}}], \"data\": {\"name\": \"data-3131b6e5d84a82bb387bf37192661d65\"}, \"height\": 100, \"title\": \"Sales by Sub-category box plot\", \"width\": 620, \"$schema\": \"https://vega.github.io/schema/vega-lite/v5.20.1.json\", \"datasets\": {\"data-3131b6e5d84a82bb387bf37192661d65\": [{\"Sub-Category\": \"Fasteners\", \"sales\": 3024.28}, {\"Sub-Category\": \"Labels\", \"sales\": 12486.312}, {\"Sub-Category\": \"Envelopes\", \"sales\": 16476.402000000002}, {\"Sub-Category\": \"Art\", \"sales\": 27118.792}, {\"Sub-Category\": \"Supplies\", \"sales\": 46673.538}, {\"Sub-Category\": \"Paper\", \"sales\": 78479.206}, {\"Sub-Category\": \"Furnishings\", \"sales\": 91705.164}, {\"Sub-Category\": \"Appliances\", \"sales\": 107532.161}, {\"Sub-Category\": \"Bookcases\", \"sales\": 114879.9963}, {\"Sub-Category\": \"Copiers\", \"sales\": 149528.03}, {\"Sub-Category\": \"Accessories\", \"sales\": 167380.318}, {\"Sub-Category\": \"Machines\", \"sales\": 189238.631}, {\"Sub-Category\": \"Binders\", \"sales\": 203412.733}, {\"Sub-Category\": \"Tables\", \"sales\": 206965.532}, {\"Sub-Category\": \"Storage\", \"sales\": 223843.608}, {\"Sub-Category\": \"Chairs\", \"sales\": 328449.103}, {\"Sub-Category\": \"Phones\", \"sales\": 330007.054}]}}, {\"mode\": \"vega-lite\"});\n",
       "</script>"
      ],
      "text/plain": [
       "alt.LayerChart(...)"
      ]
     },
     "execution_count": 11,
     "metadata": {},
     "output_type": "execute_result"
    }
   ],
   "source": [
    "points = (alt\n",
    "          .Chart(df_subcategory_sales)\n",
    "          .mark_point(size = 50, filled=True, opacity=0.8, color = '#953f0a')\n",
    "          .encode(\n",
    "              x = alt.X('sales:Q'),\n",
    "              tooltip = ['Sub-Category:N', 'sales:Q']                        \n",
    "          )\n",
    "         )\n",
    "\n",
    "box = (alt\n",
    "       .Chart(df_subcategory_sales)\n",
    "       .mark_boxplot(size = 40)\n",
    "       .encode(\n",
    "           x = alt.X('sales:Q')\n",
    "       )\n",
    "      )\n",
    "       \n",
    "\n",
    "chart = (box + points).properties(\n",
    "    title = 'Sales by Sub-category box plot',\n",
    "    width = 620,\n",
    "    height = 100\n",
    ")\n",
    "\n",
    "chart"
   ]
  },
  {
   "cell_type": "markdown",
   "id": "48d3b965-de45-4066-96a5-5e0bb5dc56eb",
   "metadata": {},
   "source": [
    "When we have an odd numer of sample in our dataset, the median also correspond to a specific point of the dataset (in our case is Bookcases).\n",
    "\n",
    "We now remove the median point from the dataset and compute the new median of the `sales` dataset, now consisting of an odd number of elements."
   ]
  },
  {
   "cell_type": "code",
   "execution_count": 13,
   "id": "50c3df16-25e3-430f-9a1e-18d0b996a59f",
   "metadata": {},
   "outputs": [
    {
     "data": {
      "text/plain": [
       "16"
      ]
     },
     "execution_count": 13,
     "metadata": {},
     "output_type": "execute_result"
    }
   ],
   "source": [
    "df_subcategory_without_bookcases = df_subcategory_sales.drop(df_subcategory_sales[df_subcategory_sales['Sub-Category'] == 'Bookcases'].index).reset_index(drop = True)\n",
    "df_subcategory_without_bookcases.shape[0]"
   ]
  },
  {
   "cell_type": "markdown",
   "id": "b1bf964d-fdfc-414a-a31e-21444912a7ff",
   "metadata": {},
   "source": [
    "Applying the same steps as before, we obtain:"
   ]
  },
  {
   "cell_type": "code",
   "execution_count": 14,
   "id": "7d9fff8e-34d6-4dd8-88a3-ce9da5e1cd0a",
   "metadata": {},
   "outputs": [
    {
     "name": "stdout",
     "output_type": "stream",
     "text": [
      "median using the diy function: 128530.0955\n",
      "median using pandas median   : 128530.0955\n"
     ]
    }
   ],
   "source": [
    "print(\"median using the diy function: {}\".format(dataset_median(df_subcategory_without_bookcases['sales'])))\n",
    "print(\"median using pandas median   : {}\".format(df_subcategory_without_bookcases['sales'].median()))\n",
    "\n",
    "# As we have an even number of elements, there is no sub category that is the median of the dataset\n",
    "# print(\"Sub-Category: {}\".format(df_subcategory_without_bookcases[df_subcategory_without_bookcases['sales'] == dataset_median(df_subcategory_without_bookcases['sales'])]['Sub-Category'].values[0]))"
   ]
  },
  {
   "cell_type": "markdown",
   "id": "7ae6a649-b50d-4bec-8036-2a38c7db60c4",
   "metadata": {},
   "source": [
    "Plotting the box plot, we can see that now the median is between the two middle points."
   ]
  },
  {
   "cell_type": "code",
   "execution_count": 23,
   "id": "42cc8dc7-cf65-47e9-b933-d6c9d0c9788b",
   "metadata": {},
   "outputs": [
    {
     "data": {
      "text/html": [
       "\n",
       "<style>\n",
       "  #altair-viz-27641e1908864a4a94fc2e8fe5473a91.vega-embed {\n",
       "    width: 100%;\n",
       "    display: flex;\n",
       "  }\n",
       "\n",
       "  #altair-viz-27641e1908864a4a94fc2e8fe5473a91.vega-embed details,\n",
       "  #altair-viz-27641e1908864a4a94fc2e8fe5473a91.vega-embed details summary {\n",
       "    position: relative;\n",
       "  }\n",
       "</style>\n",
       "<div id=\"altair-viz-27641e1908864a4a94fc2e8fe5473a91\"></div>\n",
       "<script type=\"text/javascript\">\n",
       "  var VEGA_DEBUG = (typeof VEGA_DEBUG == \"undefined\") ? {} : VEGA_DEBUG;\n",
       "  (function(spec, embedOpt){\n",
       "    let outputDiv = document.currentScript.previousElementSibling;\n",
       "    if (outputDiv.id !== \"altair-viz-27641e1908864a4a94fc2e8fe5473a91\") {\n",
       "      outputDiv = document.getElementById(\"altair-viz-27641e1908864a4a94fc2e8fe5473a91\");\n",
       "    }\n",
       "    const paths = {\n",
       "      \"vega\": \"https://cdn.jsdelivr.net/npm/vega@5?noext\",\n",
       "      \"vega-lib\": \"https://cdn.jsdelivr.net/npm/vega-lib?noext\",\n",
       "      \"vega-lite\": \"https://cdn.jsdelivr.net/npm/vega-lite@5.20.1?noext\",\n",
       "      \"vega-embed\": \"https://cdn.jsdelivr.net/npm/vega-embed@6?noext\",\n",
       "    };\n",
       "\n",
       "    function maybeLoadScript(lib, version) {\n",
       "      var key = `${lib.replace(\"-\", \"\")}_version`;\n",
       "      return (VEGA_DEBUG[key] == version) ?\n",
       "        Promise.resolve(paths[lib]) :\n",
       "        new Promise(function(resolve, reject) {\n",
       "          var s = document.createElement('script');\n",
       "          document.getElementsByTagName(\"head\")[0].appendChild(s);\n",
       "          s.async = true;\n",
       "          s.onload = () => {\n",
       "            VEGA_DEBUG[key] = version;\n",
       "            return resolve(paths[lib]);\n",
       "          };\n",
       "          s.onerror = () => reject(`Error loading script: ${paths[lib]}`);\n",
       "          s.src = paths[lib];\n",
       "        });\n",
       "    }\n",
       "\n",
       "    function showError(err) {\n",
       "      outputDiv.innerHTML = `<div class=\"error\" style=\"color:red;\">${err}</div>`;\n",
       "      throw err;\n",
       "    }\n",
       "\n",
       "    function displayChart(vegaEmbed) {\n",
       "      vegaEmbed(outputDiv, spec, embedOpt)\n",
       "        .catch(err => showError(`Javascript Error: ${err.message}<br>This usually means there's a typo in your chart specification. See the javascript console for the full traceback.`));\n",
       "    }\n",
       "\n",
       "    if(typeof define === \"function\" && define.amd) {\n",
       "      requirejs.config({paths});\n",
       "      require([\"vega-embed\"], displayChart, err => showError(`Error loading script: ${err.message}`));\n",
       "    } else {\n",
       "      maybeLoadScript(\"vega\", \"5\")\n",
       "        .then(() => maybeLoadScript(\"vega-lite\", \"5.20.1\"))\n",
       "        .then(() => maybeLoadScript(\"vega-embed\", \"6\"))\n",
       "        .catch(showError)\n",
       "        .then(() => displayChart(vegaEmbed));\n",
       "    }\n",
       "  })({\"config\": {\"view\": {\"continuousWidth\": 300, \"continuousHeight\": 300}}, \"layer\": [{\"mark\": {\"type\": \"boxplot\", \"size\": 40}, \"encoding\": {\"x\": {\"field\": \"sales\", \"type\": \"quantitative\"}}}, {\"mark\": {\"type\": \"point\", \"color\": \"#953f0a\", \"filled\": true, \"opacity\": 0.8, \"size\": 50}, \"encoding\": {\"tooltip\": [{\"field\": \"Sub-Category\", \"type\": \"nominal\"}, {\"field\": \"sales\", \"type\": \"quantitative\"}], \"x\": {\"field\": \"sales\", \"type\": \"quantitative\"}}}], \"data\": {\"name\": \"data-8d5be7d9a55cf084c6067a4e4960c376\"}, \"height\": 100, \"title\": \"Sales by Sub-category box plot\", \"width\": 620, \"$schema\": \"https://vega.github.io/schema/vega-lite/v5.20.1.json\", \"datasets\": {\"data-8d5be7d9a55cf084c6067a4e4960c376\": [{\"Sub-Category\": \"Fasteners\", \"sales\": 3024.28}, {\"Sub-Category\": \"Labels\", \"sales\": 12486.312}, {\"Sub-Category\": \"Envelopes\", \"sales\": 16476.402000000002}, {\"Sub-Category\": \"Art\", \"sales\": 27118.792}, {\"Sub-Category\": \"Supplies\", \"sales\": 46673.538}, {\"Sub-Category\": \"Paper\", \"sales\": 78479.206}, {\"Sub-Category\": \"Furnishings\", \"sales\": 91705.164}, {\"Sub-Category\": \"Appliances\", \"sales\": 107532.161}, {\"Sub-Category\": \"Copiers\", \"sales\": 149528.03}, {\"Sub-Category\": \"Accessories\", \"sales\": 167380.318}, {\"Sub-Category\": \"Machines\", \"sales\": 189238.631}, {\"Sub-Category\": \"Binders\", \"sales\": 203412.733}, {\"Sub-Category\": \"Tables\", \"sales\": 206965.532}, {\"Sub-Category\": \"Storage\", \"sales\": 223843.608}, {\"Sub-Category\": \"Chairs\", \"sales\": 328449.103}, {\"Sub-Category\": \"Phones\", \"sales\": 330007.054}]}}, {\"mode\": \"vega-lite\"});\n",
       "</script>"
      ],
      "text/plain": [
       "alt.LayerChart(...)"
      ]
     },
     "execution_count": 23,
     "metadata": {},
     "output_type": "execute_result"
    }
   ],
   "source": [
    "points = (alt\n",
    "          .Chart(df_subcategory_without_bookcases)\n",
    "          .mark_point(size = 50, filled=True, opacity=0.8, color = '#953f0a')\n",
    "          .encode(\n",
    "              x = alt.X('sales:Q'),\n",
    "              tooltip = ['Sub-Category:N', 'sales:Q']                        \n",
    "          )\n",
    "         )\n",
    "\n",
    "box = (alt\n",
    "       .Chart(df_subcategory_without_bookcases)\n",
    "       .mark_boxplot(size = 40)\n",
    "       .encode(\n",
    "           x = alt.X('sales:Q')\n",
    "       )\n",
    "      )\n",
    "       \n",
    "\n",
    "chart = (box + points).properties(\n",
    "    title = 'Sales by Sub-category box plot',\n",
    "    width = 620,\n",
    "    height = 100\n",
    ")\n",
    "\n",
    "chart"
   ]
  },
  {
   "cell_type": "code",
   "execution_count": 24,
   "id": "0389cc33-8ea0-40c4-8928-9d3b0157ab46",
   "metadata": {},
   "outputs": [
    {
     "data": {
      "text/plain": [
       "0.9219544457292888"
      ]
     },
     "execution_count": 24,
     "metadata": {},
     "output_type": "execute_result"
    }
   ],
   "source": [
    "np.sqrt(0.85)"
   ]
  },
  {
   "cell_type": "code",
   "execution_count": 27,
   "id": "be200d34-d4e1-478a-95e2-616975a89d4e",
   "metadata": {},
   "outputs": [
    {
     "data": {
      "text/plain": [
       "24.3"
      ]
     },
     "execution_count": 27,
     "metadata": {},
     "output_type": "execute_result"
    }
   ],
   "source": [
    "(52.9-4.3)/2"
   ]
  },
  {
   "cell_type": "code",
   "execution_count": 30,
   "id": "429585e0-f340-458d-a3cc-9a2d9ef8cbfc",
   "metadata": {},
   "outputs": [
    {
     "data": {
      "text/plain": [
       "108.0"
      ]
     },
     "execution_count": 30,
     "metadata": {},
     "output_type": "execute_result"
    }
   ],
   "source": [
    "(144+72)/2"
   ]
  },
  {
   "cell_type": "code",
   "execution_count": 29,
   "id": "26109160-6ade-45f0-8f63-9737897befc4",
   "metadata": {},
   "outputs": [
    {
     "data": {
      "text/plain": [
       "8.867822672991984"
      ]
     },
     "execution_count": 29,
     "metadata": {},
     "output_type": "execute_result"
    }
   ],
   "source": [
    "108418/12226"
   ]
  },
  {
   "cell_type": "code",
   "execution_count": 26,
   "id": "8db1ef3d-54c0-4194-b5ea-757db8182150",
   "metadata": {},
   "outputs": [
    {
     "data": {
      "text/plain": [
       "0.09744166811770852"
      ]
     },
     "execution_count": 26,
     "metadata": {},
     "output_type": "execute_result"
    }
   ],
   "source": [
    "223843/(719047+836154+741999)"
   ]
  },
  {
   "cell_type": "code",
   "execution_count": null,
   "id": "cc47cc9d-1d94-4e77-8718-43ae8098ebda",
   "metadata": {},
   "outputs": [],
   "source": []
  },
  {
   "cell_type": "code",
   "execution_count": null,
   "id": "efbe6915-8f6d-43cb-a229-c75587037778",
   "metadata": {},
   "outputs": [],
   "source": []
  },
  {
   "cell_type": "code",
   "execution_count": null,
   "id": "8a51f929-19a4-4849-aaea-4b2d13b4ec0a",
   "metadata": {},
   "outputs": [],
   "source": []
  },
  {
   "cell_type": "code",
   "execution_count": null,
   "id": "549bb357-99f0-4bc6-a421-8b0715b7c470",
   "metadata": {},
   "outputs": [],
   "source": []
  },
  {
   "cell_type": "code",
   "execution_count": null,
   "id": "8503e4e1-46de-44a0-8f2a-b95f0dc6d235",
   "metadata": {},
   "outputs": [],
   "source": []
  },
  {
   "cell_type": "code",
   "execution_count": 22,
   "id": "b81c913d-e0d1-403d-b703-2194dd2bdc78",
   "metadata": {},
   "outputs": [
    {
     "data": {
      "text/html": [
       "\n",
       "<style>\n",
       "  #altair-viz-6a52d7b5302a4b24abd4af07456f14d3.vega-embed {\n",
       "    width: 100%;\n",
       "    display: flex;\n",
       "  }\n",
       "\n",
       "  #altair-viz-6a52d7b5302a4b24abd4af07456f14d3.vega-embed details,\n",
       "  #altair-viz-6a52d7b5302a4b24abd4af07456f14d3.vega-embed details summary {\n",
       "    position: relative;\n",
       "  }\n",
       "</style>\n",
       "<div id=\"altair-viz-6a52d7b5302a4b24abd4af07456f14d3\"></div>\n",
       "<script type=\"text/javascript\">\n",
       "  var VEGA_DEBUG = (typeof VEGA_DEBUG == \"undefined\") ? {} : VEGA_DEBUG;\n",
       "  (function(spec, embedOpt){\n",
       "    let outputDiv = document.currentScript.previousElementSibling;\n",
       "    if (outputDiv.id !== \"altair-viz-6a52d7b5302a4b24abd4af07456f14d3\") {\n",
       "      outputDiv = document.getElementById(\"altair-viz-6a52d7b5302a4b24abd4af07456f14d3\");\n",
       "    }\n",
       "    const paths = {\n",
       "      \"vega\": \"https://cdn.jsdelivr.net/npm/vega@5?noext\",\n",
       "      \"vega-lib\": \"https://cdn.jsdelivr.net/npm/vega-lib?noext\",\n",
       "      \"vega-lite\": \"https://cdn.jsdelivr.net/npm/vega-lite@5.20.1?noext\",\n",
       "      \"vega-embed\": \"https://cdn.jsdelivr.net/npm/vega-embed@6?noext\",\n",
       "    };\n",
       "\n",
       "    function maybeLoadScript(lib, version) {\n",
       "      var key = `${lib.replace(\"-\", \"\")}_version`;\n",
       "      return (VEGA_DEBUG[key] == version) ?\n",
       "        Promise.resolve(paths[lib]) :\n",
       "        new Promise(function(resolve, reject) {\n",
       "          var s = document.createElement('script');\n",
       "          document.getElementsByTagName(\"head\")[0].appendChild(s);\n",
       "          s.async = true;\n",
       "          s.onload = () => {\n",
       "            VEGA_DEBUG[key] = version;\n",
       "            return resolve(paths[lib]);\n",
       "          };\n",
       "          s.onerror = () => reject(`Error loading script: ${paths[lib]}`);\n",
       "          s.src = paths[lib];\n",
       "        });\n",
       "    }\n",
       "\n",
       "    function showError(err) {\n",
       "      outputDiv.innerHTML = `<div class=\"error\" style=\"color:red;\">${err}</div>`;\n",
       "      throw err;\n",
       "    }\n",
       "\n",
       "    function displayChart(vegaEmbed) {\n",
       "      vegaEmbed(outputDiv, spec, embedOpt)\n",
       "        .catch(err => showError(`Javascript Error: ${err.message}<br>This usually means there's a typo in your chart specification. See the javascript console for the full traceback.`));\n",
       "    }\n",
       "\n",
       "    if(typeof define === \"function\" && define.amd) {\n",
       "      requirejs.config({paths});\n",
       "      require([\"vega-embed\"], displayChart, err => showError(`Error loading script: ${err.message}`));\n",
       "    } else {\n",
       "      maybeLoadScript(\"vega\", \"5\")\n",
       "        .then(() => maybeLoadScript(\"vega-lite\", \"5.20.1\"))\n",
       "        .then(() => maybeLoadScript(\"vega-embed\", \"6\"))\n",
       "        .catch(showError)\n",
       "        .then(() => displayChart(vegaEmbed));\n",
       "    }\n",
       "  })({\"config\": {\"view\": {\"continuousWidth\": 300, \"continuousHeight\": 300}}, \"vconcat\": [{\"layer\": [{\"mark\": {\"type\": \"boxplot\", \"extent\": 1.5, \"outliers\": true, \"ticks\": true}, \"encoding\": {\"x\": {\"field\": \"x\", \"type\": \"quantitative\"}}}, {\"mark\": {\"type\": \"circle\", \"color\": \"black\", \"size\": 120}, \"encoding\": {\"x\": {\"field\": \"x\", \"scale\": {\"zero\": false}, \"type\": \"quantitative\"}}}]}, {\"layer\": [{\"mark\": {\"type\": \"rect\", \"color\": \"red\"}, \"encoding\": {\"x\": {\"field\": \"xmin\", \"type\": \"quantitative\"}, \"x2\": {\"field\": \"xmax\"}}, \"transform\": [{\"aggregate\": [{\"op\": \"min\", \"field\": \"x\", \"as\": \"xmin\"}, {\"op\": \"max\", \"field\": \"x\", \"as\": \"xmax\"}]}]}, {\"mark\": {\"type\": \"rect\", \"color\": \"orange\"}, \"encoding\": {\"x\": {\"aggregate\": \"min\", \"field\": \"x\", \"type\": \"quantitative\"}, \"x2\": {\"aggregate\": \"max\", \"field\": \"x\"}}, \"transform\": [{\"joinaggregate\": [{\"op\": \"q1\", \"field\": \"x\", \"as\": \"q1\"}, {\"op\": \"q3\", \"field\": \"x\", \"as\": \"q3\"}]}, {\"calculate\": \"datum.q3 - datum.q1\", \"as\": \"iqr\"}, {\"filter\": \"datum.x < (datum.q3 + datum.iqr * 1.5)&& datum.x > (datum.q1 - datum.iqr * 1.5)\"}]}, {\"mark\": {\"type\": \"rect\", \"color\": \"lime\"}, \"encoding\": {\"x\": {\"aggregate\": \"q1\", \"field\": \"x\", \"type\": \"quantitative\"}, \"x2\": {\"aggregate\": \"q3\", \"field\": \"x\"}}}, {\"mark\": {\"type\": \"circle\", \"color\": \"black\", \"size\": 120}, \"encoding\": {\"x\": {\"field\": \"x\", \"scale\": {\"zero\": false}, \"type\": \"quantitative\"}}}], \"width\": 1000}], \"data\": {\"name\": \"data-6df999a916b754e5388a94d4707f96bd\"}, \"resolve\": {\"scale\": {\"x\": \"shared\"}}, \"$schema\": \"https://vega.github.io/schema/vega-lite/v5.20.1.json\", \"datasets\": {\"data-6df999a916b754e5388a94d4707f96bd\": [{\"x\": 0.0}, {\"x\": 3.0}, {\"x\": 4.4}, {\"x\": 4.5}, {\"x\": 4.6}, {\"x\": 5.0}, {\"x\": 7.0}]}}, {\"mode\": \"vega-lite\"});\n",
       "</script>"
      ],
      "text/plain": [
       "alt.VConcatChart(...)"
      ]
     },
     "execution_count": 22,
     "metadata": {},
     "output_type": "execute_result"
    }
   ],
   "source": [
    "values =  [0, 3, 4.4, 4.5, 4.6, 5, 7]\n",
    "df = pd.DataFrame({'x': values})\n",
    "\n",
    "points = alt.Chart(df).mark_circle(color='black', size=120).encode(\n",
    "    x=alt.X('x:Q', scale=alt.Scale(zero=False)),\n",
    ")\n",
    "\n",
    "boxplot = alt.Chart(df).mark_boxplot(ticks=True, extent=1.5, outliers=True).encode(\n",
    "    x='x:Q',\n",
    ")\n",
    "\n",
    "iqr = alt.Chart(df).mark_rect(color='lime').encode(\n",
    "    x='q1(x):Q',\n",
    "    x2='q3(x):Q'\n",
    ")\n",
    "\n",
    "whiskers = alt.Chart(df).mark_rect(color='orange').transform_joinaggregate(\n",
    "    q1='q1(x)',\n",
    "    q3='q3(x)',\n",
    ").transform_calculate(\n",
    "    iqr='datum.q3 - datum.q1'\n",
    ").transform_filter(\n",
    "    # VL concatenates these strings so we can split\n",
    "    # them on two lines to improve readability\n",
    "    'datum.x < (datum.q3 + datum.iqr * 1.5)'\n",
    "    '&& datum.x > (datum.q1 - datum.iqr * 1.5)'\n",
    ").encode(\n",
    "    x='min(x)',\n",
    "    x2='max(x)',\n",
    ")\n",
    "\n",
    "minmax = alt.Chart(df).mark_rect(color='red').transform_aggregate(\n",
    "    xmin='min(x)',\n",
    "    xmax='max(x)'\n",
    ").encode(\n",
    "    x='xmin:Q',\n",
    "    x2='xmax:Q',\n",
    ").properties(width=1000)\n",
    "\n",
    "\n",
    "((boxplot + points) & (minmax + whiskers + iqr + points)).resolve_scale(x='shared')"
   ]
  },
  {
   "cell_type": "markdown",
   "id": "57d0083c-998a-40b0-963f-0815a31d4b9a",
   "metadata": {},
   "source": [
    "In this plot, the median value "
   ]
  },
  {
   "cell_type": "code",
   "execution_count": null,
   "id": "d2c9c89d-9ef8-4b98-8010-f44e120c0c2f",
   "metadata": {},
   "outputs": [],
   "source": [
    "df_subcategory_without_bookcases['sales'].median()"
   ]
  },
  {
   "cell_type": "code",
   "execution_count": null,
   "id": "6b68b37b-b5e0-4e9a-875c-7081427956b5",
   "metadata": {},
   "outputs": [],
   "source": [
    "df_subcategory_sales"
   ]
  },
  {
   "cell_type": "code",
   "execution_count": null,
   "id": "adac9967-f7f2-485a-a714-a692496d25b2",
   "metadata": {},
   "outputs": [],
   "source": [
    "dataset_median(new_dataset)"
   ]
  },
  {
   "cell_type": "code",
   "execution_count": null,
   "id": "966e4d29-2709-40d1-a67e-6d954ad1416d",
   "metadata": {},
   "outputs": [],
   "source": [
    "dataset.median()"
   ]
  },
  {
   "cell_type": "code",
   "execution_count": null,
   "id": "0259a741-ce88-4206-a5fb-1b15c9db5b9a",
   "metadata": {},
   "outputs": [],
   "source": []
  },
  {
   "cell_type": "code",
   "execution_count": null,
   "id": "440cee1f-861b-4050-aa70-cbfb3315ba19",
   "metadata": {},
   "outputs": [],
   "source": [
    "df_subcategory_sales = (data\n",
    " .groupby('Sub-Category', observed=True)\n",
    " .agg(\n",
    "     sales = ('Sales', 'sum'),\n",
    " ).reset_index()\n",
    ")\n",
    "\n",
    "dataset = df_subcategory_sales['sales']\n",
    "\n",
    "midpoint = len(dataset)/2\n",
    "if midpoint%2 != 0:\n",
    "    print(dataset.sort_values().iloc[int(midpoint)])\n",
    "else:\n",
    "    print((dataset.sort_values().iloc[int(midpoint)]+dataset.sort_values().iloc[int(midpoint)+1])/2)\n",
    "\n",
    "# dataset.sort_values()"
   ]
  },
  {
   "cell_type": "code",
   "execution_count": null,
   "id": "51595d2e-9687-4e23-8622-f44fde165602",
   "metadata": {},
   "outputs": [],
   "source": [
    "new_dataset = dataset.drop(labels=dataset[dataset.values == 114879.9963].index)"
   ]
  },
  {
   "cell_type": "code",
   "execution_count": null,
   "id": "0734be96-d79a-4565-a007-2a86317d9b96",
   "metadata": {},
   "outputs": [],
   "source": [
    "new_dataset.median()"
   ]
  },
  {
   "cell_type": "code",
   "execution_count": null,
   "id": "72e468f1-86a9-452b-8ba6-5bf53eaadda2",
   "metadata": {},
   "outputs": [],
   "source": [
    "midpoint = len(new_dataset)/2\n",
    "if midpoint%2 != 0:\n",
    "    print(new_dataset.sort_values().iloc[int(midpoint)])\n",
    "else:\n",
    "    print((new_dataset.sort_values().iloc[int(midpoint)-1]+new_dataset.sort_values().iloc[int(midpoint)])/2)"
   ]
  },
  {
   "cell_type": "code",
   "execution_count": null,
   "id": "3a40b9fe-f51a-42ca-a970-034814c2227e",
   "metadata": {},
   "outputs": [],
   "source": []
  },
  {
   "cell_type": "code",
   "execution_count": null,
   "id": "a8786806-5eca-46c8-bed6-5940b3e10e9c",
   "metadata": {},
   "outputs": [],
   "source": [
    "dataset.sort_values().iloc[1]"
   ]
  },
  {
   "cell_type": "code",
   "execution_count": null,
   "id": "0903810f-7198-4cf3-87c0-9ce61327d8ea",
   "metadata": {},
   "outputs": [],
   "source": [
    "median = df_subcategory_sales['sales'].median()\n",
    "print(\"sales median as computed by numpy: {}\".format(median))\n",
    "\n",
    "\n",
    "df_subcategory_sales.iloc[8]"
   ]
  },
  {
   "cell_type": "code",
   "execution_count": null,
   "id": "82f3fe53-a704-4261-a46d-e9d775132182",
   "metadata": {},
   "outputs": [],
   "source": [
    "def median(dataset):\n",
    "    len_data = df_subcategory_sales.shape[0]\n",
    "    \n",
    "    if (len_data % 2) != 0:\n",
    "        mid_point_index = len_data //2\n",
    "        print(df_subcategory_sales.iloc[mid_point_index])"
   ]
  },
  {
   "cell_type": "code",
   "execution_count": null,
   "id": "b8b7f789-8915-4682-8e86-35fdb4bd4c98",
   "metadata": {},
   "outputs": [],
   "source": [
    "dataset = df_subcategory_sales['sales']\n",
    "dataset.sort_values()"
   ]
  },
  {
   "cell_type": "code",
   "execution_count": null,
   "id": "2e835608-e8df-4eb0-8a8e-6055921744d9",
   "metadata": {},
   "outputs": [],
   "source": []
  },
  {
   "cell_type": "code",
   "execution_count": null,
   "id": "a1a3505f-07c6-416a-aec9-0bfdb92c2bd9",
   "metadata": {},
   "outputs": [],
   "source": [
    "df_subcategory_sales.sort_values('sales').reset_index(drop=True).iloc[3]"
   ]
  },
  {
   "cell_type": "markdown",
   "id": "523208c3-e547-4e31-8368-2d1ae6b95ba7",
   "metadata": {},
   "source": [
    "In statistics, ***quantiles*** are particular points dividing a sample into equally sized, adjacent subgroups. As an example, the median is a quantiles, so that exactly half of the data is lower than the median and half of the data is above the median.\n",
    "***Quartiles*** divide the distribution into four equal part.\n",
    "\n",
    "In our example, we are considering the sales points from the different Sub Categories. To determine which data point belongs to the right quartile, se sort the values and divide the array into 4 equal parts:"
   ]
  },
  {
   "cell_type": "markdown",
   "id": "c01c3fab-59d4-4728-a67e-a8f095e4e928",
   "metadata": {},
   "source": [
    "The middle point of the `sales` column is Bookcases, 114879.9963: this value represent the median of the dataset. Now, we break down it further into 4 equal parts and obtain:\n",
    "- 1st Quartile: `Fastners`, `Labels`, `Envelops` and `Art`\n",
    "- 2nd Quartile: `Supplies`, `Paper`, `Furnishing` and `Appliances`\n",
    "- Median: `Bookcases`\n",
    "- 3rd Quartile: `Copiers`, `Accessories`, `Machines` and `Binders`\n",
    "- 4th Quartile: `Tables`, `Storage`, `Chairs` and `Phones`\n",
    "\n",
    "`pandas` and `numpy` both offer methods to easily compute quartile, but to better understand it, let's reinvent the wheel and define a Python function that do the same. To do it, we will go back to the very definition of quartile and focus on the standard definition about the percentages (0.25, 0.5, 0.6"
   ]
  },
  {
   "cell_type": "code",
   "execution_count": null,
   "id": "bd21d17f-2270-4e7a-bfbb-c47d1bf66d5c",
   "metadata": {},
   "outputs": [],
   "source": [
    "df_subcategory_sales[df_subcategory_sales['sales'] < df_subcategory_sales['sales'].quantile(0.25)]"
   ]
  },
  {
   "cell_type": "code",
   "execution_count": null,
   "id": "0f102f55-f038-49b2-a6ff-c6593123a773",
   "metadata": {},
   "outputs": [],
   "source": [
    "df_subcategory_sales[(df_subcategory_sales['sales'] >= df_subcategory_sales['sales'].quantile(0.25)) & (df_subcategory_sales['sales'] < df_subcategory_sales['sales'].median())]"
   ]
  },
  {
   "cell_type": "markdown",
   "id": "18a2276a-9547-40e6-916e-06061d25b67d",
   "metadata": {},
   "source": [
    "To make it more clear, let's plot the box plot and the associated points"
   ]
  },
  {
   "cell_type": "code",
   "execution_count": null,
   "id": "0177eb6e-f743-48f4-af33-fc6cb9b09212",
   "metadata": {},
   "outputs": [],
   "source": [
    "points = (alt\n",
    "          .Chart(df_subcategory_sales)\n",
    "          .mark_point(size = 50, filled=True, opacity=0.8, color = '#953f0a')\n",
    "          .encode(\n",
    "              x = alt.X('sales:Q'),\n",
    "              tooltip = ['Sub-Category:N', 'sales:Q']                        \n",
    "          )\n",
    "          # .configure_mark(\n",
    "          #     opacity=0.8,\n",
    "          #     color='#953f0a'\n",
    "          # )\n",
    "         )\n",
    "\n",
    "box = (alt\n",
    "       .Chart(df_subcategory_sales)\n",
    "       .mark_boxplot(size = 40)\n",
    "       .encode(\n",
    "           x = alt.X('sales:Q')\n",
    "       )\n",
    "      )\n",
    "       \n",
    "\n",
    "chart = (box + points).properties(\n",
    "    title = 'Sales by Sub-category box plot',\n",
    "    width = 620,\n",
    "    height = 100\n",
    ")\n",
    "\n",
    "chart"
   ]
  },
  {
   "cell_type": "code",
   "execution_count": null,
   "id": "a2dd75e8-7ffa-4c12-8777-a5b84b07a18d",
   "metadata": {},
   "outputs": [],
   "source": []
  },
  {
   "cell_type": "code",
   "execution_count": null,
   "id": "97674d0f-cf4d-4b1e-80eb-928a4e59436f",
   "metadata": {},
   "outputs": [],
   "source": [
    "df_test = df_subcategory_sales[df_subcategory_sales['Sub-Category'] != 'Bookcases'].reset_index(drop=True)\n",
    "df_test"
   ]
  },
  {
   "cell_type": "code",
   "execution_count": null,
   "id": "85a02691-321c-4a3c-abab-37f97d3a9cca",
   "metadata": {},
   "outputs": [],
   "source": [
    "points = (alt\n",
    "          .Chart(df_test)\n",
    "          .mark_point(size = 50, filled=True, opacity=0.8, color = '#953f0a')\n",
    "          .encode(\n",
    "              x = alt.X('sales:Q'),\n",
    "              tooltip = ['Sub-Category:N', 'sales:Q']                        \n",
    "          )\n",
    "         )\n",
    "\n",
    "box = (alt\n",
    "       .Chart(df_test)\n",
    "       .mark_boxplot(size = 40)\n",
    "       .encode(\n",
    "           x = alt.X('sales:Q')\n",
    "       )\n",
    "      )\n",
    "       \n",
    "\n",
    "chart = (box + points).properties(\n",
    "    title = 'Sales by Sub-category box plot',\n",
    "    width = 620,\n",
    "    height = 100\n",
    ")\n",
    "\n",
    "chart"
   ]
  },
  {
   "cell_type": "markdown",
   "id": "63fa04b8-382f-404c-8342-51c397b7b467",
   "metadata": {},
   "source": [
    "## IQR - Interquartile Range"
   ]
  },
  {
   "cell_type": "markdown",
   "id": "1ade590d-51ba-483a-9eb8-3dcf08a9945e",
   "metadata": {},
   "source": [
    "In our example, the dataset consist of points that are quete close each other, meaning that they do not particularly spread all over the possible values. Let's now focus our analyisis on the same Sales dataset but we now want to consider the sales only in the `Central` region."
   ]
  },
  {
   "cell_type": "code",
   "execution_count": null,
   "id": "8eef3d2f-4883-4cba-9137-701947a106a3",
   "metadata": {},
   "outputs": [],
   "source": [
    "df_central_sales = (data[data['Region'] == 'Central']\n",
    "                    .groupby('Sub-Category')\n",
    "                    .agg(\n",
    "                        sales = ('Sales','sum')\n",
    "                    )\n",
    "                   ).sort_values('sales').reset_index()\n",
    "\n",
    "\n",
    "points = (alt\n",
    "          .Chart(df_central_sales)\n",
    "          .mark_point(size = 50, filled=True, opacity=0.8, color = '#953f0a')\n",
    "          .encode(\n",
    "              y = alt.Y('sales:Q'),\n",
    "              tooltip = ['Sub-Category:N', 'sales:Q']                        \n",
    "          )\n",
    "\n",
    "         )\n",
    "\n",
    "box = (alt\n",
    "       .Chart(df_central_sales)\n",
    "       .mark_boxplot(size = 40)\n",
    "       .encode(\n",
    "           y = alt.Y('sales:Q')\n",
    "       )\n",
    "      )\n",
    "       \n",
    "\n",
    "chart = (box + points).properties(\n",
    "    title = 'Sales by Sub-category in Central Region box plot',\n",
    "    width = 100,\n",
    "    height = 420\n",
    ")\n",
    "\n",
    "chart"
   ]
  },
  {
   "cell_type": "code",
   "execution_count": null,
   "id": "da9bd505-c78f-4ac4-a696-caabf3423b84",
   "metadata": {},
   "outputs": [],
   "source": []
  },
  {
   "cell_type": "code",
   "execution_count": null,
   "id": "72ccca8e-cf3a-4eb1-abca-1eb84fd1e538",
   "metadata": {},
   "outputs": [],
   "source": [
    "df_subcategory_profit = (data\n",
    " .groupby('Sub-Category', observed=True)\n",
    " .agg(\n",
    "     profit = ('Profit', 'sum'),\n",
    " )\n",
    ").reset_index().sort_values('profit', ascending = False)\n",
    "\n",
    "box = (alt\n",
    "       .Chart(df_subcategory_profit)\n",
    "       .mark_boxplot(size = 40)\n",
    "       .encode(\n",
    "           y = alt.Y('profit:Q')\n",
    "       )\n",
    "      )\n",
    "\n",
    "box.properties(\n",
    "    title = 'Profit by Sub-category box plot',\n",
    "    width = 100,\n",
    "    height = 420\n",
    ")"
   ]
  },
  {
   "cell_type": "code",
   "execution_count": null,
   "id": "cf1ca235-bc94-49d6-9811-698cfbfb7b7c",
   "metadata": {},
   "outputs": [],
   "source": [
    "df_subcategory_profit"
   ]
  },
  {
   "cell_type": "code",
   "execution_count": null,
   "id": "7300752b-b519-414b-adaa-e42233e0b53a",
   "metadata": {},
   "outputs": [],
   "source": [
    "points = (alt\n",
    "          .Chart(df_subcategory_profit)\n",
    "          .mark_point(size = 50, filled=True, opacity=0.8, color = '#953f0a')\n",
    "          .encode(\n",
    "              y = alt.Y('profit:Q'),\n",
    "              tooltip = ['Sub-Category:N', 'profit:Q']                        \n",
    "          )\n",
    "          # .configure_mark(\n",
    "          #     opacity=0.8,\n",
    "          #     color='#953f0a'\n",
    "          # )\n",
    "         )\n",
    "\n",
    "box = (alt\n",
    "       .Chart(df_subcategory_profit)\n",
    "       .mark_boxplot(size = 40)\n",
    "       .encode(\n",
    "           y = alt.Y('profit:Q')\n",
    "       )\n",
    "      )\n",
    "       \n",
    "\n",
    "chart = (box + points).properties(\n",
    "    title = 'Profit by Sub-category box plot',\n",
    "    width = 100,\n",
    "    height = 420\n",
    ")\n",
    "\n",
    "chart"
   ]
  },
  {
   "cell_type": "markdown",
   "id": "c1297a90-57b3-47ba-a5dd-7903837e2a1a",
   "metadata": {},
   "source": [
    "The Interquartile Range is an important measure of statistical dispersion and its definition is quite basic: is the difference between the third and first quartile. \n",
    "\n",
    "$$\n",
    "IQR = Q_{3}- Q{1}\n",
    "$$"
   ]
  },
  {
   "cell_type": "code",
   "execution_count": null,
   "id": "b43fdc73-b459-44c2-967a-154fd29b31a5",
   "metadata": {},
   "outputs": [],
   "source": [
    "df_subcategory_sales['sales'].quantile(0.75) - df_subcategory_sales['sales'].quantile(0.25)"
   ]
  },
  {
   "cell_type": "markdown",
   "id": "e169564e-dd63-4650-ae16-1a2ef4f07d3a",
   "metadata": {},
   "source": [
    "The interquartile range plays an important role when we want to identify points in the dataset that are potentially outliers, i.e. points quite far away from the distribution. In a boxplot, "
   ]
  },
  {
   "cell_type": "markdown",
   "id": "8bf89b9f-82f8-4f81-89ed-eacab09fc666",
   "metadata": {},
   "source": [
    "In statistics, "
   ]
  },
  {
   "cell_type": "code",
   "execution_count": null,
   "id": "f3f2b7bf-525a-4a4a-97ae-89256b3cd71a",
   "metadata": {},
   "outputs": [],
   "source": []
  },
  {
   "cell_type": "code",
   "execution_count": null,
   "id": "088d1b1f-cca2-4cae-8d79-4fb8030f22df",
   "metadata": {},
   "outputs": [],
   "source": [
    "df_subcategory_sales['sales'].min()"
   ]
  },
  {
   "cell_type": "code",
   "execution_count": null,
   "id": "2dc0f950-d050-48fb-b805-5bc2b74264b1",
   "metadata": {},
   "outputs": [],
   "source": []
  },
  {
   "cell_type": "code",
   "execution_count": null,
   "id": "6e8972f6-2f8a-4af3-bf39-929e6100a409",
   "metadata": {},
   "outputs": [],
   "source": []
  },
  {
   "cell_type": "code",
   "execution_count": null,
   "id": "e68e2f1b-4ceb-42e0-8efd-9f503df1e9d8",
   "metadata": {},
   "outputs": [],
   "source": [
    "base = (alt\n",
    " .Chart(df_subcategory_sales)\n",
    "#  .mark_point()\n",
    " .encode(\n",
    "#     x = 'Sub-Category:',\n",
    "     y = 'sales'\n",
    " ).properties(\n",
    "    width=200\n",
    " )\n",
    ")\n",
    "\n",
    "base.mark_point() + base.mark_boxplot() "
   ]
  },
  {
   "cell_type": "code",
   "execution_count": null,
   "id": "33e339d9-2ae4-4fbb-8038-93b02d862675",
   "metadata": {},
   "outputs": [],
   "source": [
    "# Create the dataframe\n",
    "dataX = {\n",
    "    'Sub-Category': ['Phones', 'Chairs', 'Storage', 'Tables', 'Binders', 'Machines', \n",
    "                     'Accessories', 'Copiers', 'Bookcases', 'Appliances'],\n",
    "    'Sales': [330007.0540, 328449.1030, 223843.6080, 206965.5320, 203412.7330, \n",
    "              189238.6310, 167380.3180, 149528.0300, 114879.9963, 107532.1610]\n",
    "}\n",
    "\n",
    "dfX = pd.DataFrame(dataX)\n",
    "\n",
    "# Create the Altair scatter plot\n",
    "chart = alt.Chart(dfX).mark_point().encode(\n",
    "    x=alt.X('Sub-Category:N', sort='-y', title='Sub-Category'),\n",
    "    y=alt.Y('Sales:Q', title='Sales'),\n",
    "    tooltip=['Sub-Category:N', 'Sales:Q']  # Add tooltips\n",
    ").properties(\n",
    "    title='Sales by Sub-Category',\n",
    "    width=500,\n",
    "    height=300\n",
    ")\n",
    "\n",
    "chart.display()"
   ]
  },
  {
   "cell_type": "code",
   "execution_count": null,
   "id": "08fdb19a-509c-4608-9a8a-e712bb3fa398",
   "metadata": {},
   "outputs": [],
   "source": [
    "np.round(df_subcategory_sales['sales'].median(),0)"
   ]
  },
  {
   "cell_type": "code",
   "execution_count": null,
   "id": "12a04bb6-55dc-4998-9399-e8bd03185ff2",
   "metadata": {},
   "outputs": [],
   "source": [
    "np.quantile(df_subcategory_sales['sales'], 0.75)"
   ]
  },
  {
   "cell_type": "code",
   "execution_count": null,
   "id": "a157bd01-ee0a-48fa-b5b8-5d257439c80c",
   "metadata": {},
   "outputs": [],
   "source": [
    "data.columns"
   ]
  },
  {
   "cell_type": "code",
   "execution_count": null,
   "id": "708d4a20-a746-4cc9-b799-a033e07d29a8",
   "metadata": {},
   "outputs": [],
   "source": [
    "data.Region.unique()"
   ]
  },
  {
   "cell_type": "code",
   "execution_count": null,
   "id": "1d4dd00a-ebcb-4428-a1ae-f14641779ae6",
   "metadata": {},
   "outputs": [],
   "source": [
    "df_region_subcat = (data\n",
    "                    .groupby(['Region', 'Sub-Category'])\n",
    "                    .agg(\n",
    "                        sales = ('Sales','sum'),\n",
    "                        profit = ('Profit', 'sum'),\n",
    "                        quantity = ('Quantity', 'sum')\n",
    "                    )\n",
    "                   ).reset_index()\n",
    "\n",
    "df_region_subcat.head(2)"
   ]
  },
  {
   "cell_type": "code",
   "execution_count": null,
   "id": "bdd1981a-7498-4146-ad9f-152317c961af",
   "metadata": {},
   "outputs": [],
   "source": []
  },
  {
   "cell_type": "code",
   "execution_count": null,
   "id": "4576c85b-75ab-4d50-83f0-55fc915e0896",
   "metadata": {},
   "outputs": [],
   "source": [
    "(alt\n",
    " .Chart(df_region_subcat)\n",
    " .mark_boxplot(ticks=True, size=15)\n",
    " .encode(\n",
    "     x = 'Region:O',\n",
    "     y = 'sales:Q',\n",
    " )\n",
    " .properties(\n",
    "    width=200\n",
    " )\n",
    " .configure_view(\n",
    "    stroke=None\n",
    " )\n",
    ")"
   ]
  },
  {
   "cell_type": "code",
   "execution_count": null,
   "id": "0c0eb9e6-3b7b-4429-a8dc-1eb104264585",
   "metadata": {},
   "outputs": [],
   "source": []
  },
  {
   "cell_type": "code",
   "execution_count": null,
   "id": "f211d541-39b7-45fb-9665-9c289b3071ee",
   "metadata": {},
   "outputs": [],
   "source": []
  },
  {
   "cell_type": "code",
   "execution_count": null,
   "id": "19417d53-f2df-448e-a995-74f56d7cb5d6",
   "metadata": {},
   "outputs": [],
   "source": [
    "x = [1,2,3,4,5] \n",
    "y = [1,4,9,16,25]\n",
    "\n",
    "plt.plot(x, y)\n",
    "plt.title('Square Numbers')\n",
    "plt.xlabel('X')\n",
    "plt.ylabel('Y')\n",
    "plt.show()"
   ]
  },
  {
   "cell_type": "code",
   "execution_count": null,
   "id": "4dfb9f68-489a-4211-9455-e8b613d9141c",
   "metadata": {},
   "outputs": [],
   "source": [
    "df = pd.DataFrame({'x': [1, 2, 3, 4, 5], 'y': [1, 4, 9, 16, 25]})\n",
    "\n",
    "chart = (alt\n",
    "         .Chart(df)\n",
    "         .mark_line()\n",
    "         .encode(\n",
    "             x='x',\n",
    "             y='y'\n",
    "         ).properties(\n",
    "             title='Square Numbers'\n",
    "         )\n",
    "        )\n",
    "chart"
   ]
  },
  {
   "cell_type": "code",
   "execution_count": null,
   "id": "13acef6e-1adf-405e-a99b-80216491cefd",
   "metadata": {},
   "outputs": [],
   "source": []
  }
 ],
 "metadata": {
  "kernelspec": {
   "display_name": "Python 3 (ipykernel)",
   "language": "python",
   "name": "python3"
  },
  "language_info": {
   "codemirror_mode": {
    "name": "ipython",
    "version": 3
   },
   "file_extension": ".py",
   "mimetype": "text/x-python",
   "name": "python",
   "nbconvert_exporter": "python",
   "pygments_lexer": "ipython3",
   "version": "3.12.3"
  }
 },
 "nbformat": 4,
 "nbformat_minor": 5
}
